{
 "cells": [
  {
   "cell_type": "markdown",
   "metadata": {},
   "source": [
    "## Table of Contents\n",
    "\n",
    "### Python\n",
    "\n",
    "##  Getting and cleaning data \n",
    "### Getting Data\n",
    "- [Interacting with APIs to import data from the web.](Interacting with APIs to import data from the web.ipynb)\n",
    "- [Importing Data in Python (Part 1)](Importing Data in Python Part 1.ipynb)\n",
    "\n",
    "\n",
    "* [Scraping Datacamp Website](Scrap.ipynb)\n",
    "   \n",
    "### Cleaning Data\n",
    "- [Exploring and  Tidying]( Exploring and  Tidying.ipynb)\n",
    "- [Combining and Cleaning Data in Analysis](Combining and Cleaning Data in Analysis.ipynb)\n",
    "- [Grouping Data](Grouping Data.ipynb)\n",
    " \n",
    " \n",
    "### Manipulating Data with pandas\n",
    "   - [PANDAS.ipynb](PANDAS.ipynb)\n",
    "   - [Manipulating DataFrames with pandas](Manipulating DataFrames with pandas.ipynb)\n",
    "   - [Merge pd -Merging and Case Study](Merge pd -Merging and Case Study.ipynb)\n",
    " \n",
    "###  Exploratary Data analysis in Python\n",
    "- [Analyzing time series and images](Analyzing time series and images.ipynb)\n",
    "- [Introduction to data visualisation with python](Introduction to data visualisation with python.ipynb)\n",
    "- [Statistical plots with Seaborn](Statistical plots with Seaborn.ipynb)\n",
    "\n",
    "\n",
    "\n",
    "### Statistical thinking in Python \n",
    " - [Bootstrap](Bootstrap.ipynb)\n",
    " - [Introduction to Hypothesis Testing](Introduction to Hypothesis Testing.ipynb)\n",
    " - [Linear regression](Linear regression.ipynb)\n",
    "\n",
    "\n",
    "### [Databases]\n",
    "- [Intro. to Databases in Python(SQLAlchemy)](Introduction to databases in Python.ipynb)\n",
    "\n",
    "### [DATA SCIENCE]\n",
    "- [Supervised Learning with Scikit Learn]( Supervised Learning with Scikit Learn.ipynb)\n",
    "\n",
    "\n",
    "- [Network analysis in python](Network Analysis in python.ipynb)"
   ]
  },
  {
   "cell_type": "code",
   "execution_count": null,
   "metadata": {},
   "outputs": [],
   "source": []
  }
 ],
 "metadata": {
  "kernelspec": {
   "display_name": "Python 3",
   "language": "python",
   "name": "python3"
  },
  "language_info": {
   "codemirror_mode": {
    "name": "ipython",
    "version": 3
   },
   "file_extension": ".py",
   "mimetype": "text/x-python",
   "name": "python",
   "nbconvert_exporter": "python",
   "pygments_lexer": "ipython3",
   "version": "3.6.5"
  }
 },
 "nbformat": 4,
 "nbformat_minor": 2
}
