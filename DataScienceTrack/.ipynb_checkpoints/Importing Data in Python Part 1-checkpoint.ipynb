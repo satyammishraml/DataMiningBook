{
 "cells": [
  {
   "cell_type": "markdown",
   "metadata": {},
   "source": [
    "# Introduction and flat files"
   ]
  },
  {
   "cell_type": "markdown",
   "metadata": {},
   "source": [
    "* Importing data from the Internet\n",
    " \n",
    "    * [Importing flat files from the web](#web)\n",
    "    * [Opening and reading flat files from the web](#flat)\n",
    "    * [Importing non-flat files from the web](#excel)\n",
    "    * [HTTP requests to import file from the web](#hweb)\n",
    "        * [Performing HTTP requests in Python using urllib](#urllib)\n",
    "        * [Printing HTTP request results in Python using urllib](#print)\n",
    "        * [Performing HTTP requests in Python using requests](#requests)\n",
    "\n",
    "    * [Parsing HTML with BeautifulSoup](#soup)\n",
    "       * [Turning a webpage into data using BeautifulSoup: getting the text](#text)\n",
    "       * [Turning a webpage into data using BeautifulSoup: getting the hyperlinks](#links)  \n",
    "\n",
    "   \n",
    "   \n"
   ]
  },
  {
   "cell_type": "markdown",
   "metadata": {},
   "source": [
    "## Importing flat files from the web\n"
   ]
  },
  {
   "cell_type": "code",
   "execution_count": 1,
   "metadata": {},
   "outputs": [],
   "source": [
    "from urllib.request import urlretrieve\n",
    "import pandas as pd"
   ]
  },
  {
   "cell_type": "code",
   "execution_count": 2,
   "metadata": {},
   "outputs": [
    {
     "data": {
      "text/plain": [
       "('./data/winequality-red.csv', <http.client.HTTPMessage at 0x10732acc0>)"
      ]
     },
     "execution_count": 2,
     "metadata": {},
     "output_type": "execute_result"
    }
   ],
   "source": [
    "# Assign url of file: url\n",
    "url = 'https://s3.amazonaws.com/assets.datacamp.com/production/course_1606/datasets/winequality-red.csv'\n",
    "\n",
    "urlretrieve(url, './data/winequality-red.csv')"
   ]
  },
  {
   "cell_type": "code",
   "execution_count": 9,
   "metadata": {},
   "outputs": [],
   "source": [
    "more ./data/winequality-red.csv"
   ]
  },
  {
   "cell_type": "code",
   "execution_count": 13,
   "metadata": {},
   "outputs": [],
   "source": [
    "df = pd.read_csv('./data/winequality-red.csv', sep =';')"
   ]
  },
  {
   "cell_type": "code",
   "execution_count": 14,
   "metadata": {},
   "outputs": [
    {
     "data": {
      "text/html": [
       "<div>\n",
       "<style scoped>\n",
       "    .dataframe tbody tr th:only-of-type {\n",
       "        vertical-align: middle;\n",
       "    }\n",
       "\n",
       "    .dataframe tbody tr th {\n",
       "        vertical-align: top;\n",
       "    }\n",
       "\n",
       "    .dataframe thead th {\n",
       "        text-align: right;\n",
       "    }\n",
       "</style>\n",
       "<table border=\"1\" class=\"dataframe\">\n",
       "  <thead>\n",
       "    <tr style=\"text-align: right;\">\n",
       "      <th></th>\n",
       "      <th>fixed acidity</th>\n",
       "      <th>volatile acidity</th>\n",
       "      <th>citric acid</th>\n",
       "      <th>residual sugar</th>\n",
       "      <th>chlorides</th>\n",
       "      <th>free sulfur dioxide</th>\n",
       "      <th>total sulfur dioxide</th>\n",
       "      <th>density</th>\n",
       "      <th>pH</th>\n",
       "      <th>sulphates</th>\n",
       "      <th>alcohol</th>\n",
       "      <th>quality</th>\n",
       "    </tr>\n",
       "  </thead>\n",
       "  <tbody>\n",
       "    <tr>\n",
       "      <th>0</th>\n",
       "      <td>7.4</td>\n",
       "      <td>0.70</td>\n",
       "      <td>0.00</td>\n",
       "      <td>1.9</td>\n",
       "      <td>0.076</td>\n",
       "      <td>11.0</td>\n",
       "      <td>34.0</td>\n",
       "      <td>0.9978</td>\n",
       "      <td>3.51</td>\n",
       "      <td>0.56</td>\n",
       "      <td>9.4</td>\n",
       "      <td>5</td>\n",
       "    </tr>\n",
       "    <tr>\n",
       "      <th>1</th>\n",
       "      <td>7.8</td>\n",
       "      <td>0.88</td>\n",
       "      <td>0.00</td>\n",
       "      <td>2.6</td>\n",
       "      <td>0.098</td>\n",
       "      <td>25.0</td>\n",
       "      <td>67.0</td>\n",
       "      <td>0.9968</td>\n",
       "      <td>3.20</td>\n",
       "      <td>0.68</td>\n",
       "      <td>9.8</td>\n",
       "      <td>5</td>\n",
       "    </tr>\n",
       "    <tr>\n",
       "      <th>2</th>\n",
       "      <td>7.8</td>\n",
       "      <td>0.76</td>\n",
       "      <td>0.04</td>\n",
       "      <td>2.3</td>\n",
       "      <td>0.092</td>\n",
       "      <td>15.0</td>\n",
       "      <td>54.0</td>\n",
       "      <td>0.9970</td>\n",
       "      <td>3.26</td>\n",
       "      <td>0.65</td>\n",
       "      <td>9.8</td>\n",
       "      <td>5</td>\n",
       "    </tr>\n",
       "    <tr>\n",
       "      <th>3</th>\n",
       "      <td>11.2</td>\n",
       "      <td>0.28</td>\n",
       "      <td>0.56</td>\n",
       "      <td>1.9</td>\n",
       "      <td>0.075</td>\n",
       "      <td>17.0</td>\n",
       "      <td>60.0</td>\n",
       "      <td>0.9980</td>\n",
       "      <td>3.16</td>\n",
       "      <td>0.58</td>\n",
       "      <td>9.8</td>\n",
       "      <td>6</td>\n",
       "    </tr>\n",
       "    <tr>\n",
       "      <th>4</th>\n",
       "      <td>7.4</td>\n",
       "      <td>0.70</td>\n",
       "      <td>0.00</td>\n",
       "      <td>1.9</td>\n",
       "      <td>0.076</td>\n",
       "      <td>11.0</td>\n",
       "      <td>34.0</td>\n",
       "      <td>0.9978</td>\n",
       "      <td>3.51</td>\n",
       "      <td>0.56</td>\n",
       "      <td>9.4</td>\n",
       "      <td>5</td>\n",
       "    </tr>\n",
       "  </tbody>\n",
       "</table>\n",
       "</div>"
      ],
      "text/plain": [
       "   fixed acidity  volatile acidity  citric acid  residual sugar  chlorides  \\\n",
       "0            7.4              0.70         0.00             1.9      0.076   \n",
       "1            7.8              0.88         0.00             2.6      0.098   \n",
       "2            7.8              0.76         0.04             2.3      0.092   \n",
       "3           11.2              0.28         0.56             1.9      0.075   \n",
       "4            7.4              0.70         0.00             1.9      0.076   \n",
       "\n",
       "   free sulfur dioxide  total sulfur dioxide  density    pH  sulphates  \\\n",
       "0                 11.0                  34.0   0.9978  3.51       0.56   \n",
       "1                 25.0                  67.0   0.9968  3.20       0.68   \n",
       "2                 15.0                  54.0   0.9970  3.26       0.65   \n",
       "3                 17.0                  60.0   0.9980  3.16       0.58   \n",
       "4                 11.0                  34.0   0.9978  3.51       0.56   \n",
       "\n",
       "   alcohol  quality  \n",
       "0      9.4        5  \n",
       "1      9.8        5  \n",
       "2      9.8        5  \n",
       "3      9.8        6  \n",
       "4      9.4        5  "
      ]
     },
     "execution_count": 14,
     "metadata": {},
     "output_type": "execute_result"
    }
   ],
   "source": [
    "df.head()"
   ]
  },
  {
   "cell_type": "markdown",
   "metadata": {},
   "source": [
    "<a id = 'flat'><a> \n",
    "### Opening and reading flat files from the web"
   ]
  },
  {
   "cell_type": "code",
   "execution_count": 17,
   "metadata": {},
   "outputs": [
    {
     "name": "stdout",
     "output_type": "stream",
     "text": [
      "   fixed acidity  volatile acidity  citric acid  residual sugar  chlorides  \\\n",
      "0            7.4              0.70         0.00             1.9      0.076   \n",
      "1            7.8              0.88         0.00             2.6      0.098   \n",
      "2            7.8              0.76         0.04             2.3      0.092   \n",
      "3           11.2              0.28         0.56             1.9      0.075   \n",
      "4            7.4              0.70         0.00             1.9      0.076   \n",
      "\n",
      "   free sulfur dioxide  total sulfur dioxide  density    pH  sulphates  \\\n",
      "0                 11.0                  34.0   0.9978  3.51       0.56   \n",
      "1                 25.0                  67.0   0.9968  3.20       0.68   \n",
      "2                 15.0                  54.0   0.9970  3.26       0.65   \n",
      "3                 17.0                  60.0   0.9980  3.16       0.58   \n",
      "4                 11.0                  34.0   0.9978  3.51       0.56   \n",
      "\n",
      "   alcohol  quality  \n",
      "0      9.4        5  \n",
      "1      9.8        5  \n",
      "2      9.8        5  \n",
      "3      9.8        6  \n",
      "4      9.4        5  \n"
     ]
    },
    {
     "data": {
      "image/png": "[encoded data removed]",
      "text/plain": [
       "<Figure size 432x288 with 1 Axes>"
      ]
     },
     "metadata": {},
     "output_type": "display_data"
    }
   ],
   "source": [
    "# Import packages\n",
    "import matplotlib.pyplot as plt\n",
    "import pandas as pd\n",
    "\n",
    "# Assign url of file: url\n",
    "url = 'https://s3.amazonaws.com/assets.datacamp.com/production/course_1606/datasets/winequality-red.csv'\n",
    "\n",
    "# Read file into a DataFrame: df\n",
    "df = pd.read_csv(url, sep =';')\n",
    "\n",
    "# Print the head of the DataFrame\n",
    "print(df.head())\n",
    "\n",
    "# Plot first column of df\n",
    "pd.DataFrame.hist(df.iloc[:, 0:1])\n",
    "plt.xlabel('fixed acidity (g(tartaric acid)/dm$^3$)')\n",
    "plt.ylabel('count')\n",
    "plt.show()\n"
   ]
  },
  {
   "cell_type": "markdown",
   "metadata": {},
   "source": [
    "<a id = 'excel'> <a>\n",
    "### Importing non-flat files from the web"
   ]
  },
  {
   "cell_type": "code",
   "execution_count": 19,
   "metadata": {},
   "outputs": [
    {
     "data": {
      "text/plain": [
       "odict_keys(['1700', '1900'])"
      ]
     },
     "execution_count": 19,
     "metadata": {},
     "output_type": "execute_result"
    }
   ],
   "source": [
    "# Import package\n",
    "import pandas as pd\n",
    "\n",
    "# Assign url of file: url\n",
    "url ='http://s3.amazonaws.com/assets.datacamp.com/course/importing_data_into_r/latitude.xls'\n",
    "\n",
    "\n",
    "# Read in all sheets of Excel file: xl\n",
    "x1 = pd.read_excel(url, sheet_name= None)\n",
    "\n",
    "# Print the sheetnames to the shell\n",
    "x1.keys()\n"
   ]
  },
  {
   "cell_type": "code",
   "execution_count": 21,
   "metadata": {},
   "outputs": [
    {
     "data": {
      "text/html": [
       "<div>\n",
       "<style scoped>\n",
       "    .dataframe tbody tr th:only-of-type {\n",
       "        vertical-align: middle;\n",
       "    }\n",
       "\n",
       "    .dataframe tbody tr th {\n",
       "        vertical-align: top;\n",
       "    }\n",
       "\n",
       "    .dataframe thead th {\n",
       "        text-align: right;\n",
       "    }\n",
       "</style>\n",
       "<table border=\"1\" class=\"dataframe\">\n",
       "  <thead>\n",
       "    <tr style=\"text-align: right;\">\n",
       "      <th></th>\n",
       "      <th>country</th>\n",
       "      <th>1700</th>\n",
       "    </tr>\n",
       "  </thead>\n",
       "  <tbody>\n",
       "    <tr>\n",
       "      <th>0</th>\n",
       "      <td>Afghanistan</td>\n",
       "      <td>34.565000</td>\n",
       "    </tr>\n",
       "    <tr>\n",
       "      <th>1</th>\n",
       "      <td>Akrotiri and Dhekelia</td>\n",
       "      <td>34.616667</td>\n",
       "    </tr>\n",
       "    <tr>\n",
       "      <th>2</th>\n",
       "      <td>Albania</td>\n",
       "      <td>41.312000</td>\n",
       "    </tr>\n",
       "    <tr>\n",
       "      <th>3</th>\n",
       "      <td>Algeria</td>\n",
       "      <td>36.720000</td>\n",
       "    </tr>\n",
       "    <tr>\n",
       "      <th>4</th>\n",
       "      <td>American Samoa</td>\n",
       "      <td>-14.307000</td>\n",
       "    </tr>\n",
       "  </tbody>\n",
       "</table>\n",
       "</div>"
      ],
      "text/plain": [
       "                 country       1700\n",
       "0            Afghanistan  34.565000\n",
       "1  Akrotiri and Dhekelia  34.616667\n",
       "2                Albania  41.312000\n",
       "3                Algeria  36.720000\n",
       "4         American Samoa -14.307000"
      ]
     },
     "execution_count": 21,
     "metadata": {},
     "output_type": "execute_result"
    }
   ],
   "source": [
    "x1['1700'].head()"
   ]
  },
  {
   "cell_type": "markdown",
   "metadata": {},
   "source": [
    "<a id ='hweb'> <a>\n",
    "## HTTP requests to import file from the web\n",
    "   ### Performing HTTP requests in Python using urllib"
   ]
  },
  {
   "cell_type": "code",
   "execution_count": 24,
   "metadata": {},
   "outputs": [],
   "source": [
    "from  urllib.request import Request, urlopen"
   ]
  },
  {
   "cell_type": "code",
   "execution_count": 25,
   "metadata": {},
   "outputs": [],
   "source": [
    "# Specify the url\n",
    "url = \"http://www.datacamp.com/teach/documentation\"\n"
   ]
  },
  {
   "cell_type": "code",
   "execution_count": 26,
   "metadata": {},
   "outputs": [],
   "source": [
    "request = Request(url)\n",
    "response = urlopen(request)\n"
   ]
  },
  {
   "cell_type": "code",
   "execution_count": 27,
   "metadata": {},
   "outputs": [
    {
     "data": {
      "text/plain": [
       "http.client.HTTPResponse"
      ]
     },
     "execution_count": 27,
     "metadata": {},
     "output_type": "execute_result"
    }
   ],
   "source": [
    "type(response)"
   ]
  },
  {
   "cell_type": "code",
   "execution_count": 28,
   "metadata": {},
   "outputs": [],
   "source": [
    "response.close()"
   ]
  },
  {
   "cell_type": "markdown",
   "metadata": {},
   "source": [
    "<a id ='print'> <a>\n",
    "\n",
    "   ### Printing HTTP request results in Python using urllib"
   ]
  },
  {
   "cell_type": "code",
   "execution_count": 29,
   "metadata": {},
   "outputs": [],
   "source": [
    "# Specify the url\n",
    "url = \"http://www.datacamp.com/teach/documentation\""
   ]
  },
  {
   "cell_type": "code",
   "execution_count": 36,
   "metadata": {},
   "outputs": [],
   "source": [
    "# This packages the request\n",
    "request = Request(url)\n"
   ]
  },
  {
   "cell_type": "code",
   "execution_count": 32,
   "metadata": {},
   "outputs": [
    {
     "name": "stdout",
     "output_type": "stream",
     "text": [
      "b'<!doctype html>\\n<html lang=\"en\" data-direction=\"ltr\">\\n  <head>\\n    <link href=\"https://fonts.intercomcdn.com\" rel=\"preconnect\" crossorigin>\\n      <script src=\"https://www.googletagmanager.com/gtag/js?id=UA-39297847-9\" async=\"async\" nonce=\"Gy7Y7sArxQYW7ZSFOKMomwIA7PawTuPJ9aOeBPEL4uI=\"></script>\\n      <script nonce=\"Gy7Y7sArxQYW7ZSFOKMomwIA7PawTuPJ9aOeBPEL4uI=\">\\n        window.dataLayer = window.dataLayer || [];\\n        function gtag(){dataLayer.push(arguments);}\\n        gtag(\\'js\\', new Date());\\n        gtag(\\'config\\', \\'UA-39297847-9\\');\\n</script>\\n    <meta charset=\"utf-8\">\\n    <meta http-equiv=\"X-UA-Compatible\" content=\"IE=edge\">\\n    <title>DataCamp Help Center</title>\\n    <meta name=\"description\" content=\"\">\\n    <meta name=\"viewport\" content=\"width=device-width, initial-scale=1\">\\n      <meta name=\"intercom:trackingEvent\" content=\"{&quot;name&quot;:&quot;Viewed Help Center&quot;,&quot;metadata&quot;:{&quot;action&quot;:&quot;viewed&quot;,&quot;object&quot;:&quot;educate_home&quot;,&quot;place&quot;:&quot;help_center&quot;,&quot;owner&quot;:&quot;educate&quot;}}\" />\\n\\n    <link rel=\"stylesheet\" media=\"all\" href=\"https://intercom.help/_assets/application-d1f7d2f5ecbab279e0c25a70c759326b30d53b9cc5832e8fdc7973fe1bc09ce2.css\" />\\n    <link rel=\"canonical\" href=\"http://instructor-support.datacamp.com/\"/>\\n\\n        <link href=\"https://static.intercomassets.com/assets/educate/educate-favicon-64x64-at-2x-52016a3500a250d0b118c0a04ddd13b1a7364a27759483536dd1940bccdefc20.png\" rel=\"shortcut icon\" type=\"image/png\" />\\n      <style>\\n        .header, .avatar__image-extra { background-color: #263e63; }\\n        .article a, .c__primary { color: #263e63; }\\n        .avatar__fallback { background-color: #263e63; }\\n        article a.intercom-h2b-button { background-color: #263e63; border: 0; }\\n      </style>\\n\\n      <meta property=\"og:title\" content=\"DataCamp Help Center\" />\\n  <meta name=\"twitter:title\" content=\"DataCamp Help Center\" />\\n\\n\\n<meta property=\"og:type\" content=\"website\" />\\n<meta property=\"og:image\" content=\"\" />\\n\\n<meta name=\"twitter:image\" content=\"\" />\\n\\n  </head>\\n  <body class=\"\">\\n    <header class=\"header\">\\n  <div class=\"container header__container o__ltr\" dir=\"ltr\">\\n    <div class=\"content\">\\n      <div class=\"mo o__centered o__reversed header__meta_wrapper\">\\n        <div class=\"mo__body\">\\n          <div class=\"header__logo\">\\n            <a href=\"/\">\\n                <img alt=\"DataCamp Help Center\" src=\"https://downloads.intercomcdn.com/i/o/81221/856b63d438031754b681746b/4ea2737e4266936fb423911d9c587812.png\" />\\n            </a>\\n          </div>\\n        </div>\\n        <div class=\"mo__aside\">\\n          <div class=\"header__home__url\">\\n              <a target=\"_blank\" rel=\\'noopener\\' href=\"http://www.datacamp.com/teach\"><svg width=\"14\" height=\"14\" viewBox=\"0 0 14 14\" xmlns=\"http://www.w3.org/2000/svg\"><title>Group 65</title><g stroke=\"#FFF\" fill=\"none\" fill-rule=\"evenodd\" stroke-linecap=\"round\" stroke-linejoin=\"round\"><path d=\"M11.5 6.73v6.77H.5v-11h7.615M4.5 9.5l7-7M13.5 5.5v-5h-5\"/></g></svg><span>Go to DataCamp</span></a>\\n          </div>\\n        </div>\\n      </div>\\n          <h1 class=\"header__headline\">Advice and answers from the DataCamp Team</h1>\\n        <form action=\"/\" autocomplete=\"off\" class=\"header__form search\">\\n          <input type=\"text\" autocomplete=\"off\" class=\"search__input js__search-input o__ltr\" placeholder=\"Search for articles...\" tabindex=\"1\" name=\"q\" value=\"\">\\n          <div class=\"search_icons\">\\n            <button type=\"submit\" class=\"search__submit o__ltr\"></button>\\n            <a class=\"search__clear-text__icon\">\\n              <svg class=\"interface-icon\" xmlns=\"http://www.w3.org/2000/svg\" width=\"16\" height=\"16\" viewBox=\"0 0 16 16\">\\n                <path d=\"M8.018 6.643L5.375 4 4 5.375l2.643 2.643L4 10.643 5.375 12l2.643-2.625L10.625 12 12 10.643 9.357 8.018 12 5.375 10.643 4z\" />\\n              </svg>\\n            </a>\\n        </form>\\n      </div>\\n    </div>\\n  </div>\\n</header>\\n\\n    <div class=\"container\">\\n      <div class=\"content educate_content\"><section class=\"section\">\\n    <div class=\"g__space\">\\n      <a href=\"/getting-started\" class=\"paper \">\\n        <div class=\"collection o__ltr\">\\n          <div class=\"collection__photo\">\\n            <svg role=\\'img\\' viewBox=\\'0 0 48 48\\'><g id=\"chat-star\" stroke-width=\"2\" fill=\"none\" fill-rule=\"evenodd\" stroke-linejoin=\"round\"><path d=\"M20 34.942c-2.083-.12-4.292-.42-6-.942L3 39l4-9c-3.858-3.086-6-7.246-6-12C1 8.61 10.328 1 21.835 1 33.343 1 43 8.61 43 18c0 1.044-.117 2.065-.342 3.057\"></path><path d=\"M36.016 25L40 33h7l-6 5 3 9-8-5.494L28 47l3-9-6-5h7l4.016-8z\"></path></g></svg>\\n          </div>\\n          <div class=\"collection_meta\" dir=\"ltr\">\\n            <h2 class=\"t__h3 c__primary\">Getting Started</h2>\\n            <p class=\"paper__preview\">Everything you need to know to begin your DataCamp journey!</p>\\n            <div class=\"avatar\">\\n  <div class=\"avatar__photo avatars__images o__ltr\">\\n        <img src=\"https://static.intercomassets.com/avatars/2352718/square_128/Rebecca_Robins_-_Headshot-1535969735.jpg?1535969735\" alt=\"Becca Robins avatar\" class=\"avatar__image\">\\n\\n        <img src=\"https://static.intercomassets.com/avatars/2678519/square_128/pic2-1539176502.JPG?1539176502\" alt=\"Jen Bricker avatar\" class=\"avatar__image\">\\n\\n        <img src=\"https://static.intercomassets.com/avatars/2637958/square_128/YR_Headshot-1539175806.JPG?1539175806\" alt=\"Yashas Roy avatar\" class=\"avatar__image\">\\n\\n      <span class=\"avatar__image avatar__fallback\">+2</span>\\n  </div>\\n  <div class=\"avatar__info\">\\n    <div>\\n      <span class=\"c__darker\">\\n        11 articles in this collection\\n      </span>\\n      <br>\\n      Written by <span class=\\'c__darker\\'> Becca Robins,</span> <span class=\\'c__darker\\'> Jen Bricker,</span> <span class=\\'c__darker\\'> Yashas Roy</span> and 2 others\\n    </div>\\n  </div>\\n</div>\\n\\n          </div>\\n        </div>\\n      </a>\\n    </div>\\n    <div class=\"g__space\">\\n      <a href=\"/courses\" class=\"paper \">\\n        <div class=\"collection o__ltr\">\\n          <div class=\"collection__photo\">\\n            <svg role=\\'img\\' viewBox=\\'0 0 48 48\\'><g id=\"devices-laptop\" stroke-width=\"2\" fill=\"none\" fill-rule=\"evenodd\" stroke-linecap=\"round\"><path d=\"M41 31H7V11h34v20z\"></path><path d=\"M3 35V10a3 3 0 0 1 3-3h36a3 3 0 0 1 3 3v25m-16 0v2H19v-2H1v4a2 2 0 0 0 2 2h42a2 2 0 0 0 2-2v-4H29z\" stroke-linejoin=\"round\"></path></g></svg>\\n          </div>\\n          <div class=\"collection_meta\" dir=\"ltr\">\\n            <h2 class=\"t__h3 c__primary\">Courses</h2>\\n            <p class=\"paper__preview\">Everything you need to know about creating DataCamp courses.</p>\\n            <div class=\"avatar\">\\n  <div class=\"avatar__photo avatars__images o__ltr\">\\n        <img src=\"https://static.intercomassets.com/avatars/2637958/square_128/YR_Headshot-1539175806.JPG?1539175806\" alt=\"Yashas Roy avatar\" class=\"avatar__image\">\\n\\n        <img src=\"https://static.intercomassets.com/avatars/2247397/square_128/IMG_2763_final_square_small-1532522734.jpg?1532522734\" alt=\"Nick Carchedi avatar\" class=\"avatar__image\">\\n\\n        <img src=\"https://static.intercomassets.com/avatars/2366194/square_128/richie-in-hairnet-1537451295.JPG?1537451295\" alt=\"Richie Cotton avatar\" class=\"avatar__image\">\\n\\n      <span class=\"avatar__image avatar__fallback\">+7</span>\\n  </div>\\n  <div class=\"avatar__info\">\\n    <div>\\n      <span class=\"c__darker\">\\n        77 articles in this collection\\n      </span>\\n      <br>\\n      Written by <span class=\\'c__darker\\'> Yashas Roy,</span> <span class=\\'c__darker\\'> Nick Carchedi,</span> <span class=\\'c__darker\\'> Richie Cotton</span> and 7 others\\n    </div>\\n  </div>\\n</div>\\n\\n          </div>\\n        </div>\\n      </a>\\n    </div>\\n    <div class=\"g__space\">\\n      <a href=\"/daily-practice\" class=\"paper \">\\n        <div class=\"collection o__ltr\">\\n          <div class=\"collection__photo\">\\n            <svg role=\\'img\\' viewBox=\\'0 0 48 48\\'><g id=\"tools-dashboard\" stroke-width=\"2\" fill=\"none\" fill-rule=\"evenodd\" stroke-linecap=\"round\" stroke-linejoin=\"round\"><path d=\"M27 31a3 3 0 0 1-6 0 3 3 0 0 1 6 0zm-.88-2.12l9.9-9.9M5 32h4m34 .002L39 32m2.553-8.27l-3.696 1.53M31.27 13.447l-1.53 3.695M24 12v4m-7.27-2.553l1.53 3.695m-7.694.422l2.826 2.83M6.447 23.73l3.695 1.53\"></path><path d=\"M24 8C11.297 8 1 18.3 1 31v9h46v-9C47 18.3 36.703 8 24 8z\"></path></g></svg>\\n          </div>\\n          <div class=\"collection_meta\" dir=\"ltr\">\\n            <h2 class=\"t__h3 c__primary\">Daily Practice</h2>\\n            <p class=\"paper__preview\">Everything you need to know about creating DataCamp Daily Practice.</p>\\n            <div class=\"avatar\">\\n  <div class=\"avatar__photo avatars__images o__ltr\">\\n        <img src=\"https://static.intercomassets.com/avatars/2734728/square_128/Anneleen_Beckers-xtra-small-1541624054.jpg?1541624054\" alt=\"Anneleen Beckers avatar\" class=\"avatar__image\">\\n\\n  </div>\\n  <div class=\"avatar__info\">\\n    <div>\\n      <span class=\"c__darker\">\\n        12 articles in this collection\\n      </span>\\n      <br>\\n      Written by <span class=\\'c__darker\\'> Anneleen Beckers</span>\\n    </div>\\n  </div>\\n</div>\\n\\n          </div>\\n        </div>\\n      </a>\\n    </div>\\n    <div class=\"g__space\">\\n      <a href=\"/projects\" class=\"paper \">\\n        <div class=\"collection o__ltr\">\\n          <div class=\"collection__photo\">\\n            <svg role=\\'img\\' viewBox=\\'0 0 48 48\\'><g id=\"book-opened2\"><path d=\"M24 11c0-3.866 10.297-7 23-7v33c-12.703 0-23 3.134-23 7 0-3.866-10.3-7-23-7V4c12.7 0 23 3.134 23 7zm0 0v32m-5-27.52c-3.22-1.232-7.773-2.128-13-2.48m13 8.48c-3.22-1.232-7.773-2.128-13-2.48m13 8.48c-3.22-1.232-7.773-2.128-13-2.48m13 8.48c-3.22-1.23-7.773-2.127-13-2.48m23-15.52c3.223-1.232 7.773-2.128 13-2.48m-13 8.48c3.223-1.232 7.773-2.128 13-2.48m-13 8.48c3.223-1.232 7.773-2.128 13-2.48m-13 8.48c3.223-1.23 7.773-2.127 13-2.48\" stroke-width=\"2\" fill=\"none\" stroke-linecap=\"round\" stroke-linejoin=\"round\"></path></g></svg>\\n          </div>\\n          <div class=\"collection_meta\" dir=\"ltr\">\\n            <h2 class=\"t__h3 c__primary\">Projects</h2>\\n            <p class=\"paper__preview\">Everything you need to know about creating DataCamp projects.</p>\\n            <div class=\"avatar\">\\n  <div class=\"avatar__photo avatars__images o__ltr\">\\n        <img src=\"https://static.intercomassets.com/avatars/2360843/square_128/20170928_DavidV_ByBBImagery-022-1380-1537479799.jpg?1537479799\" alt=\"David Venturi avatar\" class=\"avatar__image\">\\n\\n  </div>\\n  <div class=\"avatar__info\">\\n    <div>\\n      <span class=\"c__darker\">\\n        19 articles in this collection\\n      </span>\\n      <br>\\n      Written by <span class=\\'c__darker\\'> David Venturi</span>\\n    </div>\\n  </div>\\n</div>\\n\\n          </div>\\n        </div>\\n      </a>\\n    </div>\\n    <div class=\"g__space\">\\n      <a href=\"/course-editor-basics\" class=\"paper \">\\n        <div class=\"collection o__ltr\">\\n          <div class=\"collection__photo\">\\n            <svg role=\\'img\\' viewBox=\\'0 0 48 48\\'><g id=\"book-bookmark\" stroke-width=\"2\" fill=\"none\" fill-rule=\"evenodd\" stroke-linecap=\"round\"><path d=\"M35 31l-6-6-6 6V7h12v24z\"></path><path d=\"M35 9h6v38H11a4 4 0 0 1-4-4V5\" stroke-linejoin=\"round\"></path><path d=\"M39 9V1H11a4 4 0 0 0 0 8h12\" stroke-linejoin=\"round\"></path></g></svg>\\n          </div>\\n          <div class=\"collection_meta\" dir=\"ltr\">\\n            <h2 class=\"t__h3 c__primary\">Course Editor Basics</h2>\\n            <p class=\"paper__preview\">Everything you need to know to get going with our online course editor.</p>\\n            <div class=\"avatar\">\\n  <div class=\"avatar__photo avatars__images o__ltr\">\\n        <img src=\"https://static.intercomassets.com/avatars/2247397/square_128/IMG_2763_final_square_small-1532522734.jpg?1532522734\" alt=\"Nick Carchedi avatar\" class=\"avatar__image\">\\n\\n        <img src=\"https://static.intercomassets.com/avatars/2352718/square_128/Rebecca_Robins_-_Headshot-1535969735.jpg?1535969735\" alt=\"Becca Robins avatar\" class=\"avatar__image\">\\n\\n  </div>\\n  <div class=\"avatar__info\">\\n    <div>\\n      <span class=\"c__darker\">\\n        4 articles in this collection\\n      </span>\\n      <br>\\n      Written by <span class=\\'c__darker\\'> Nick Carchedi</span> and <span class=\\'c__darker\\'> Becca Robins</span>\\n    </div>\\n  </div>\\n</div>\\n\\n          </div>\\n        </div>\\n      </a>\\n    </div>\\n    <div class=\"g__space\">\\n      <a href=\"/tips-and-tricks\" class=\"paper \">\\n        <div class=\"collection o__ltr\">\\n          <div class=\"collection__photo\">\\n            <svg role=\\'img\\' viewBox=\\'0 0 48 48\\'><g id=\"comms-mail\" stroke-width=\"2\" fill=\"none\" fill-rule=\"evenodd\" stroke-linejoin=\"round\"><path d=\"M47 3L1 22l18 7L47 3z\"></path><path d=\"M47 3l-8 37-20-11L47 3zM19 29v16l7-12\"></path></g></svg>\\n          </div>\\n          <div class=\"collection_meta\" dir=\"ltr\">\\n            <h2 class=\"t__h3 c__primary\">Tips &amp; Tricks</h2>\\n            <p class=\"paper__preview\">Become a DataCamp wizard!</p>\\n            <div class=\"avatar\">\\n  <div class=\"avatar__photo avatars__images o__ltr\">\\n        <img src=\"https://static.intercomassets.com/avatars/2352718/square_128/Rebecca_Robins_-_Headshot-1535969735.jpg?1535969735\" alt=\"Becca Robins avatar\" class=\"avatar__image\">\\n\\n  </div>\\n  <div class=\"avatar__info\">\\n    <div>\\n      <span class=\"c__darker\">\\n        6 articles in this collection\\n      </span>\\n      <br>\\n      Written by <span class=\\'c__darker\\'> Becca Robins</span>\\n    </div>\\n  </div>\\n</div>\\n\\n          </div>\\n        </div>\\n      </a>\\n    </div>\\n    <div class=\"g__space\">\\n      <a href=\"/frequently-asked-questions-faq\" class=\"paper \">\\n        <div class=\"collection o__ltr\">\\n          <div class=\"collection__photo\">\\n            <svg role=\\'img\\' viewBox=\\'0 0 48 48\\'><g id=\"chat-question\" fill=\"none\" fill-rule=\"evenodd\"><path d=\"M47 21.268c0 10.363-10.297 18.765-23 18.765-2.835 0-5.55-.418-8.058-1.184L2.725 45 7.9 34.668c-4.258-3.406-6.9-8.15-6.9-13.4C1 10.904 11.297 2.502 24 2.502s23 8.402 23 18.766z\" stroke-width=\"2\" stroke-linejoin=\"round\"></path><path d=\"M25 28.502a2 2 0 1 0 0 4 2 2 0 0 0 0-4\" fill=\"#231F1F\"></path><path d=\"M19 17.75c0-3.312 2.686-6.124 6-6.124 3.313 0 6 2.626 6 5.938 0 3.315-2.687 5.938-6 5.938V26\" stroke-width=\"2\" stroke-linecap=\"round\" stroke-linejoin=\"round\"></path></g></svg>\\n          </div>\\n          <div class=\"collection_meta\" dir=\"ltr\">\\n            <h2 class=\"t__h3 c__primary\">Frequently Asked Questions (FAQ)</h2>\\n            <p class=\"paper__preview\">Common questions that arise during content creation.</p>\\n            <div class=\"avatar\">\\n  <div class=\"avatar__photo avatars__images o__ltr\">\\n        <img src=\"https://static.intercomassets.com/avatars/2352718/square_128/Rebecca_Robins_-_Headshot-1535969735.jpg?1535969735\" alt=\"Becca Robins avatar\" class=\"avatar__image\">\\n\\n        <img src=\"https://static.intercomassets.com/avatars/2366194/square_128/richie-in-hairnet-1537451295.JPG?1537451295\" alt=\"Richie Cotton avatar\" class=\"avatar__image\">\\n\\n        <img src=\"https://static.intercomassets.com/avatars/2637958/square_128/YR_Headshot-1539175806.JPG?1539175806\" alt=\"Yashas Roy avatar\" class=\"avatar__image\">\\n\\n      <span class=\"avatar__image avatar__fallback\">+3</span>\\n  </div>\\n  <div class=\"avatar__info\">\\n    <div>\\n      <span class=\"c__darker\">\\n        48 articles in this collection\\n      </span>\\n      <br>\\n      Written by <span class=\\'c__darker\\'> Becca Robins,</span> <span class=\\'c__darker\\'> Richie Cotton,</span> <span class=\\'c__darker\\'> Yashas Roy</span> and 3 others\\n    </div>\\n  </div>\\n</div>\\n\\n          </div>\\n        </div>\\n      </a>\\n    </div>\\n    <div class=\"g__space\">\\n      <a href=\"/miscellaneous\" class=\"paper \">\\n        <div class=\"collection o__ltr\">\\n          <div class=\"collection__photo\">\\n            <svg role=\\'img\\' viewBox=\\'0 0 48 48\\'><g id=\"tools-edit\"><path d=\"M14.932 43.968L2 47l3.033-12.93 31.2-31.203a4 4 0 0 1 5.658 0l4.247 4.243a4 4 0 0 1 0 5.656L14.932 43.968zm29.84-29.735L34.82 4.28m7.125 12.782L31.992 7.11M15.436 43.465l-9.9-9.9\" stroke-width=\"2\" fill=\"none\" stroke-linecap=\"round\" stroke-linejoin=\"round\"></path></g></svg>\\n          </div>\\n          <div class=\"collection_meta\" dir=\"ltr\">\\n            <h2 class=\"t__h3 c__primary\">Miscellaneous</h2>\\n            <p class=\"paper__preview\">Have a question for DataCamp, but not about creating content? You&#39;ll probably find the answer here.</p>\\n            <div class=\"avatar\">\\n  <div class=\"avatar__photo avatars__images o__ltr\">\\n        <img src=\"https://static.intercomassets.com/avatars/2352718/square_128/Rebecca_Robins_-_Headshot-1535969735.jpg?1535969735\" alt=\"Becca Robins avatar\" class=\"avatar__image\">\\n\\n        <img src=\"https://static.intercomassets.com/avatars/2830289/square_128/IMG_0665_a-1545331304.jpg?1545331304\" alt=\"Lisa Monteleone avatar\" class=\"avatar__image\">\\n\\n        <img src=\"https://static.intercomassets.com/avatars/2859053/square_128/gabriel_about_pic-1546620603.jpg?1546620603\" alt=\"Gabriel de Selding avatar\" class=\"avatar__image\">\\n\\n  </div>\\n  <div class=\"avatar__info\">\\n    <div>\\n      <span class=\"c__darker\">\\n        9 articles in this collection\\n      </span>\\n      <br>\\n      Written by <span class=\\'c__darker\\'> Becca Robins,</span> <span class=\\'c__darker\\'> Lisa Monteleone,</span> and <span class=\\'c__darker\\'> Gabriel de Selding</span>\\n    </div>\\n  </div>\\n</div>\\n\\n          </div>\\n        </div>\\n      </a>\\n    </div>\\n</section>\\n</div>\\n    </div>\\n    <footer class=\"footer\">\\n  <div class=\"container\">\\n    <div class=\"content\">\\n      <div class=\"u__cf\"  dir=\"ltr\">\\n        <div class=\"footer__logo\">\\n          <a href=\"/\">\\n              <img alt=\"DataCamp Help Center\" src=\"https://downloads.intercomcdn.com/i/o/81221/856b63d438031754b681746b/4ea2737e4266936fb423911d9c587812.png\" />\\n          </a>\\n        </div>\\n        <div class=\"footer__advert logo\">\\n          <img src=\"https://intercom.help/_assets/intercom-a6a6ac0f033657af1aebe2e9e15b94a3cd5eabf6ae8b9916df6ea49099a894d8.png\" alt=\"Intercom\" />\\n          <a href=\"https://www.intercom.com/intercom-link?company=DataCamp&amp;solution=customer-support&amp;utm_campaign=intercom-link&amp;utm_content=We+run+on+Intercom&amp;utm_medium=help-center&amp;utm_referrer=http%3A%2F%2Finstructor-support.datacamp.com%2F&amp;utm_source=desktop-web\">We run on Intercom</a>\\n        </div>\\n      </div>\\n    </div>\\n  </div>\\n</footer>\\n\\n    \\n  <script nonce=\"Gy7Y7sArxQYW7ZSFOKMomwIA7PawTuPJ9aOeBPEL4uI=\">\\n    window.intercomSettings = {\"app_id\":\"ug0ps1rq\"};\\n</script>\\n  <script nonce=\"Gy7Y7sArxQYW7ZSFOKMomwIA7PawTuPJ9aOeBPEL4uI=\">\\n    (function(){var w=window;var ic=w.Intercom;if(typeof ic===\"function\"){ic(\\'reattach_activator\\');ic(\\'update\\',intercomSettings);}else{var d=document;var i=function(){i.c(arguments)};i.q=[];i.c=function(args){i.q.push(args)};w.Intercom=i;function l(){var s=d.createElement(\\'script\\');s.type=\\'text/javascript\\';s.async=true;s.src=\"https://widget.intercom.io/widget/ug0ps1rq\";var x=d.getElementsByTagName(\\'script\\')[0];x.parentNode.insertBefore(s,x);}if(w.attachEvent){w.attachEvent(\\'onload\\',l);}else{w.addEventListener(\\'load\\',l,false);}}})()\\n</script>\\n\\n    \\n\\n    <script src=\"https://intercom.help/_assets/application-a94ed74b059ca570829a64c380b1fcb7b2c410f3dadd8f69f9dcea82657eff9c.js\" nonce=\"Gy7Y7sArxQYW7ZSFOKMomwIA7PawTuPJ9aOeBPEL4uI=\"></script>\\n  </body>\\n</html>\\n'\n"
     ]
    }
   ],
   "source": [
    "# Sends the request and catches the response: response\n",
    "response = urlopen(request)\n",
    "\n",
    "# Extract the response: html\n",
    "html = response.read()\n",
    "\n",
    "# Print the html\n",
    "print(html)\n",
    "\n",
    "# Be polite and close the response!\n",
    "response.close()\n",
    "\n",
    "\n"
   ]
  },
  {
   "cell_type": "markdown",
   "metadata": {},
   "source": [
    "<a id = 'requests'> <a>\n",
    "### Performing HTTP requests in Python using requests\n",
    "\n"
   ]
  },
  {
   "cell_type": "code",
   "execution_count": 37,
   "metadata": {},
   "outputs": [],
   "source": [
    "import requests"
   ]
  },
  {
   "cell_type": "code",
   "execution_count": null,
   "metadata": {},
   "outputs": [],
   "source": [
    "# Specify the url: url\n",
    "url = \"http://www.datacamp.com/teach/documentation\"\n"
   ]
  },
  {
   "cell_type": "code",
   "execution_count": 43,
   "metadata": {},
   "outputs": [
    {
     "data": {
      "text/plain": [
       "'<!doctype html>\\n<html lang=\"en\" data-direction=\"ltr\">\\n  <head>\\n    <link href=\"https://fonts.intercomcdn.com\" rel=\"preconnect\" crossorigin>\\n      <script src=\"https://www.googletagmanager.com/gtag/js?id=UA-39297847-9\" async=\"async\" nonce=\"fK3wu2xe5AkVPkGXJ0dkpYP4ELVuYM6n0Ln0rdizvpo=\"></script>\\n      <script nonce=\"fK3wu2xe5AkVPkGXJ0dkpYP4ELVuYM6n0Ln0rdizvpo=\">\\n        window.dataLayer = window.dataLayer || [];\\n        function gtag(){dataLayer.push(arguments);}\\n        gtag(\\'js\\', new Date());\\n        gtag(\\'config\\', \\'UA-39297847-9\\');\\n</script>\\n    <meta charset=\"utf-8\">\\n    <meta http-equiv=\"X-UA-Compatible\" content=\"IE=edge\">\\n    <title>DataCamp Help Center</title>\\n    <meta name=\"description\" content=\"\">\\n    <meta name=\"viewport\" content=\"width=device-width, initial-scale=1\">\\n      <meta name=\"intercom:trackingEvent\" content=\"{&quot;name&quot;:&quot;Viewed Help Center&quot;,&quot;metadata&quot;:{&quot;action&quot;:&quot;viewed&quot;,&quot;object&quot;:&quot;educate_home&quot;,&quot;place&quot;:&quot;help_center&quot;,&quot;owner&quot;:&quot;educate&quot;}}\" />\\n\\n    <link rel=\"stylesheet\" media=\"all\" href=\"https://intercom.help/_assets/application-d1f7d2f5ecbab279e0c25a70c759326b30d53b9cc5832e8fdc7973fe1bc09ce2.css\" />\\n    <link rel=\"canonical\" href=\"http://instructor-support.datacamp.com/\"/>\\n\\n        <link href=\"https://static.intercomassets.com/assets/educate/educate-favicon-64x64-at-2x-52016a3500a250d0b118c0a04ddd13b1a7364a27759483536dd1940bccdefc20.png\" rel=\"shortcut icon\" type=\"image/png\" />\\n      <style>\\n        .header, .avatar__image-extra { background-color: #263e63; }\\n        .article a, .c__primary { color: #263e63; }\\n        .avatar__fallback { background-color: #263e63; }\\n        article a.intercom-h2b-button { background-color: #263e63; border: 0; }\\n      </style>\\n\\n      <meta property=\"og:title\" content=\"DataCamp Help Center\" />\\n  <meta name=\"twitter:title\" content=\"DataCamp Help Center\" />\\n\\n\\n<meta property=\"og:type\" content=\"website\" />\\n<meta property=\"og:image\" content=\"\" />\\n\\n<meta name=\"twitter:image\" content=\"\" />\\n\\n  </head>\\n  <body class=\"\">\\n    <header class=\"header\">\\n  <div class=\"container header__container o__ltr\" dir=\"ltr\">\\n    <div class=\"content\">\\n      <div class=\"mo o__centered o__reversed header__meta_wrapper\">\\n        <div class=\"mo__body\">\\n          <div class=\"header__logo\">\\n            <a href=\"/\">\\n                <img alt=\"DataCamp Help Center\" src=\"https://downloads.intercomcdn.com/i/o/81221/856b63d438031754b681746b/4ea2737e4266936fb423911d9c587812.png\" />\\n            </a>\\n          </div>\\n        </div>\\n        <div class=\"mo__aside\">\\n          <div class=\"header__home__url\">\\n              <a target=\"_blank\" rel=\\'noopener\\' href=\"http://www.datacamp.com/teach\"><svg width=\"14\" height=\"14\" viewBox=\"0 0 14 14\" xmlns=\"http://www.w3.org/2000/svg\"><title>Group 65</title><g stroke=\"#FFF\" fill=\"none\" fill-rule=\"evenodd\" stroke-linecap=\"round\" stroke-linejoin=\"round\"><path d=\"M11.5 6.73v6.77H.5v-11h7.615M4.5 9.5l7-7M13.5 5.5v-5h-5\"/></g></svg><span>Go to DataCamp</span></a>\\n          </div>\\n        </div>\\n      </div>\\n          <h1 class=\"header__headline\">Advice and answers from the DataCamp Team</h1>\\n        <form action=\"/\" autocomplete=\"off\" class=\"header__form search\">\\n          <input type=\"text\" autocomplete=\"off\" class=\"search__input js__search-input o__ltr\" placeholder=\"Search for articles...\" tabindex=\"1\" name=\"q\" value=\"\">\\n          <div class=\"search_icons\">\\n            <button type=\"submit\" class=\"search__submit o__ltr\"></button>\\n            <a class=\"search__clear-text__icon\">\\n              <svg class=\"interface-icon\" xmlns=\"http://www.w3.org/2000/svg\" width=\"16\" height=\"16\" viewBox=\"0 0 16 16\">\\n                <path d=\"M8.018 6.643L5.375 4 4 5.375l2.643 2.643L4 10.643 5.375 12l2.643-2.625L10.625 12 12 10.643 9.357 8.018 12 5.375 10.643 4z\" />\\n              </svg>\\n            </a>\\n        </form>\\n      </div>\\n    </div>\\n  </div>\\n</header>\\n\\n    <div class=\"container\">\\n      <div class=\"content educate_content\"><section class=\"section\">\\n    <div class=\"g__space\">\\n      <a href=\"/getting-started\" class=\"paper \">\\n        <div class=\"collection o__ltr\">\\n          <div class=\"collection__photo\">\\n            <svg role=\\'img\\' viewBox=\\'0 0 48 48\\'><g id=\"chat-star\" stroke-width=\"2\" fill=\"none\" fill-rule=\"evenodd\" stroke-linejoin=\"round\"><path d=\"M20 34.942c-2.083-.12-4.292-.42-6-.942L3 39l4-9c-3.858-3.086-6-7.246-6-12C1 8.61 10.328 1 21.835 1 33.343 1 43 8.61 43 18c0 1.044-.117 2.065-.342 3.057\"></path><path d=\"M36.016 25L40 33h7l-6 5 3 9-8-5.494L28 47l3-9-6-5h7l4.016-8z\"></path></g></svg>\\n          </div>\\n          <div class=\"collection_meta\" dir=\"ltr\">\\n            <h2 class=\"t__h3 c__primary\">Getting Started</h2>\\n            <p class=\"paper__preview\">Everything you need to know to begin your DataCamp journey!</p>\\n            <div class=\"avatar\">\\n  <div class=\"avatar__photo avatars__images o__ltr\">\\n        <img src=\"https://static.intercomassets.com/avatars/2352718/square_128/Rebecca_Robins_-_Headshot-1535969735.jpg?1535969735\" alt=\"Becca Robins avatar\" class=\"avatar__image\">\\n\\n        <img src=\"https://static.intercomassets.com/avatars/2678519/square_128/pic2-1539176502.JPG?1539176502\" alt=\"Jen Bricker avatar\" class=\"avatar__image\">\\n\\n        <img src=\"https://static.intercomassets.com/avatars/2637958/square_128/YR_Headshot-1539175806.JPG?1539175806\" alt=\"Yashas Roy avatar\" class=\"avatar__image\">\\n\\n      <span class=\"avatar__image avatar__fallback\">+2</span>\\n  </div>\\n  <div class=\"avatar__info\">\\n    <div>\\n      <span class=\"c__darker\">\\n        11 articles in this collection\\n      </span>\\n      <br>\\n      Written by <span class=\\'c__darker\\'> Becca Robins,</span> <span class=\\'c__darker\\'> Jen Bricker,</span> <span class=\\'c__darker\\'> Yashas Roy</span> and 2 others\\n    </div>\\n  </div>\\n</div>\\n\\n          </div>\\n        </div>\\n      </a>\\n    </div>\\n    <div class=\"g__space\">\\n      <a href=\"/courses\" class=\"paper \">\\n        <div class=\"collection o__ltr\">\\n          <div class=\"collection__photo\">\\n            <svg role=\\'img\\' viewBox=\\'0 0 48 48\\'><g id=\"devices-laptop\" stroke-width=\"2\" fill=\"none\" fill-rule=\"evenodd\" stroke-linecap=\"round\"><path d=\"M41 31H7V11h34v20z\"></path><path d=\"M3 35V10a3 3 0 0 1 3-3h36a3 3 0 0 1 3 3v25m-16 0v2H19v-2H1v4a2 2 0 0 0 2 2h42a2 2 0 0 0 2-2v-4H29z\" stroke-linejoin=\"round\"></path></g></svg>\\n          </div>\\n          <div class=\"collection_meta\" dir=\"ltr\">\\n            <h2 class=\"t__h3 c__primary\">Courses</h2>\\n            <p class=\"paper__preview\">Everything you need to know about creating DataCamp courses.</p>\\n            <div class=\"avatar\">\\n  <div class=\"avatar__photo avatars__images o__ltr\">\\n        <img src=\"https://static.intercomassets.com/avatars/2637958/square_128/YR_Headshot-1539175806.JPG?1539175806\" alt=\"Yashas Roy avatar\" class=\"avatar__image\">\\n\\n        <img src=\"https://static.intercomassets.com/avatars/2247397/square_128/IMG_2763_final_square_small-1532522734.jpg?1532522734\" alt=\"Nick Carchedi avatar\" class=\"avatar__image\">\\n\\n        <img src=\"https://static.intercomassets.com/avatars/2366194/square_128/richie-in-hairnet-1537451295.JPG?1537451295\" alt=\"Richie Cotton avatar\" class=\"avatar__image\">\\n\\n      <span class=\"avatar__image avatar__fallback\">+7</span>\\n  </div>\\n  <div class=\"avatar__info\">\\n    <div>\\n      <span class=\"c__darker\">\\n        77 articles in this collection\\n      </span>\\n      <br>\\n      Written by <span class=\\'c__darker\\'> Yashas Roy,</span> <span class=\\'c__darker\\'> Nick Carchedi,</span> <span class=\\'c__darker\\'> Richie Cotton</span> and 7 others\\n    </div>\\n  </div>\\n</div>\\n\\n          </div>\\n        </div>\\n      </a>\\n    </div>\\n    <div class=\"g__space\">\\n      <a href=\"/daily-practice\" class=\"paper \">\\n        <div class=\"collection o__ltr\">\\n          <div class=\"collection__photo\">\\n            <svg role=\\'img\\' viewBox=\\'0 0 48 48\\'><g id=\"tools-dashboard\" stroke-width=\"2\" fill=\"none\" fill-rule=\"evenodd\" stroke-linecap=\"round\" stroke-linejoin=\"round\"><path d=\"M27 31a3 3 0 0 1-6 0 3 3 0 0 1 6 0zm-.88-2.12l9.9-9.9M5 32h4m34 .002L39 32m2.553-8.27l-3.696 1.53M31.27 13.447l-1.53 3.695M24 12v4m-7.27-2.553l1.53 3.695m-7.694.422l2.826 2.83M6.447 23.73l3.695 1.53\"></path><path d=\"M24 8C11.297 8 1 18.3 1 31v9h46v-9C47 18.3 36.703 8 24 8z\"></path></g></svg>\\n          </div>\\n          <div class=\"collection_meta\" dir=\"ltr\">\\n            <h2 class=\"t__h3 c__primary\">Daily Practice</h2>\\n            <p class=\"paper__preview\">Everything you need to know about creating DataCamp Daily Practice.</p>\\n            <div class=\"avatar\">\\n  <div class=\"avatar__photo avatars__images o__ltr\">\\n        <img src=\"https://static.intercomassets.com/avatars/2734728/square_128/Anneleen_Beckers-xtra-small-1541624054.jpg?1541624054\" alt=\"Anneleen Beckers avatar\" class=\"avatar__image\">\\n\\n  </div>\\n  <div class=\"avatar__info\">\\n    <div>\\n      <span class=\"c__darker\">\\n        12 articles in this collection\\n      </span>\\n      <br>\\n      Written by <span class=\\'c__darker\\'> Anneleen Beckers</span>\\n    </div>\\n  </div>\\n</div>\\n\\n          </div>\\n        </div>\\n      </a>\\n    </div>\\n    <div class=\"g__space\">\\n      <a href=\"/projects\" class=\"paper \">\\n        <div class=\"collection o__ltr\">\\n          <div class=\"collection__photo\">\\n            <svg role=\\'img\\' viewBox=\\'0 0 48 48\\'><g id=\"book-opened2\"><path d=\"M24 11c0-3.866 10.297-7 23-7v33c-12.703 0-23 3.134-23 7 0-3.866-10.3-7-23-7V4c12.7 0 23 3.134 23 7zm0 0v32m-5-27.52c-3.22-1.232-7.773-2.128-13-2.48m13 8.48c-3.22-1.232-7.773-2.128-13-2.48m13 8.48c-3.22-1.232-7.773-2.128-13-2.48m13 8.48c-3.22-1.23-7.773-2.127-13-2.48m23-15.52c3.223-1.232 7.773-2.128 13-2.48m-13 8.48c3.223-1.232 7.773-2.128 13-2.48m-13 8.48c3.223-1.232 7.773-2.128 13-2.48m-13 8.48c3.223-1.23 7.773-2.127 13-2.48\" stroke-width=\"2\" fill=\"none\" stroke-linecap=\"round\" stroke-linejoin=\"round\"></path></g></svg>\\n          </div>\\n          <div class=\"collection_meta\" dir=\"ltr\">\\n            <h2 class=\"t__h3 c__primary\">Projects</h2>\\n            <p class=\"paper__preview\">Everything you need to know about creating DataCamp projects.</p>\\n            <div class=\"avatar\">\\n  <div class=\"avatar__photo avatars__images o__ltr\">\\n        <img src=\"https://static.intercomassets.com/avatars/2360843/square_128/20170928_DavidV_ByBBImagery-022-1380-1537479799.jpg?1537479799\" alt=\"David Venturi avatar\" class=\"avatar__image\">\\n\\n  </div>\\n  <div class=\"avatar__info\">\\n    <div>\\n      <span class=\"c__darker\">\\n        19 articles in this collection\\n      </span>\\n      <br>\\n      Written by <span class=\\'c__darker\\'> David Venturi</span>\\n    </div>\\n  </div>\\n</div>\\n\\n          </div>\\n        </div>\\n      </a>\\n    </div>\\n    <div class=\"g__space\">\\n      <a href=\"/course-editor-basics\" class=\"paper \">\\n        <div class=\"collection o__ltr\">\\n          <div class=\"collection__photo\">\\n            <svg role=\\'img\\' viewBox=\\'0 0 48 48\\'><g id=\"book-bookmark\" stroke-width=\"2\" fill=\"none\" fill-rule=\"evenodd\" stroke-linecap=\"round\"><path d=\"M35 31l-6-6-6 6V7h12v24z\"></path><path d=\"M35 9h6v38H11a4 4 0 0 1-4-4V5\" stroke-linejoin=\"round\"></path><path d=\"M39 9V1H11a4 4 0 0 0 0 8h12\" stroke-linejoin=\"round\"></path></g></svg>\\n          </div>\\n          <div class=\"collection_meta\" dir=\"ltr\">\\n            <h2 class=\"t__h3 c__primary\">Course Editor Basics</h2>\\n            <p class=\"paper__preview\">Everything you need to know to get going with our online course editor.</p>\\n            <div class=\"avatar\">\\n  <div class=\"avatar__photo avatars__images o__ltr\">\\n        <img src=\"https://static.intercomassets.com/avatars/2247397/square_128/IMG_2763_final_square_small-1532522734.jpg?1532522734\" alt=\"Nick Carchedi avatar\" class=\"avatar__image\">\\n\\n        <img src=\"https://static.intercomassets.com/avatars/2352718/square_128/Rebecca_Robins_-_Headshot-1535969735.jpg?1535969735\" alt=\"Becca Robins avatar\" class=\"avatar__image\">\\n\\n  </div>\\n  <div class=\"avatar__info\">\\n    <div>\\n      <span class=\"c__darker\">\\n        4 articles in this collection\\n      </span>\\n      <br>\\n      Written by <span class=\\'c__darker\\'> Nick Carchedi</span> and <span class=\\'c__darker\\'> Becca Robins</span>\\n    </div>\\n  </div>\\n</div>\\n\\n          </div>\\n        </div>\\n      </a>\\n    </div>\\n    <div class=\"g__space\">\\n      <a href=\"/tips-and-tricks\" class=\"paper \">\\n        <div class=\"collection o__ltr\">\\n          <div class=\"collection__photo\">\\n            <svg role=\\'img\\' viewBox=\\'0 0 48 48\\'><g id=\"comms-mail\" stroke-width=\"2\" fill=\"none\" fill-rule=\"evenodd\" stroke-linejoin=\"round\"><path d=\"M47 3L1 22l18 7L47 3z\"></path><path d=\"M47 3l-8 37-20-11L47 3zM19 29v16l7-12\"></path></g></svg>\\n          </div>\\n          <div class=\"collection_meta\" dir=\"ltr\">\\n            <h2 class=\"t__h3 c__primary\">Tips &amp; Tricks</h2>\\n            <p class=\"paper__preview\">Become a DataCamp wizard!</p>\\n            <div class=\"avatar\">\\n  <div class=\"avatar__photo avatars__images o__ltr\">\\n        <img src=\"https://static.intercomassets.com/avatars/2352718/square_128/Rebecca_Robins_-_Headshot-1535969735.jpg?1535969735\" alt=\"Becca Robins avatar\" class=\"avatar__image\">\\n\\n  </div>\\n  <div class=\"avatar__info\">\\n    <div>\\n      <span class=\"c__darker\">\\n        6 articles in this collection\\n      </span>\\n      <br>\\n      Written by <span class=\\'c__darker\\'> Becca Robins</span>\\n    </div>\\n  </div>\\n</div>\\n\\n          </div>\\n        </div>\\n      </a>\\n    </div>\\n    <div class=\"g__space\">\\n      <a href=\"/frequently-asked-questions-faq\" class=\"paper \">\\n        <div class=\"collection o__ltr\">\\n          <div class=\"collection__photo\">\\n            <svg role=\\'img\\' viewBox=\\'0 0 48 48\\'><g id=\"chat-question\" fill=\"none\" fill-rule=\"evenodd\"><path d=\"M47 21.268c0 10.363-10.297 18.765-23 18.765-2.835 0-5.55-.418-8.058-1.184L2.725 45 7.9 34.668c-4.258-3.406-6.9-8.15-6.9-13.4C1 10.904 11.297 2.502 24 2.502s23 8.402 23 18.766z\" stroke-width=\"2\" stroke-linejoin=\"round\"></path><path d=\"M25 28.502a2 2 0 1 0 0 4 2 2 0 0 0 0-4\" fill=\"#231F1F\"></path><path d=\"M19 17.75c0-3.312 2.686-6.124 6-6.124 3.313 0 6 2.626 6 5.938 0 3.315-2.687 5.938-6 5.938V26\" stroke-width=\"2\" stroke-linecap=\"round\" stroke-linejoin=\"round\"></path></g></svg>\\n          </div>\\n          <div class=\"collection_meta\" dir=\"ltr\">\\n            <h2 class=\"t__h3 c__primary\">Frequently Asked Questions (FAQ)</h2>\\n            <p class=\"paper__preview\">Common questions that arise during content creation.</p>\\n            <div class=\"avatar\">\\n  <div class=\"avatar__photo avatars__images o__ltr\">\\n        <img src=\"https://static.intercomassets.com/avatars/2352718/square_128/Rebecca_Robins_-_Headshot-1535969735.jpg?1535969735\" alt=\"Becca Robins avatar\" class=\"avatar__image\">\\n\\n        <img src=\"https://static.intercomassets.com/avatars/2366194/square_128/richie-in-hairnet-1537451295.JPG?1537451295\" alt=\"Richie Cotton avatar\" class=\"avatar__image\">\\n\\n        <img src=\"https://static.intercomassets.com/avatars/2637958/square_128/YR_Headshot-1539175806.JPG?1539175806\" alt=\"Yashas Roy avatar\" class=\"avatar__image\">\\n\\n      <span class=\"avatar__image avatar__fallback\">+3</span>\\n  </div>\\n  <div class=\"avatar__info\">\\n    <div>\\n      <span class=\"c__darker\">\\n        48 articles in this collection\\n      </span>\\n      <br>\\n      Written by <span class=\\'c__darker\\'> Becca Robins,</span> <span class=\\'c__darker\\'> Richie Cotton,</span> <span class=\\'c__darker\\'> Yashas Roy</span> and 3 others\\n    </div>\\n  </div>\\n</div>\\n\\n          </div>\\n        </div>\\n      </a>\\n    </div>\\n    <div class=\"g__space\">\\n      <a href=\"/miscellaneous\" class=\"paper \">\\n        <div class=\"collection o__ltr\">\\n          <div class=\"collection__photo\">\\n            <svg role=\\'img\\' viewBox=\\'0 0 48 48\\'><g id=\"tools-edit\"><path d=\"M14.932 43.968L2 47l3.033-12.93 31.2-31.203a4 4 0 0 1 5.658 0l4.247 4.243a4 4 0 0 1 0 5.656L14.932 43.968zm29.84-29.735L34.82 4.28m7.125 12.782L31.992 7.11M15.436 43.465l-9.9-9.9\" stroke-width=\"2\" fill=\"none\" stroke-linecap=\"round\" stroke-linejoin=\"round\"></path></g></svg>\\n          </div>\\n          <div class=\"collection_meta\" dir=\"ltr\">\\n            <h2 class=\"t__h3 c__primary\">Miscellaneous</h2>\\n            <p class=\"paper__preview\">Have a question for DataCamp, but not about creating content? You&#39;ll probably find the answer here.</p>\\n            <div class=\"avatar\">\\n  <div class=\"avatar__photo avatars__images o__ltr\">\\n        <img src=\"https://static.intercomassets.com/avatars/2352718/square_128/Rebecca_Robins_-_Headshot-1535969735.jpg?1535969735\" alt=\"Becca Robins avatar\" class=\"avatar__image\">\\n\\n        <img src=\"https://static.intercomassets.com/avatars/2830289/square_128/IMG_0665_a-1545331304.jpg?1545331304\" alt=\"Lisa Monteleone avatar\" class=\"avatar__image\">\\n\\n        <img src=\"https://static.intercomassets.com/avatars/2859053/square_128/gabriel_about_pic-1546620603.jpg?1546620603\" alt=\"Gabriel de Selding avatar\" class=\"avatar__image\">\\n\\n  </div>\\n  <div class=\"avatar__info\">\\n    <div>\\n      <span class=\"c__darker\">\\n        9 articles in this collection\\n      </span>\\n      <br>\\n      Written by <span class=\\'c__darker\\'> Becca Robins,</span> <span class=\\'c__darker\\'> Lisa Monteleone,</span> and <span class=\\'c__darker\\'> Gabriel de Selding</span>\\n    </div>\\n  </div>\\n</div>\\n\\n          </div>\\n        </div>\\n      </a>\\n    </div>\\n</section>\\n</div>\\n    </div>\\n    <footer class=\"footer\">\\n  <div class=\"container\">\\n    <div class=\"content\">\\n      <div class=\"u__cf\"  dir=\"ltr\">\\n        <div class=\"footer__logo\">\\n          <a href=\"/\">\\n              <img alt=\"DataCamp Help Center\" src=\"https://downloads.intercomcdn.com/i/o/81221/856b63d438031754b681746b/4ea2737e4266936fb423911d9c587812.png\" />\\n          </a>\\n        </div>\\n        <div class=\"footer__advert logo\">\\n          <img src=\"https://intercom.help/_assets/intercom-a6a6ac0f033657af1aebe2e9e15b94a3cd5eabf6ae8b9916df6ea49099a894d8.png\" alt=\"Intercom\" />\\n          <a href=\"https://www.intercom.com/intercom-link?company=DataCamp&amp;solution=customer-support&amp;utm_campaign=intercom-link&amp;utm_content=We+run+on+Intercom&amp;utm_medium=help-center&amp;utm_referrer=http%3A%2F%2Finstructor-support.datacamp.com%2F&amp;utm_source=desktop-web\">We run on Intercom</a>\\n        </div>\\n      </div>\\n    </div>\\n  </div>\\n</footer>\\n\\n    \\n  <script nonce=\"fK3wu2xe5AkVPkGXJ0dkpYP4ELVuYM6n0Ln0rdizvpo=\">\\n    window.intercomSettings = {\"app_id\":\"ug0ps1rq\"};\\n</script>\\n  <script nonce=\"fK3wu2xe5AkVPkGXJ0dkpYP4ELVuYM6n0Ln0rdizvpo=\">\\n    (function(){var w=window;var ic=w.Intercom;if(typeof ic===\"function\"){ic(\\'reattach_activator\\');ic(\\'update\\',intercomSettings);}else{var d=document;var i=function(){i.c(arguments)};i.q=[];i.c=function(args){i.q.push(args)};w.Intercom=i;function l(){var s=d.createElement(\\'script\\');s.type=\\'text/javascript\\';s.async=true;s.src=\"https://widget.intercom.io/widget/ug0ps1rq\";var x=d.getElementsByTagName(\\'script\\')[0];x.parentNode.insertBefore(s,x);}if(w.attachEvent){w.attachEvent(\\'onload\\',l);}else{w.addEventListener(\\'load\\',l,false);}}})()\\n</script>\\n\\n    \\n\\n    <script src=\"https://intercom.help/_assets/application-a94ed74b059ca570829a64c380b1fcb7b2c410f3dadd8f69f9dcea82657eff9c.js\" nonce=\"fK3wu2xe5AkVPkGXJ0dkpYP4ELVuYM6n0Ln0rdizvpo=\"></script>\\n  </body>\\n</html>\\n'"
      ]
     },
     "execution_count": 43,
     "metadata": {},
     "output_type": "execute_result"
    }
   ],
   "source": [
    "# package the request and send the request and catch the response and print the html text\n",
    "requests.get(url).text\n"
   ]
  },
  {
   "cell_type": "markdown",
   "metadata": {},
   "source": [
    "<a id ='soup'> <a>\n",
    "## Parsing HTML with BeautifulSoup\n",
    "\n"
   ]
  },
  {
   "cell_type": "code",
   "execution_count": 50,
   "metadata": {},
   "outputs": [
    {
     "name": "stdout",
     "output_type": "stream",
     "text": [
      "<html>\n",
      "<head>\n",
      "<title>Guido's Personal Home Page</title>\n",
      "</head>\n",
      "<body bgcolor=\"#FFFFFF\" text=\"#000000\">\n",
      "<h1>\n",
      "<a href=\"pics.html\"><img border=\"0\" src=\"images/IMG_2192.jpg\"/></a>\n",
      "Guido van Rossum - Personal Home Page</h1>\n",
      "<p><a href=\"http://www.washingtonpost.com/wp-srv/business/longterm/microsoft/stories/1998/raymond120398.htm\"><i>\"Gawky and proud of it.\"</i></a>\n",
      "</p><h3><a href=\"http://metalab.unc.edu/Dave/Dr-Fun/df200004/df20000406.jpg\">Who\n",
      "I Am</a></h3>\n",
      "<p>Read\n",
      "my <a href=\"http://neopythonic.blogspot.com/2016/04/kings-day-speech.html\">\"King's\n",
      "Day Speech\"</a> for some inspiration.\n",
      "\n",
      "</p><p>I am the author of the <a href=\"http://www.python.org\">Python</a>\n",
      "programming language.  See also my <a href=\"Resume.html\">resume</a>\n",
      "and my <a href=\"Publications.html\">publications list</a>, a <a href=\"bio.html\">brief bio</a>, assorted <a href=\"http://legacy.python.org/doc/essays/\">writings</a>, <a href=\"http://legacy.python.org/doc/essays/ppt/\">presentations</a> and <a href=\"interviews.html\">interviews</a> (all about Python), some\n",
      "<a href=\"pics.html\">pictures of me</a>,\n",
      "<a href=\"http://neopythonic.blogspot.com\">my new blog</a>, and\n",
      "my <a href=\"http://www.artima.com/weblogs/index.jsp?blogger=12088\">old\n",
      "blog</a> on Artima.com.  I am\n",
      "<a href=\"https://twitter.com/gvanrossum\">@gvanrossum</a> on Twitter.  I\n",
      "also have\n",
      "a <a href=\"https://plus.google.com/u/0/115212051037621986145/posts\">G+\n",
      "profile</a>.\n",
      "\n",
      "</p><p>In January 2013 I joined\n",
      "<a href=\"http://www.dropbox.com\">Dropbox</a>.  I work on various Dropbox\n",
      "products and have 50% for my Python work, no strings attached.\n",
      "Previously, I have worked for Google, Elemental Security, Zope\n",
      "Corporation, BeOpen.com, CNRI, CWI, and SARA.  (See\n",
      "my <a href=\"Resume.html\">resume</a>.)  I created Python while at CWI.\n",
      "\n",
      "</p><h3>How to Reach Me</h3>\n",
      "<p>You can send email for me to guido (at) python.org.\n",
      "I read everything sent there, but if you ask\n",
      "me a question about using Python, it's likely that I won't have time\n",
      "to answer it, and will instead refer you to\n",
      "help (at) python.org,\n",
      "<a href=\"http://groups.google.com/groups?q=comp.lang.python\">comp.lang.python</a> or\n",
      "<a href=\"http://stackoverflow.com\">StackOverflow</a>.  If you need to\n",
      "talk to me on the phone or send me something by snail mail, send me an\n",
      "email and I'll gladly email you instructions on how to reach me.\n",
      "\n",
      "</p><h3>My Name</h3>\n",
      "<p>My name often poses difficulties for Americans.\n",
      "\n",
      "</p><p><b>Pronunciation:</b> in Dutch, the \"G\" in Guido is a hard G,\n",
      "pronounced roughly like the \"ch\" in Scottish \"loch\".  (Listen to the\n",
      "<a href=\"guido.au\">sound clip</a>.)  However, if you're\n",
      "American, you may also pronounce it as the Italian \"Guido\".  I'm not\n",
      "too worried about the associations with mob assassins that some people\n",
      "have. :-)\n",
      "\n",
      "</p><p><b>Spelling:</b> my last name is two words, and I'd like to keep it\n",
      "that way, the spelling on some of my credit cards notwithstanding.\n",
      "Dutch spelling rules dictate that when used in combination with my\n",
      "first name, \"van\" is not capitalized: \"Guido van Rossum\".  But when my\n",
      "last name is used alone to refer to me, it is capitalized, for\n",
      "example: \"As usual, Van Rossum was right.\"\n",
      "\n",
      "</p><p><b>Alphabetization:</b> in America, I show up in the alphabet under\n",
      "\"V\".  But in Europe, I show up under \"R\".  And some of my friends put\n",
      "me under \"G\" in their address book...\n",
      "\n",
      "\n",
      "</p><h3>More Hyperlinks</h3>\n",
      "<ul>\n",
      "<li>Here's a collection of <a href=\"http://legacy.python.org/doc/essays/\">essays</a> relating to Python\n",
      "that I've written, including the foreword I wrote for Mark Lutz' book\n",
      "\"Programming Python\".<p>\n",
      "</p></li><li>I own the official <a href=\"images/license.jpg\"><img align=\"center\" border=\"0\" height=\"75\" src=\"images/license_thumb.jpg\" width=\"100\"/>\n",
      "Python license.</a><p>\n",
      "</p></li></ul>\n",
      "<h3>The Audio File Formats FAQ</h3>\n",
      "<p>I was the original creator and maintainer of the Audio File Formats\n",
      "FAQ.  It is now maintained by Chris Bagwell\n",
      "at <a href=\"http://www.cnpbagwell.com/audio-faq\">http://www.cnpbagwell.com/audio-faq</a>.  And here is a link to\n",
      "<a href=\"http://sox.sourceforge.net/\">SOX</a>, to which I contributed\n",
      "some early code.\n",
      "\n",
      "\n",
      "\n",
      "</p><hr/>\n",
      "<a href=\"images/internetdog.gif\">\"On the Internet, nobody knows you're\n",
      "a dog.\"</a>\n",
      "<hr/>\n",
      "</body>\n",
      "</html>\n"
     ]
    }
   ],
   "source": [
    "# Import packages\n",
    "import requests\n",
    "from bs4 import BeautifulSoup\n",
    "\n",
    "# Specify url: url\n",
    "url = 'https://www.python.org/~guido/'\n",
    "\n",
    "# Package the request, send the request and catch the response: r\n",
    "r = requests.get(url)\n",
    "\n",
    "# Extracts the response as html: html_doc\n",
    "html_doc  = r.text\n",
    "\n",
    "# Create a BeautifulSoup object from the HTML: soup\n",
    "soup = BeautifulSoup(html_doc, 'lxml')\n",
    "print(soup)\n",
    "\n",
    "\n"
   ]
  },
  {
   "cell_type": "code",
   "execution_count": 49,
   "metadata": {},
   "outputs": [
    {
     "name": "stdout",
     "output_type": "stream",
     "text": [
      "<html>\n",
      " <head>\n",
      "  <title>\n",
      "   Guido's Personal Home Page\n",
      "  </title>\n",
      " </head>\n",
      " <body bgcolor=\"#FFFFFF\" text=\"#000000\">\n",
      "  <h1>\n",
      "   <a href=\"pics.html\">\n",
      "    <img border=\"0\" src=\"images/IMG_2192.jpg\"/>\n",
      "   </a>\n",
      "   Guido van Rossum - Personal Home Page\n",
      "  </h1>\n",
      "  <p>\n",
      "   <a href=\"http://www.washingtonpost.com/wp-srv/business/longterm/microsoft/stories/1998/raymond120398.htm\">\n",
      "    <i>\n",
      "     \"Gawky and proud of it.\"\n",
      "    </i>\n",
      "   </a>\n",
      "  </p>\n",
      "  <h3>\n",
      "   <a href=\"http://metalab.unc.edu/Dave/Dr-Fun/df200004/df20000406.jpg\">\n",
      "    Who\n",
      "I Am\n",
      "   </a>\n",
      "  </h3>\n",
      "  <p>\n",
      "   Read\n",
      "my\n",
      "   <a href=\"http://neopythonic.blogspot.com/2016/04/kings-day-speech.html\">\n",
      "    \"King's\n",
      "Day Speech\"\n",
      "   </a>\n",
      "   for some inspiration.\n",
      "  </p>\n",
      "  <p>\n",
      "   I am the author of the\n",
      "   <a href=\"http://www.python.org\">\n",
      "    Python\n",
      "   </a>\n",
      "   programming language.  See also my\n",
      "   <a href=\"Resume.html\">\n",
      "    resume\n",
      "   </a>\n",
      "   and my\n",
      "   <a href=\"Publications.html\">\n",
      "    publications list\n",
      "   </a>\n",
      "   , a\n",
      "   <a href=\"bio.html\">\n",
      "    brief bio\n",
      "   </a>\n",
      "   , assorted\n",
      "   <a href=\"http://legacy.python.org/doc/essays/\">\n",
      "    writings\n",
      "   </a>\n",
      "   ,\n",
      "   <a href=\"http://legacy.python.org/doc/essays/ppt/\">\n",
      "    presentations\n",
      "   </a>\n",
      "   and\n",
      "   <a href=\"interviews.html\">\n",
      "    interviews\n",
      "   </a>\n",
      "   (all about Python), some\n",
      "   <a href=\"pics.html\">\n",
      "    pictures of me\n",
      "   </a>\n",
      "   ,\n",
      "   <a href=\"http://neopythonic.blogspot.com\">\n",
      "    my new blog\n",
      "   </a>\n",
      "   , and\n",
      "my\n",
      "   <a href=\"http://www.artima.com/weblogs/index.jsp?blogger=12088\">\n",
      "    old\n",
      "blog\n",
      "   </a>\n",
      "   on Artima.com.  I am\n",
      "   <a href=\"https://twitter.com/gvanrossum\">\n",
      "    @gvanrossum\n",
      "   </a>\n",
      "   on Twitter.  I\n",
      "also have\n",
      "a\n",
      "   <a href=\"https://plus.google.com/u/0/115212051037621986145/posts\">\n",
      "    G+\n",
      "profile\n",
      "   </a>\n",
      "   .\n",
      "  </p>\n",
      "  <p>\n",
      "   In January 2013 I joined\n",
      "   <a href=\"http://www.dropbox.com\">\n",
      "    Dropbox\n",
      "   </a>\n",
      "   .  I work on various Dropbox\n",
      "products and have 50% for my Python work, no strings attached.\n",
      "Previously, I have worked for Google, Elemental Security, Zope\n",
      "Corporation, BeOpen.com, CNRI, CWI, and SARA.  (See\n",
      "my\n",
      "   <a href=\"Resume.html\">\n",
      "    resume\n",
      "   </a>\n",
      "   .)  I created Python while at CWI.\n",
      "  </p>\n",
      "  <h3>\n",
      "   How to Reach Me\n",
      "  </h3>\n",
      "  <p>\n",
      "   You can send email for me to guido (at) python.org.\n",
      "I read everything sent there, but if you ask\n",
      "me a question about using Python, it's likely that I won't have time\n",
      "to answer it, and will instead refer you to\n",
      "help (at) python.org,\n",
      "   <a href=\"http://groups.google.com/groups?q=comp.lang.python\">\n",
      "    comp.lang.python\n",
      "   </a>\n",
      "   or\n",
      "   <a href=\"http://stackoverflow.com\">\n",
      "    StackOverflow\n",
      "   </a>\n",
      "   .  If you need to\n",
      "talk to me on the phone or send me something by snail mail, send me an\n",
      "email and I'll gladly email you instructions on how to reach me.\n",
      "  </p>\n",
      "  <h3>\n",
      "   My Name\n",
      "  </h3>\n",
      "  <p>\n",
      "   My name often poses difficulties for Americans.\n",
      "  </p>\n",
      "  <p>\n",
      "   <b>\n",
      "    Pronunciation:\n",
      "   </b>\n",
      "   in Dutch, the \"G\" in Guido is a hard G,\n",
      "pronounced roughly like the \"ch\" in Scottish \"loch\".  (Listen to the\n",
      "   <a href=\"guido.au\">\n",
      "    sound clip\n",
      "   </a>\n",
      "   .)  However, if you're\n",
      "American, you may also pronounce it as the Italian \"Guido\".  I'm not\n",
      "too worried about the associations with mob assassins that some people\n",
      "have. :-)\n",
      "  </p>\n",
      "  <p>\n",
      "   <b>\n",
      "    Spelling:\n",
      "   </b>\n",
      "   my last name is two words, and I'd like to keep it\n",
      "that way, the spelling on some of my credit cards notwithstanding.\n",
      "Dutch spelling rules dictate that when used in combination with my\n",
      "first name, \"van\" is not capitalized: \"Guido van Rossum\".  But when my\n",
      "last name is used alone to refer to me, it is capitalized, for\n",
      "example: \"As usual, Van Rossum was right.\"\n",
      "  </p>\n",
      "  <p>\n",
      "   <b>\n",
      "    Alphabetization:\n",
      "   </b>\n",
      "   in America, I show up in the alphabet under\n",
      "\"V\".  But in Europe, I show up under \"R\".  And some of my friends put\n",
      "me under \"G\" in their address book...\n",
      "  </p>\n",
      "  <h3>\n",
      "   More Hyperlinks\n",
      "  </h3>\n",
      "  <ul>\n",
      "   <li>\n",
      "    Here's a collection of\n",
      "    <a href=\"http://legacy.python.org/doc/essays/\">\n",
      "     essays\n",
      "    </a>\n",
      "    relating to Python\n",
      "that I've written, including the foreword I wrote for Mark Lutz' book\n",
      "\"Programming Python\".\n",
      "    <p>\n",
      "    </p>\n",
      "   </li>\n",
      "   <li>\n",
      "    I own the official\n",
      "    <a href=\"images/license.jpg\">\n",
      "     <img align=\"center\" border=\"0\" height=\"75\" src=\"images/license_thumb.jpg\" width=\"100\"/>\n",
      "     Python license.\n",
      "    </a>\n",
      "    <p>\n",
      "    </p>\n",
      "   </li>\n",
      "  </ul>\n",
      "  <h3>\n",
      "   The Audio File Formats FAQ\n",
      "  </h3>\n",
      "  <p>\n",
      "   I was the original creator and maintainer of the Audio File Formats\n",
      "FAQ.  It is now maintained by Chris Bagwell\n",
      "at\n",
      "   <a href=\"http://www.cnpbagwell.com/audio-faq\">\n",
      "    http://www.cnpbagwell.com/audio-faq\n",
      "   </a>\n",
      "   .  And here is a link to\n",
      "   <a href=\"http://sox.sourceforge.net/\">\n",
      "    SOX\n",
      "   </a>\n",
      "   , to which I contributed\n",
      "some early code.\n",
      "  </p>\n",
      "  <hr/>\n",
      "  <a href=\"images/internetdog.gif\">\n",
      "   \"On the Internet, nobody knows you're\n",
      "a dog.\"\n",
      "  </a>\n",
      "  <hr/>\n",
      " </body>\n",
      "</html>\n"
     ]
    }
   ],
   "source": [
    "print(soup.prettify())"
   ]
  },
  {
   "cell_type": "markdown",
   "metadata": {},
   "source": [
    "<a id = 'text'> <a>\n",
    "### Turning a webpage into data using BeautifulSoup: getting the text"
   ]
  },
  {
   "cell_type": "code",
   "execution_count": 53,
   "metadata": {},
   "outputs": [
    {
     "name": "stdout",
     "output_type": "stream",
     "text": [
      "<title>Guido's Personal Home Page</title>\n"
     ]
    }
   ],
   "source": [
    "# Import packages\n",
    "import requests\n",
    "from bs4 import BeautifulSoup\n",
    "\n",
    "# Specify url: url\n",
    "url = 'https://www.python.org/~guido/'\n",
    "\n",
    "# Package the request, send the request and catch the response: r\n",
    "r = requests.get(url)\n",
    "\n",
    "# Extract the response as html: html_doc\n",
    "html_doc = r.text\n",
    "\n",
    "# Create a BeautifulSoup object from the HTML: soup\n",
    "soup = BeautifulSoup(html_doc, 'lxml')\n",
    "\n",
    "# Get the title of Guido's webpage: guido_title\n",
    "guido_title = soup.title\n",
    "\n",
    "# Print the title of Guido's webpage to the shell\n",
    "print(guido_title)\n",
    "\n"
   ]
  },
  {
   "cell_type": "code",
   "execution_count": 54,
   "metadata": {},
   "outputs": [
    {
     "name": "stdout",
     "output_type": "stream",
     "text": [
      "\n",
      "\n",
      "Guido's Personal Home Page\n",
      "\n",
      "\n",
      "\n",
      "\n",
      "Guido van Rossum - Personal Home Page\n",
      "\"Gawky and proud of it.\"\n",
      "Who\n",
      "I Am\n",
      "Read\n",
      "my \"King's\n",
      "Day Speech\" for some inspiration.\n",
      "\n",
      "I am the author of the Python\n",
      "programming language.  See also my resume\n",
      "and my publications list, a brief bio, assorted writings, presentations and interviews (all about Python), some\n",
      "pictures of me,\n",
      "my new blog, and\n",
      "my old\n",
      "blog on Artima.com.  I am\n",
      "@gvanrossum on Twitter.  I\n",
      "also have\n",
      "a G+\n",
      "profile.\n",
      "\n",
      "In January 2013 I joined\n",
      "Dropbox.  I work on various Dropbox\n",
      "products and have 50% for my Python work, no strings attached.\n",
      "Previously, I have worked for Google, Elemental Security, Zope\n",
      "Corporation, BeOpen.com, CNRI, CWI, and SARA.  (See\n",
      "my resume.)  I created Python while at CWI.\n",
      "\n",
      "How to Reach Me\n",
      "You can send email for me to guido (at) python.org.\n",
      "I read everything sent there, but if you ask\n",
      "me a question about using Python, it's likely that I won't have time\n",
      "to answer it, and will instead refer you to\n",
      "help (at) python.org,\n",
      "comp.lang.python or\n",
      "StackOverflow.  If you need to\n",
      "talk to me on the phone or send me something by snail mail, send me an\n",
      "email and I'll gladly email you instructions on how to reach me.\n",
      "\n",
      "My Name\n",
      "My name often poses difficulties for Americans.\n",
      "\n",
      "Pronunciation: in Dutch, the \"G\" in Guido is a hard G,\n",
      "pronounced roughly like the \"ch\" in Scottish \"loch\".  (Listen to the\n",
      "sound clip.)  However, if you're\n",
      "American, you may also pronounce it as the Italian \"Guido\".  I'm not\n",
      "too worried about the associations with mob assassins that some people\n",
      "have. :-)\n",
      "\n",
      "Spelling: my last name is two words, and I'd like to keep it\n",
      "that way, the spelling on some of my credit cards notwithstanding.\n",
      "Dutch spelling rules dictate that when used in combination with my\n",
      "first name, \"van\" is not capitalized: \"Guido van Rossum\".  But when my\n",
      "last name is used alone to refer to me, it is capitalized, for\n",
      "example: \"As usual, Van Rossum was right.\"\n",
      "\n",
      "Alphabetization: in America, I show up in the alphabet under\n",
      "\"V\".  But in Europe, I show up under \"R\".  And some of my friends put\n",
      "me under \"G\" in their address book...\n",
      "\n",
      "\n",
      "More Hyperlinks\n",
      "\n",
      "Here's a collection of essays relating to Python\n",
      "that I've written, including the foreword I wrote for Mark Lutz' book\n",
      "\"Programming Python\".\n",
      "I own the official \n",
      "Python license.\n",
      "\n",
      "The Audio File Formats FAQ\n",
      "I was the original creator and maintainer of the Audio File Formats\n",
      "FAQ.  It is now maintained by Chris Bagwell\n",
      "at http://www.cnpbagwell.com/audio-faq.  And here is a link to\n",
      "SOX, to which I contributed\n",
      "some early code.\n",
      "\n",
      "\n",
      "\n",
      "\n",
      "\"On the Internet, nobody knows you're\n",
      "a dog.\"\n",
      "\n",
      "\n",
      "\n"
     ]
    }
   ],
   "source": [
    "# Get Guido's text: guido_text\n",
    "guido_text = soup.get_text()\n",
    "\n",
    "# Print Guido's text to the shell\n",
    "print(guido_text)\n",
    "\n"
   ]
  },
  {
   "cell_type": "markdown",
   "metadata": {},
   "source": [
    "<a id = 'links'> <a>\n",
    "### Turning a webpage into data using BeautifulSoup: getting the hyperlinks"
   ]
  },
  {
   "cell_type": "code",
   "execution_count": 55,
   "metadata": {},
   "outputs": [
    {
     "data": {
      "text/plain": [
       "[<a href=\"pics.html\"><img border=\"0\" src=\"images/IMG_2192.jpg\"/></a>,\n",
       " <a href=\"http://www.washingtonpost.com/wp-srv/business/longterm/microsoft/stories/1998/raymond120398.htm\"><i>\"Gawky and proud of it.\"</i></a>,\n",
       " <a href=\"http://metalab.unc.edu/Dave/Dr-Fun/df200004/df20000406.jpg\">Who\n",
       " I Am</a>,\n",
       " <a href=\"http://neopythonic.blogspot.com/2016/04/kings-day-speech.html\">\"King's\n",
       " Day Speech\"</a>,\n",
       " <a href=\"http://www.python.org\">Python</a>,\n",
       " <a href=\"Resume.html\">resume</a>,\n",
       " <a href=\"Publications.html\">publications list</a>,\n",
       " <a href=\"bio.html\">brief bio</a>,\n",
       " <a href=\"http://legacy.python.org/doc/essays/\">writings</a>,\n",
       " <a href=\"http://legacy.python.org/doc/essays/ppt/\">presentations</a>,\n",
       " <a href=\"interviews.html\">interviews</a>,\n",
       " <a href=\"pics.html\">pictures of me</a>,\n",
       " <a href=\"http://neopythonic.blogspot.com\">my new blog</a>,\n",
       " <a href=\"http://www.artima.com/weblogs/index.jsp?blogger=12088\">old\n",
       " blog</a>,\n",
       " <a href=\"https://twitter.com/gvanrossum\">@gvanrossum</a>,\n",
       " <a href=\"https://plus.google.com/u/0/115212051037621986145/posts\">G+\n",
       " profile</a>,\n",
       " <a href=\"http://www.dropbox.com\">Dropbox</a>,\n",
       " <a href=\"Resume.html\">resume</a>,\n",
       " <a href=\"http://groups.google.com/groups?q=comp.lang.python\">comp.lang.python</a>,\n",
       " <a href=\"http://stackoverflow.com\">StackOverflow</a>,\n",
       " <a href=\"guido.au\">sound clip</a>,\n",
       " <a href=\"http://legacy.python.org/doc/essays/\">essays</a>,\n",
       " <a href=\"images/license.jpg\"><img align=\"center\" border=\"0\" height=\"75\" src=\"images/license_thumb.jpg\" width=\"100\"/>\n",
       " Python license.</a>,\n",
       " <a href=\"http://www.cnpbagwell.com/audio-faq\">http://www.cnpbagwell.com/audio-faq</a>,\n",
       " <a href=\"http://sox.sourceforge.net/\">SOX</a>,\n",
       " <a href=\"images/internetdog.gif\">\"On the Internet, nobody knows you're\n",
       " a dog.\"</a>]"
      ]
     },
     "execution_count": 55,
     "metadata": {},
     "output_type": "execute_result"
    }
   ],
   "source": [
    "# Find all 'a' tags (which define hyperlinks): a_tags\n",
    "a_tags = soup.find_all('a')\n",
    "a_tags"
   ]
  },
  {
   "cell_type": "code",
   "execution_count": 56,
   "metadata": {},
   "outputs": [
    {
     "name": "stdout",
     "output_type": "stream",
     "text": [
      "pics.html\n",
      "http://www.washingtonpost.com/wp-srv/business/longterm/microsoft/stories/1998/raymond120398.htm\n",
      "http://metalab.unc.edu/Dave/Dr-Fun/df200004/df20000406.jpg\n",
      "http://neopythonic.blogspot.com/2016/04/kings-day-speech.html\n",
      "http://www.python.org\n",
      "Resume.html\n",
      "Publications.html\n",
      "bio.html\n",
      "http://legacy.python.org/doc/essays/\n",
      "http://legacy.python.org/doc/essays/ppt/\n",
      "interviews.html\n",
      "pics.html\n",
      "http://neopythonic.blogspot.com\n",
      "http://www.artima.com/weblogs/index.jsp?blogger=12088\n",
      "https://twitter.com/gvanrossum\n",
      "https://plus.google.com/u/0/115212051037621986145/posts\n",
      "http://www.dropbox.com\n",
      "Resume.html\n",
      "http://groups.google.com/groups?q=comp.lang.python\n",
      "http://stackoverflow.com\n",
      "guido.au\n",
      "http://legacy.python.org/doc/essays/\n",
      "images/license.jpg\n",
      "http://www.cnpbagwell.com/audio-faq\n",
      "http://sox.sourceforge.net/\n",
      "images/internetdog.gif\n"
     ]
    }
   ],
   "source": [
    "# Print the URLs to the shell\n",
    "for i in a_tags:\n",
    "    print(i.get('href'))"
   ]
  },
  {
   "cell_type": "code",
   "execution_count": null,
   "metadata": {},
   "outputs": [],
   "source": []
  }
 ],
 "metadata": {
  "kernelspec": {
   "display_name": "Python 3",
   "language": "python",
   "name": "python3"
  },
  "language_info": {
   "codemirror_mode": {
    "name": "ipython",
    "version": 3
   },
   "file_extension": ".py",
   "mimetype": "text/x-python",
   "name": "python",
   "nbconvert_exporter": "python",
   "pygments_lexer": "ipython3",
   "version": "3.6.5"
  }
 },
 "nbformat": 4,
 "nbformat_minor": 2
}
