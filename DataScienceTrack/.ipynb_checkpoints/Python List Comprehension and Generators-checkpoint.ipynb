{
 "cells": [
  {
   "cell_type": "markdown",
   "metadata": {},
   "source": [
    "* [Introduction to iterators](#Iti)\n",
    "* [Iterators vs Iterables](#IvI)\n",
    "* [Iterating over iterables (1)](#Ioi()\n",
    "* [Iterating over iterables (2)](#Ioi()\n",
    "* [Iterators as function arguments](#Iafa)\n",
    "* [Playing with iterators](#Pwi)\n",
    "* [Using enumerate](#Ue)\n",
    "* [Using zip](#Uz)\n",
    "* [Using * and zip to 'unzip'](#U*azt')\n",
    "* [Using iterators to load large files into memory](#Uitllfim)\n",
    "* [Processing large amounts of Twitter data](#PlaoTd)\n",
    "* [Extracting information for large amounts of Twitter data](#EiflaoTd)\n",
    "* [Congratulations!!](#C)\n",
    "* [List comprehensions](#Lc)\n",
    "* [Write a basic list comprehension](#Wablc)\n",
    "* [List comprehension over iterables](#Lcoi)\n",
    "* [Writing list comprehensions](#Wlc)\n",
    "* [Nested list comprehensions](#Nlc)\n",
    "* [Advanced comprehensions](#Ac)\n",
    "* [Using conditionals in comprehensions (1)](#Ucic()\n",
    "* [Using conditionals in comprehensions (2)](#Ucic()\n",
    "* [Dict comprehensions](#Dc)\n",
    "* [Introduction to generator expressions](#Itge)\n",
    "* [List comprehensions vs generators](#Lcvg)\n",
    "* [Write your own generator expressions](#Wyoge)\n",
    "* [Changing the output in generator expressions](#Ctoige)\n",
    "* [Build a generator](#Bag)\n",
    "* [Wrapping up comprehensions and generators.](#Wucag)\n",
    "* [List comprehensions for time-stamped data](#Lcftd)\n",
    "* [Conditional list comprehensions for time-stamped data](#Clcftd)\n",
    "* [Welcome to the case study!](#Wttcs)\n",
    "* [Dictionaries for data science](#Dfds)\n",
    "* [Writing a function to help you](#Wafthy)\n",
    "* [Using a list comprehension](#Ualc)\n",
    "* [Turning this all into a DataFrame](#TtaiaD)\n",
    "* [Using Python generators for streaming data](#UPgfsd)\n",
    "* [Processing data in chunks (1)](#Pdic()\n",
    "* [Writing a generator to load data in chunks (2)](#Wagtldic()\n",
    "* [Writing a generator to load data in chunks (3)](#Wagtldic()\n",
    "* [Using pandas` read_csv iterator for streaming data](#Uprifsd)\n",
    "* [Writing an iterator to load data in chunks (1)](#Waitldic()\n",
    "* [Writing an iterator to load data in chunks (2)](#Waitldic()\n",
    "* [Writing an iterator to load data in chunks (3)](#Waitldic()\n",
    "* [Writing an iterator to load data in chunks (4)](#Waitldic()\n",
    "* [Writing an iterator to load data in chunks (5)](#Waitldic()\n"
   ]
  },
  {
   "cell_type": "code",
   "execution_count": null,
   "metadata": {},
   "outputs": [],
   "source": []
  }
 ],
 "metadata": {
  "kernelspec": {
   "display_name": "Python 3",
   "language": "python",
   "name": "python3"
  },
  "language_info": {
   "codemirror_mode": {
    "name": "ipython",
    "version": 3
   },
   "file_extension": ".py",
   "mimetype": "text/x-python",
   "name": "python",
   "nbconvert_exporter": "python",
   "pygments_lexer": "ipython3",
   "version": "3.6.5"
  }
 },
 "nbformat": 4,
 "nbformat_minor": 2
}
