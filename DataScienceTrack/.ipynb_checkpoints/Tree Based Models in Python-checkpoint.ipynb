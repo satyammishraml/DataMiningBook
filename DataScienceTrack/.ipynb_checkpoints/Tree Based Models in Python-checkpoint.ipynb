{
 "cells": [
  {
   "cell_type": "code",
   "execution_count": 2,
   "metadata": {},
   "outputs": [
    {
     "name": "stdout",
     "output_type": "stream",
     "text": [
      "Analyzing time series and images.ipynb\r\n",
      "Bokeh.ipynb\r\n",
      "Bootstrap.ipynb\r\n",
      "Combining and Cleaning Data in Analysis.ipynb\r\n",
      "Deep Learning in python.ipynb\r\n",
      "EXploring.ipynb\r\n",
      "Grouping Data.ipynb\r\n",
      "Importing Data in Python Part 1.ipynb\r\n",
      "Index.ipynb\r\n",
      "Interacting with APIs to import data from the web.ipynb\r\n",
      "Introduction to Hypothesis Testing.ipynb\r\n",
      "Introduction to data visualisation with python.ipynb\r\n",
      "Introduction to databases in Python.ipynb\r\n",
      "JOIns.ipynb\r\n",
      "Linear regression.ipynb\r\n",
      "Manipulating DataFrames with pandas.ipynb\r\n",
      "Merge pd -Merging and Case Study[Conflict].ipynb\r\n",
      "Network Analysis in python.ipynb\r\n",
      "PANDAS.ipynb\r\n",
      "Python List Comprehension and Generators.ipynb\r\n",
      "Scrap.ipynb\r\n",
      "Shell for Data Science.ipynb\r\n",
      "Statistical Thinking in Python 1.ipynb\r\n",
      "Statistical Thinking in python 2.ipynb\r\n",
      "Statistical plots with Seaborn.ipynb\r\n",
      "Supervised Learning with Scikit Learn.ipynb\r\n",
      "Tree Based Models in Python.ipynb\r\n",
      "Unsupervised Learning in python.ipynb\r\n",
      "\u001b[34mbokeh_programs\u001b[m\u001b[m/\r\n",
      "\u001b[34mdata\u001b[m\u001b[m/\r\n",
      "gapminder.html\r\n",
      "helper_data.py.ipynb\r\n",
      "line.html\r\n",
      "macs.ipynb\r\n",
      "mdlc.ipynb\r\n",
      "nohitter_times.py\r\n",
      "\u001b[34mplots\u001b[m\u001b[m/\r\n",
      "rough.py\r\n",
      "scrap.py\r\n",
      "untitled.txt\r\n"
     ]
    }
   ],
   "source": [
    "ls\n"
   ]
  },
  {
   "cell_type": "code",
   "execution_count": null,
   "metadata": {},
   "outputs": [],
   "source": []
  }
 ],
 "metadata": {
  "kernelspec": {
   "display_name": "Python 2",
   "language": "python",
   "name": "python2"
  },
  "language_info": {
   "codemirror_mode": {
    "name": "ipython",
    "version": 2
   },
   "file_extension": ".py",
   "mimetype": "text/x-python",
   "name": "python",
   "nbconvert_exporter": "python",
   "pygments_lexer": "ipython2",
   "version": "2.7.13"
  }
 },
 "nbformat": 4,
 "nbformat_minor": 2
}
