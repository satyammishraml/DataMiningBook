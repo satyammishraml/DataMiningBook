{
 "cells": [
  {
   "cell_type": "markdown",
   "metadata": {},
   "source": [
    "The Unix command line has survived and thrived for almost fifty years because it lets people do complex things with just a few keystrokes. Sometimes called \"the universal glue of programming\", it helps users combine existing programs in new ways, automate repetitive tasks, and run programs on clusters and clouds that may be halfway around the world. This course will introduce its key elements and show you how to use them efficiently.\n"
   ]
  },
  {
   "cell_type": "markdown",
   "metadata": {},
   "source": [
    "* [How does the shell compare to a desktop interface?](#Hdtsctadi)\n",
    "* [Where am I?](#WaI)\n",
    "* [How can I identify files and directories?](#HcIifad)\n",
    "* [How else can I identify files and directories?](#HecIifad)\n",
    "* [How can I move to another directory?](#HcImtad)\n",
    "* [How can I move up a directory?](#HcImuad)\n",
    "* [How can I copy files?](#HcIcf)\n",
    "* [How can I move a file?](#HcImaf)\n",
    "* [How can I rename files?](#HcIrf)\n",
    "* [How can I delete files?](#HcIdf)\n",
    "* [How can I create and delete directories?](#HcIcadd)\n",
    "* [Wrapping up](#Wu)\n",
    "* [How can I store a command's output in a file?](#HcIsacoiaf)\n",
    "* [How can I use a command's output as an input?](#HcIuacoaai)\n",
    "* [What's a better way to combine commands?](#Wabwtcc)\n",
    "* [How can I combine many commands?](#HcIcmc)\n",
    "* [How can I count the records in a file?](#HcIctriaf)\n",
    "* [How can I specify many files at once?](#HcIsmfao)\n",
    "* [What other wildcards can I use?](#WowcIu)\n",
    "* [How can I sort lines of text?](#HcIslot)\n",
    "* [How can I remove duplicate lines?](#HcIrdl)\n",
    "* [How can I save the output of a pipe?](#HcIstooap)\n",
    "* [How can I stop a running program?](#HcIsarp)\n",
    "* [Wrapping up](#Wu)\n",
    "* [How can I edit a file?](#HcIeaf)\n",
    "* [How can I record what I just did?](#HcIrwIjd)\n",
    "* [How can I save commands to re-run later?](#HcIsctrl)\n",
    "* [How can I re-use pipes?](#HcIrp)\n",
    "* [How can I pass filenames to scripts?](#HcIpfts)\n",
    "* [How can I process a single argument?](#HcIpasa)\n",
    "* [How can one shell script do many things?](#Hcossdmt)\n",
    "* [How can I write loops in a shell script?](#HcIwliass)\n",
    "* [What happens when I don't provide filenames?](#WhwIdpf)\n",
    "* [How can I view a file's contents?](#HcIvafc)\n",
    "* [How can I view a file's contents piece by piece?](#HcIvafcpbp)\n",
    "* [How can I look at the start of a file?](#HcIlatsoaf)\n",
    "* [How can I type less?](#HcItl)\n",
    "* [How can I control what commands do?](#HcIcwcd)\n",
    "* [How can I list everything below a directory?](#HcIlebad)\n",
    "* [How can I get help for a command?](#HcIghfac)\n",
    "* [How can I select columns from a file?](#HcIscfaf)\n",
    "* [What can't cut do?](#Wccd)\n",
    "* [How can I repeat commands?](#HcIrc)\n",
    "* [How can I select lines containing specific values?](#HcIslcsv)\n",
    "* [Why isn't it always safe to treat data as text?](#Wiiasttdat)\n",
    "* [How does the shell store information?](#Hdtssi)\n",
    "* [How can I print a variable's value?](#HcIpavv)\n",
    "* [How else does the shell store information?](#Hedtssi)\n",
    "* [How can I repeat a command many times?](#HcIracmt)\n",
    "* [How can I repeat a command once for each file?](#HcIracofef)\n",
    "* [How can I record the names of a set of files?](#HcIrtnoasof)\n",
    "* [A variable's name versus its value](#Avnviv)\n",
    "* [How can I run many commands in a single loop?](#HcIrmciasl)\n",
    "* [Why shouldn't I use spaces in filenames?](#WsIusif)\n",
    "* [How can I do many things in a single loop?](#HcIdmtiasl)"
   ]
  },
  {
   "cell_type": "markdown",
   "metadata": {},
   "source": [
    "### How does the shell compare to a desktop interface?\n",
    "<p id ='Hdtsctadi'><p>\n",
    "\n"
   ]
  },
  {
   "cell_type": "markdown",
   "metadata": {},
   "source": [
    "### Where am I?\n",
    "<p id ='WaI'><p>\n",
    "\n"
   ]
  },
  {
   "cell_type": "code",
   "execution_count": 1,
   "metadata": {},
   "outputs": [
    {
     "data": {
      "text/plain": [
       "u'/Users/satyammishra/Desktop/Practice/DataScienceTrack'"
      ]
     },
     "execution_count": 1,
     "metadata": {},
     "output_type": "execute_result"
    }
   ],
   "source": [
    "pwd"
   ]
  },
  {
   "cell_type": "markdown",
   "metadata": {},
   "source": [
    "### How can I identify files and directories?\n",
    "<p id ='HcIifad'><p>\n",
    "\n"
   ]
  },
  {
   "cell_type": "markdown",
   "metadata": {},
   "source": [
    "### How else can I identify files and directories?\n",
    "<p id ='HecIifad'><p>\n",
    "\n"
   ]
  },
  {
   "cell_type": "code",
   "execution_count": 2,
   "metadata": {},
   "outputs": [
    {
     "name": "stdout",
     "output_type": "stream",
     "text": [
      "Large_Margin_Intuition_-_Stanford_University___Coursera-2.png\r\n",
      "Large_Margin_Intuition_-_Stanford_University___Coursera.png\r\n",
      "\u001b[34mNot Great!\u001b[m\u001b[m/\r\n",
      "\u001b[34mPortfolio\u001b[m\u001b[m/\r\n",
      "\u001b[34mPractice\u001b[m\u001b[m/\r\n",
      "\u001b[34mResources\u001b[m\u001b[m/\r\n",
      "Screenshot 2019-07-20 at 6.15.49 PM.png\r\n",
      "Screenshot 2019-07-20 at 7.43.14 PM.png\r\n",
      "Screenshot 2019-07-20 at 8.07.54 PM.png\r\n",
      "Screenshot 2019-07-21 at 2.11.53 PM.png\r\n",
      "Screenshot 2019-07-21 at 2.18.04 PM.png\r\n",
      "Screenshot_17_07_19__7_22_PM.png\r\n",
      "Screenshot_20_07_19__6_32_PM.png\r\n",
      "Screenshot_20_07_19__6_43_PM-2.png\r\n",
      "Screenshot_20_07_19__6_43_PM.png\r\n",
      "Screenshot_20_07_19__7_20_PM.png\r\n",
      "Screenshot_20_07_19__8_18_PM.png\r\n",
      "\u001b[34mds_revisited\u001b[m\u001b[m/\r\n",
      "peter.txt\r\n",
      "satyam.txt\r\n"
     ]
    }
   ],
   "source": [
    "ls /Users/satyammishra/Desktop/"
   ]
  },
  {
   "cell_type": "code",
   "execution_count": 3,
   "metadata": {},
   "outputs": [
    {
     "name": "stdout",
     "output_type": "stream",
     "text": [
      "Analyzing time series and images.ipynb\r\n",
      "Bokeh.ipynb\r\n",
      "Bootstrap.ipynb\r\n",
      "Combining and Cleaning Data in Analysis.ipynb\r\n",
      "Deep Learning in python.ipynb\r\n",
      "EXploring.ipynb\r\n",
      "Grouping Data.ipynb\r\n",
      "Importing Data in Python Part 1.ipynb\r\n",
      "Index.ipynb\r\n",
      "Interacting with APIs to import data from the web.ipynb\r\n",
      "Introduction to Hypothesis Testing.ipynb\r\n",
      "Introduction to data visualisation with python.ipynb\r\n",
      "Introduction to databases in Python.ipynb\r\n",
      "JOIns.ipynb\r\n",
      "Linear regression.ipynb\r\n",
      "Manipulating DataFrames with pandas.ipynb\r\n",
      "Merge pd -Merging and Case Study[Conflict].ipynb\r\n",
      "Network Analysis in python.ipynb\r\n",
      "PANDAS.ipynb\r\n",
      "Python List Comprehension and Generators.ipynb\r\n",
      "Scrap.ipynb\r\n",
      "Shell for Data Science.ipynb\r\n",
      "Statistical Thinking in Python 1.ipynb\r\n",
      "Statistical Thinking in python 2.ipynb\r\n",
      "Statistical plots with Seaborn.ipynb\r\n",
      "Supervised Learning with Scikit Learn.ipynb\r\n",
      "Tree Based Models in Python.ipynb\r\n",
      "Unsupervised Learning in python.ipynb\r\n",
      "\u001b[34mbokeh_programs\u001b[m\u001b[m/\r\n",
      "\u001b[34mdata\u001b[m\u001b[m/\r\n",
      "gapminder.html\r\n",
      "helper_data.py.ipynb\r\n",
      "line.html\r\n",
      "macs.ipynb\r\n",
      "mdlc.ipynb\r\n",
      "nohitter_times.py\r\n",
      "\u001b[34mplots\u001b[m\u001b[m/\r\n",
      "rough.py\r\n",
      "scrap.py\r\n",
      "untitled.txt\r\n"
     ]
    }
   ],
   "source": [
    "ls /Users/satyammishra/Desktop/Practice/DataScienceTrack/"
   ]
  },
  {
   "cell_type": "markdown",
   "metadata": {},
   "source": [
    "### How can I move to another directory?\n",
    "<p id ='HcImtad'><p>\n",
    "\n"
   ]
  },
  {
   "cell_type": "markdown",
   "metadata": {},
   "source": [
    "### How can I move up a directory?\n",
    "<p id ='HcImuad'><p>\n",
    "\n"
   ]
  },
  {
   "cell_type": "code",
   "execution_count": 4,
   "metadata": {},
   "outputs": [
    {
     "name": "stdout",
     "output_type": "stream",
     "text": [
      "/Users/satyammishra/Desktop/Practice\n"
     ]
    }
   ],
   "source": [
    "cd .."
   ]
  },
  {
   "cell_type": "code",
   "execution_count": null,
   "metadata": {},
   "outputs": [],
   "source": []
  },
  {
   "cell_type": "markdown",
   "metadata": {},
   "source": [
    "### How can I copy files?\n",
    "<p id ='HcIcf'><p>\n",
    "\n"
   ]
  },
  {
   "cell_type": "code",
   "execution_count": 5,
   "metadata": {},
   "outputs": [
    {
     "name": "stdout",
     "output_type": "stream",
     "text": [
      "/Users/satyammishra/Desktop/Practice/DataScienceTrack/bokeh_programs\n"
     ]
    }
   ],
   "source": [
    "cd /Users/satyammishra/Desktop/Practice/DataScienceTrack/bokeh_programs/"
   ]
  },
  {
   "cell_type": "code",
   "execution_count": 6,
   "metadata": {},
   "outputs": [
    {
     "name": "stdout",
     "output_type": "stream",
     "text": [
      "\u001b[34m__pycache__\u001b[m\u001b[m/              gapminder.html            satyam.html\r\n",
      "button_based_ferility.py  gapminder_tidy.csv        satyam.txt\r\n",
      "buutons.py                multiple_sliders.py       two_drop_down.py\r\n",
      "case_study.py             multple_sliders.py        workingSlider.py\r\n",
      "dropdown.py               peter.txt                 working_mini.py\r\n",
      "duplicate_population.py   population.py\r\n"
     ]
    }
   ],
   "source": [
    "ls"
   ]
  },
  {
   "cell_type": "code",
   "execution_count": 7,
   "metadata": {},
   "outputs": [],
   "source": [
    "cp population.py duplicate_population.py"
   ]
  },
  {
   "cell_type": "markdown",
   "metadata": {},
   "source": [
    "### How can I move a file?\n",
    "<p id ='HcImaf'><p>\n",
    "\n"
   ]
  },
  {
   "cell_type": "markdown",
   "metadata": {},
   "source": [
    "Let's first create random files for moving"
   ]
  },
  {
   "cell_type": "code",
   "execution_count": 8,
   "metadata": {},
   "outputs": [
    {
     "name": "stdout",
     "output_type": "stream",
     "text": [
      "/Users/satyammishra/Desktop/Practice/DataScienceTrack\n"
     ]
    }
   ],
   "source": [
    "cd /Users/satyammishra/Desktop/Practice/DataScienceTrack/\n"
   ]
  },
  {
   "cell_type": "code",
   "execution_count": 9,
   "metadata": {},
   "outputs": [
    {
     "name": "stdout",
     "output_type": "stream",
     "text": [
      "Writing satyam.txt\n"
     ]
    }
   ],
   "source": [
    "%%writefile satyam.txt  \n",
    "'Hello World'"
   ]
  },
  {
   "cell_type": "code",
   "execution_count": 10,
   "metadata": {},
   "outputs": [
    {
     "name": "stdout",
     "output_type": "stream",
     "text": [
      "Writing peter.txt\n"
     ]
    }
   ],
   "source": [
    "%%writefile peter.txt\n",
    "'Hello World'"
   ]
  },
  {
   "cell_type": "code",
   "execution_count": 11,
   "metadata": {},
   "outputs": [],
   "source": [
    "mv satyam.txt peter.txt /Users/satyammishra/Desktop/"
   ]
  },
  {
   "cell_type": "code",
   "execution_count": 12,
   "metadata": {},
   "outputs": [
    {
     "name": "stdout",
     "output_type": "stream",
     "text": [
      "/Users/satyammishra/Desktop/Practice\n"
     ]
    }
   ],
   "source": [
    "cd .."
   ]
  },
  {
   "cell_type": "code",
   "execution_count": 13,
   "metadata": {},
   "outputs": [
    {
     "name": "stdout",
     "output_type": "stream",
     "text": [
      "\u001b[34mDataScienceTrack\u001b[m\u001b[m/         \u001b[34mDeep-Learning-Coursera\u001b[m\u001b[m/   \u001b[34mHarvard DS\u001b[m\u001b[m/\r\n",
      "\u001b[34mDeep Learning Redundant\u001b[m\u001b[m/  \u001b[34mFull Stack Web Devepment\u001b[m\u001b[m/ \u001b[34mMachine Learning\u001b[m\u001b[m/\r\n"
     ]
    }
   ],
   "source": [
    "ls"
   ]
  },
  {
   "cell_type": "code",
   "execution_count": null,
   "metadata": {},
   "outputs": [],
   "source": []
  },
  {
   "cell_type": "markdown",
   "metadata": {},
   "source": [
    "### How can I rename files?\n",
    "<p id ='HcIrf'><p>\n",
    "\n",
    "`mv` can also be used to rename files. If you run:\n",
    "\n",
    "```mv course.txt old-course.txt```\n",
    "\n",
    "then the file course.txt in the current working directory is \"moved\" to the file old-course.txt. This is different from the way file browsers work, but is often handy.\n",
    "\n",
    "\n"
   ]
  },
  {
   "cell_type": "code",
   "execution_count": 14,
   "metadata": {},
   "outputs": [
    {
     "name": "stdout",
     "output_type": "stream",
     "text": [
      "/Users/satyammishra/Desktop\n"
     ]
    }
   ],
   "source": [
    "cd .."
   ]
  },
  {
   "cell_type": "code",
   "execution_count": 15,
   "metadata": {},
   "outputs": [
    {
     "name": "stdout",
     "output_type": "stream",
     "text": [
      "Large_Margin_Intuition_-_Stanford_University___Coursera-2.png\r\n",
      "Large_Margin_Intuition_-_Stanford_University___Coursera.png\r\n",
      "\u001b[34mNot Great!\u001b[m\u001b[m/\r\n",
      "\u001b[34mPortfolio\u001b[m\u001b[m/\r\n",
      "\u001b[34mPractice\u001b[m\u001b[m/\r\n",
      "\u001b[34mResources\u001b[m\u001b[m/\r\n",
      "Screenshot 2019-07-20 at 6.15.49 PM.png\r\n",
      "Screenshot 2019-07-20 at 7.43.14 PM.png\r\n",
      "Screenshot 2019-07-20 at 8.07.54 PM.png\r\n",
      "Screenshot 2019-07-21 at 2.11.53 PM.png\r\n",
      "Screenshot 2019-07-21 at 2.18.04 PM.png\r\n",
      "Screenshot_17_07_19__7_22_PM.png\r\n",
      "Screenshot_20_07_19__6_32_PM.png\r\n",
      "Screenshot_20_07_19__6_43_PM-2.png\r\n",
      "Screenshot_20_07_19__6_43_PM.png\r\n",
      "Screenshot_20_07_19__7_20_PM.png\r\n",
      "Screenshot_20_07_19__8_18_PM.png\r\n",
      "\u001b[34mds_revisited\u001b[m\u001b[m/\r\n",
      "peter.txt\r\n",
      "satyam.txt\r\n"
     ]
    }
   ],
   "source": [
    "ls"
   ]
  },
  {
   "cell_type": "markdown",
   "metadata": {},
   "source": [
    "Let's rename the file named `peter.txt` to `satyammishra.txt`"
   ]
  },
  {
   "cell_type": "code",
   "execution_count": 16,
   "metadata": {},
   "outputs": [],
   "source": [
    "mv peter.txt satyammishra.txt"
   ]
  },
  {
   "cell_type": "code",
   "execution_count": 17,
   "metadata": {},
   "outputs": [
    {
     "name": "stdout",
     "output_type": "stream",
     "text": [
      "'Hello World'"
     ]
    }
   ],
   "source": [
    "cat satyammishra.txt"
   ]
  },
  {
   "cell_type": "markdown",
   "metadata": {},
   "source": [
    "### How can I delete files?\n",
    "<p id ='HcIdf'><p>\n",
    "\n",
    " you can give rm the names of as many files as you'd like, so:\n",
    "\n",
    "```rm thesis.txt backup/thesis-2017-08.txt```\n",
    "\n",
    "removes both ```thesis.txt``` and ```backup/thesis-2017-08.txt```\n",
    "\n"
   ]
  },
  {
   "cell_type": "code",
   "execution_count": 18,
   "metadata": {},
   "outputs": [],
   "source": [
    "rm satyam.txt satyammishra.txt"
   ]
  },
  {
   "cell_type": "code",
   "execution_count": 19,
   "metadata": {},
   "outputs": [
    {
     "name": "stdout",
     "output_type": "stream",
     "text": [
      "[Errno 2] No such file or directory: 'DataScienceTrack/'\n",
      "/Users/satyammishra/Desktop\n"
     ]
    }
   ],
   "source": [
    "cd DataScienceTrack/"
   ]
  },
  {
   "cell_type": "code",
   "execution_count": 20,
   "metadata": {},
   "outputs": [
    {
     "name": "stdout",
     "output_type": "stream",
     "text": [
      "/Users/satyammishra\n"
     ]
    }
   ],
   "source": [
    "cd ~"
   ]
  },
  {
   "cell_type": "code",
   "execution_count": 21,
   "metadata": {},
   "outputs": [
    {
     "name": "stdout",
     "output_type": "stream",
     "text": [
      "\u001b[34mApplications\u001b[m\u001b[m/          \u001b[34mMusic\u001b[m\u001b[m/                 \u001b[34meclipse-workspace\u001b[m\u001b[m/\r\n",
      "\u001b[34mCreative Cloud Files\u001b[m\u001b[m/  \u001b[34mPictures\u001b[m\u001b[m/              \u001b[34menv\u001b[m\u001b[m/\r\n",
      "\u001b[34mDesktop\u001b[m\u001b[m/               \u001b[34mPublic\u001b[m\u001b[m/                package-lock.json\r\n",
      "\u001b[34mDocuments\u001b[m\u001b[m/             Untitled.html          sat.txt\r\n",
      "\u001b[34mDownloads\u001b[m\u001b[m/             \u001b[34mVirtualBox VMs\u001b[m\u001b[m/        \u001b[34mscikit_learn_data\u001b[m\u001b[m/\r\n",
      "\u001b[34mGoogle Drive\u001b[m\u001b[m/          addPatt.R              \u001b[34mtestdir2\u001b[m\u001b[m/\r\n",
      "\u001b[34mHome\u001b[m\u001b[m/                  candidates_nohead.txt  \u001b[34mtf_logs\u001b[m\u001b[m/\r\n",
      "\u001b[34mLibrary\u001b[m\u001b[m/               dd.db                  \u001b[34muikit\u001b[m\u001b[m/\r\n",
      "\u001b[34mMovies\u001b[m\u001b[m/                \u001b[34meclipse\u001b[m\u001b[m/\r\n"
     ]
    }
   ],
   "source": [
    "ls"
   ]
  },
  {
   "cell_type": "code",
   "execution_count": null,
   "metadata": {},
   "outputs": [],
   "source": []
  },
  {
   "cell_type": "markdown",
   "metadata": {},
   "source": [
    "### How can I create and delete directories?\n",
    "<p id ='HcIcadd'><p>\n",
    "\n"
   ]
  },
  {
   "cell_type": "markdown",
   "metadata": {},
   "source": [
    "Let's delete the file named Untitled.txt from Home directory"
   ]
  },
  {
   "cell_type": "code",
   "execution_count": 22,
   "metadata": {},
   "outputs": [],
   "source": [
    "rm /Users/satyammishra/Desktop/Practice/DataScienceTrack/untitled.txt"
   ]
  },
  {
   "cell_type": "markdown",
   "metadata": {},
   "source": [
    "### Wrapping up\n",
    "<p id ='Wu'><p>\n",
    "\n"
   ]
  },
  {
   "cell_type": "markdown",
   "metadata": {},
   "source": [
    "### How can I store a commands output in a file?\n",
    "<p id ='HcIsacoiaf'><p>\n",
    "\n"
   ]
  },
  {
   "cell_type": "markdown",
   "metadata": {},
   "source": [
    "### How can I use a commands output as an input?\n",
    "<p id ='HcIuacoaai'><p>\n",
    "\n"
   ]
  },
  {
   "cell_type": "markdown",
   "metadata": {},
   "source": [
    "### Whats a better way to combine commands?\n",
    "<p id ='Wabwtcc'><p>\n",
    "\n"
   ]
  },
  {
   "cell_type": "markdown",
   "metadata": {},
   "source": [
    "### How can I combine many commands?\n",
    "<p id ='HcIcmc'><p>\n",
    "\n"
   ]
  },
  {
   "cell_type": "markdown",
   "metadata": {},
   "source": [
    "### How can I count the records in a file?\n",
    "<p id ='HcIctriaf'><p>\n",
    "\n"
   ]
  },
  {
   "cell_type": "markdown",
   "metadata": {},
   "source": [
    "### How can I specify many files at once?\n",
    "<p id ='HcIsmfao'><p>\n",
    "\n"
   ]
  },
  {
   "cell_type": "markdown",
   "metadata": {},
   "source": [
    "### What other wildcards can I use?\n",
    "<p id ='WowcIu'><p>\n",
    "\n"
   ]
  },
  {
   "cell_type": "markdown",
   "metadata": {},
   "source": [
    "### How can I sort lines of text?\n",
    "<p id ='HcIslot'><p>\n",
    "\n"
   ]
  },
  {
   "cell_type": "markdown",
   "metadata": {},
   "source": [
    "### How can I remove duplicate lines?\n",
    "<p id ='HcIrdl'><p>\n",
    "\n"
   ]
  },
  {
   "cell_type": "markdown",
   "metadata": {},
   "source": [
    "### How can I save the output of a pipe?\n",
    "<p id ='HcIstooap'><p>\n",
    "\n"
   ]
  },
  {
   "cell_type": "markdown",
   "metadata": {},
   "source": [
    "### How can I stop a running program?\n",
    "<p id ='HcIsarp'><p>\n",
    "\n"
   ]
  },
  {
   "cell_type": "markdown",
   "metadata": {},
   "source": [
    "### Wrapping up\n",
    "<p id ='Wu'><p>\n",
    "\n"
   ]
  },
  {
   "cell_type": "markdown",
   "metadata": {},
   "source": [
    "### How can I edit a file?\n",
    "<p id ='HcIeaf'><p>\n"
   ]
  },
  {
   "cell_type": "markdown",
   "metadata": {},
   "source": [
    "### How can I record what I just did?\n",
    "<p id ='HcIrwIjd'><p>\n",
    "\n"
   ]
  },
  {
   "cell_type": "markdown",
   "metadata": {},
   "source": [
    "### How can I save commands to re-run later?\n",
    "<p id ='HcIsctrl'><p>\n",
    "\n"
   ]
  },
  {
   "cell_type": "markdown",
   "metadata": {},
   "source": [
    "### How can I re-use pipes?\n",
    "<p id ='HcIrp'><p>\n",
    "\n"
   ]
  },
  {
   "cell_type": "markdown",
   "metadata": {},
   "source": [
    "### How can I pass filenames to scripts?\n",
    "<p id ='HcIpfts'><p>\n",
    "\n"
   ]
  },
  {
   "cell_type": "markdown",
   "metadata": {},
   "source": [
    "### How can I process a single argument?\n",
    "<p id ='HcIpasa'><p>\n",
    "\n"
   ]
  },
  {
   "cell_type": "markdown",
   "metadata": {},
   "source": [
    "### How can one shell script do many things?\n",
    "<p id ='Hcossdmt'><p>\n",
    "\n"
   ]
  },
  {
   "cell_type": "markdown",
   "metadata": {},
   "source": [
    "### How can I write loops in a shell script?\n",
    "<p id ='HcIwliass'><p>\n",
    "\n"
   ]
  },
  {
   "cell_type": "markdown",
   "metadata": {},
   "source": [
    "### What happens when I dont provide filenames?\n",
    "<p id ='WhwIdpf'><p>\n",
    "\n"
   ]
  },
  {
   "cell_type": "markdown",
   "metadata": {},
   "source": [
    "### How can I view a files contents?\n",
    "<p id ='HcIvafc'><p>\n",
    "\n"
   ]
  },
  {
   "cell_type": "code",
   "execution_count": 23,
   "metadata": {},
   "outputs": [
    {
     "name": "stdout",
     "output_type": "stream",
     "text": [
      "{\r\n",
      "  \"lockfileVersion\": 1\r\n",
      "}\r\n"
     ]
    }
   ],
   "source": [
    "cat /Users/satyammishra/package-lock.json"
   ]
  },
  {
   "cell_type": "markdown",
   "metadata": {},
   "source": [
    "### How can I view a files contents piece by piece?\n",
    "<p id ='HcIvafcpbp'><p>\n",
    "\n"
   ]
  },
  {
   "cell_type": "code",
   "execution_count": 24,
   "metadata": {},
   "outputs": [
    {
     "name": "stdout",
     "output_type": "stream",
     "text": [
      "/Users\n"
     ]
    }
   ],
   "source": [
    "cd .."
   ]
  },
  {
   "cell_type": "code",
   "execution_count": 25,
   "metadata": {},
   "outputs": [
    {
     "data": {
      "text/plain": [
       "u'/Users'"
      ]
     },
     "execution_count": 25,
     "metadata": {},
     "output_type": "execute_result"
    }
   ],
   "source": [
    "pwd"
   ]
  },
  {
   "cell_type": "markdown",
   "metadata": {},
   "source": [
    "### How can I type less?\n",
    "<p id ='HcItl'><p>\n",
    "\n",
    "Using tab after certain commands or keyword makes autocompletion (when possible)\n"
   ]
  },
  {
   "cell_type": "markdown",
   "metadata": {},
   "source": [
    "### How can I control what commands do?\n",
    "<p id ='HcIcwcd'><p>\n",
    "\n"
   ]
  },
  {
   "cell_type": "code",
   "execution_count": 26,
   "metadata": {},
   "outputs": [
    {
     "name": "stdout",
     "output_type": "stream",
     "text": [
      "\u001b[34mGuest\u001b[m\u001b[m/        \u001b[30m\u001b[42mShared\u001b[m\u001b[m/       \u001b[34msatyammishra\u001b[m\u001b[m/\r\n"
     ]
    }
   ],
   "source": [
    "ls\n"
   ]
  },
  {
   "cell_type": "code",
   "execution_count": 27,
   "metadata": {},
   "outputs": [
    {
     "name": "stdout",
     "output_type": "stream",
     "text": [
      "/Users/satyammishra/Desktop/Practice/DataScienceTrack/data\n"
     ]
    }
   ],
   "source": [
    "cd satyammishra/Desktop/Practice/DataScienceTrack/data/"
   ]
  },
  {
   "cell_type": "code",
   "execution_count": 29,
   "metadata": {},
   "outputs": [
    {
     "name": "stdout",
     "output_type": "stream",
     "text": [
      "Date,AAPL,IBM,CSCO,MSFT\r\n",
      "2000-01-03,111.937502,116.0,108.0625,116.5625\r\n",
      "2000-01-04,102.500003,112.0625,102.0,112.625\r\n"
     ]
    }
   ],
   "source": [
    "!head -n 3 stocks.csv"
   ]
  },
  {
   "cell_type": "markdown",
   "metadata": {},
   "source": [
    "### How can I list everything below a directory?\n",
    "<p id ='HcIlebad'><p>\n",
    "\n"
   ]
  },
  {
   "cell_type": "code",
   "execution_count": null,
   "metadata": {},
   "outputs": [],
   "source": []
  },
  {
   "cell_type": "markdown",
   "metadata": {},
   "source": [
    "### How can I get help for a command?\n",
    "<p id ='HcIghfac'><p>\n",
    "\n"
   ]
  },
  {
   "cell_type": "markdown",
   "metadata": {},
   "source": [
    "### How can I select columns from a file?\n",
    "<p id ='HcIscfaf'><p>\n",
    "\n"
   ]
  },
  {
   "cell_type": "markdown",
   "metadata": {},
   "source": [
    "### What cant cut do?\n",
    "<p id ='Wccd'><p>\n",
    "\n"
   ]
  },
  {
   "cell_type": "markdown",
   "metadata": {},
   "source": [
    "### How can I repeat commands?\n",
    "<p id ='HcIrc'><p>\n",
    "\n"
   ]
  },
  {
   "cell_type": "markdown",
   "metadata": {},
   "source": [
    "### How can I select lines containing specific values?\n",
    "<p id ='HcIslcsv'><p>\n",
    "\n"
   ]
  },
  {
   "cell_type": "markdown",
   "metadata": {},
   "source": [
    "### Why isnt it always safe to treat data as text?\n",
    "<p id ='Wiiasttdat'><p>\n",
    "\n"
   ]
  },
  {
   "cell_type": "markdown",
   "metadata": {},
   "source": [
    "### How does the shell store information?\n",
    "<p id ='Hdtssi'><p>\n",
    "\n"
   ]
  },
  {
   "cell_type": "markdown",
   "metadata": {},
   "source": [
    "### How can I print a variables value?\n",
    "<p id ='HcIpavv'><p>\n",
    "\n"
   ]
  },
  {
   "cell_type": "markdown",
   "metadata": {},
   "source": [
    "### How else does the shell store information?\n",
    "<p id ='Hedtssi'><p>\n",
    "\n"
   ]
  },
  {
   "cell_type": "markdown",
   "metadata": {},
   "source": [
    "### How can I repeat a command many times?\n",
    "<p id ='HcIracmt'><p>\n",
    "\n"
   ]
  },
  {
   "cell_type": "markdown",
   "metadata": {},
   "source": [
    "### How can I repeat a command once for each file?\n",
    "<p id ='HcIracofef'><p>\n",
    "\n"
   ]
  },
  {
   "cell_type": "markdown",
   "metadata": {},
   "source": [
    "### How can I record the names of a set of files?\n",
    "<p id ='HcIrtnoasof'><p>\n",
    "\n"
   ]
  },
  {
   "cell_type": "markdown",
   "metadata": {},
   "source": [
    "### A variables name versus its value\n",
    "<p id ='Avnviv'><p>\n",
    "\n"
   ]
  },
  {
   "cell_type": "markdown",
   "metadata": {},
   "source": [
    "### How can I run many commands in a single loop?\n",
    "<p id ='HcIrmciasl'><p>\n",
    "\n"
   ]
  },
  {
   "cell_type": "markdown",
   "metadata": {},
   "source": [
    "### Why shouldnt I use spaces in filenames?\n",
    "<p id ='WsIusif'><p>\n",
    "\n"
   ]
  },
  {
   "cell_type": "markdown",
   "metadata": {},
   "source": [
    "### How can I do many things in a single loop?\n",
    "<p id ='HcIdmtiasl'><p>\n",
    "\n"
   ]
  },
  {
   "cell_type": "code",
   "execution_count": null,
   "metadata": {},
   "outputs": [],
   "source": []
  }
 ],
 "metadata": {
  "kernelspec": {
   "display_name": "Python 2",
   "language": "python",
   "name": "python2"
  },
  "language_info": {
   "codemirror_mode": {
    "name": "ipython",
    "version": 2
   },
   "file_extension": ".py",
   "mimetype": "text/x-python",
   "name": "python",
   "nbconvert_exporter": "python",
   "pygments_lexer": "ipython2",
   "version": "2.7.13"
  }
 },
 "nbformat": 4,
 "nbformat_minor": 2
}
