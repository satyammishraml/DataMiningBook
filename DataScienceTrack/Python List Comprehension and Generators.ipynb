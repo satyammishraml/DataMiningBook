{
 "cells": [
  {
   "cell_type": "markdown",
   "metadata": {},
   "source": [
    "* [Introduction to iterators](#Iti)\n",
    "* [Iterators vs Iterables](#IvI)\n",
    "* [Iterating over iterables (1)](#Ioi()\n",
    "* [Iterating over iterables (2)](#Ioi()\n",
    "* [Iterators as function arguments](#Iafa)\n",
    "* [Playing with iterators](#Pwi)\n",
    "* [Using enumerate](#Ue)\n",
    "* [Using zip](#Uz)\n",
    "* [Using * and zip to 'unzip'](#U*azt')\n",
    "* [Using iterators to load large files into memory](#Uitllfim)\n",
    "* [Processing large amounts of Twitter data](#PlaoTd)\n",
    "* [Extracting information for large amounts of Twitter data](#EiflaoTd)\n",
    "* [Congratulations!!](#C)\n",
    "* [List comprehensions](#Lc)\n",
    "* [Write a basic list comprehension](#Wablc)\n",
    "* [List comprehension over iterables](#Lcoi)\n",
    "* [Writing list comprehensions](#Wlc)\n",
    "* [Nested list comprehensions](#Nlc)\n",
    "* [Advanced comprehensions](#Ac)\n",
    "* [Using conditionals in comprehensions (1)](#Ucic()\n",
    "* [Using conditionals in comprehensions (2)](#Ucic()\n",
    "* [Dict comprehensions](#Dc)\n",
    "* [Introduction to generator expressions](#Itge)\n",
    "* [List comprehensions vs generators](#Lcvg)\n",
    "* [Write your own generator expressions](#Wyoge)\n",
    "* [Changing the output in generator expressions](#Ctoige)\n",
    "* [Build a generator](#Bag)\n",
    "* [Wrapping up comprehensions and generators.](#Wucag)\n",
    "* [List comprehensions for time-stamped data](#Lcftd)\n",
    "* [Conditional list comprehensions for time-stamped data](#Clcftd)\n",
    "* [Welcome to the case study!](#Wttcs)\n",
    "* [Dictionaries for data science](#Dfds)\n",
    "* [Writing a function to help you](#Wafthy)\n",
    "* [Using a list comprehension](#Ualc)\n",
    "* [Turning this all into a DataFrame](#TtaiaD)\n",
    "* [Using Python generators for streaming data](#UPgfsd)\n",
    "* [Processing data in chunks (1)](#Pdic()\n",
    "* [Writing a generator to load data in chunks (2)](#Wagtldic()\n",
    "* [Writing a generator to load data in chunks (3)](#Wagtldic()\n",
    "* [Using pandas` read_csv iterator for streaming data](#Uprifsd)\n",
    "* [Writing an iterator to load data in chunks (1)](#Waitldic()\n",
    "* [Writing an iterator to load data in chunks (2)](#Waitldic()\n",
    "* [Writing an iterator to load data in chunks (3)](#Waitldic()\n",
    "* [Writing an iterator to load data in chunks (4)](#Waitldic()\n",
    "* [Writing an iterator to load data in chunks (5)](#Waitldic()\n"
   ]
  },
  {
   "cell_type": "markdown",
   "metadata": {},
   "source": [
    "<p id ='Iti'><p>\n",
    "### Introduction to iterators"
   ]
  },
  {
   "cell_type": "markdown",
   "metadata": {},
   "source": [
    "<p id ='IvI'><p>\n",
    "### Iterators vs Iterables\n",
    "* Iterable\n",
    "    * Examples : lists, strings, dictionaries, file connection\n",
    "    * Applying `iter()` to iterables creates an iterator\n",
    "* Iterator\n",
    "    * Produces `next` value with `nxt()`\n",
    "    "
   ]
  },
  {
   "cell_type": "code",
   "execution_count": 14,
   "metadata": {},
   "outputs": [
    {
     "name": "stdout",
     "output_type": "stream",
     "text": [
      "['jay garrick', 'barry allen', 'wally west', 'bart allen']\n"
     ]
    }
   ],
   "source": [
    "mylist = ['jay garrick', 'barry allen', 'wally west', 'bart allen']\n",
    "print(mylist)"
   ]
  },
  {
   "cell_type": "code",
   "execution_count": 15,
   "metadata": {},
   "outputs": [
    {
     "name": "stdout",
     "output_type": "stream",
     "text": [
      "<list_iterator object at 0x10bcda278>\n"
     ]
    }
   ],
   "source": [
    "myiter = iter(mylist)\n",
    "print(myiter)"
   ]
  },
  {
   "cell_type": "code",
   "execution_count": 16,
   "metadata": {},
   "outputs": [
    {
     "data": {
      "text/plain": [
       "'jay garrick'"
      ]
     },
     "execution_count": 16,
     "metadata": {},
     "output_type": "execute_result"
    }
   ],
   "source": [
    "next(myiter)"
   ]
  },
  {
   "cell_type": "markdown",
   "metadata": {},
   "source": [
    "<p id ='Ioi('><p>\n",
    "### Iterating over iterables (1)"
   ]
  },
  {
   "cell_type": "code",
   "execution_count": 18,
   "metadata": {},
   "outputs": [
    {
     "data": {
      "text/plain": [
       "<range_iterator at 0x10bb57900>"
      ]
     },
     "execution_count": 18,
     "metadata": {},
     "output_type": "execute_result"
    }
   ],
   "source": [
    "small_value  = iter(range(0,3))\n",
    "small_value"
   ]
  },
  {
   "cell_type": "code",
   "execution_count": 19,
   "metadata": {},
   "outputs": [
    {
     "name": "stdout",
     "output_type": "stream",
     "text": [
      "0\n",
      "1\n",
      "2\n"
     ]
    }
   ],
   "source": [
    "# Print the values in small_value\n",
    "print(next(small_value))\n",
    "print(next(small_value))\n",
    "print(next(small_value))\n"
   ]
  },
  {
   "cell_type": "markdown",
   "metadata": {},
   "source": [
    "<p id ='Ioi('><p>\n",
    "### Iterating over iterables (2)"
   ]
  },
  {
   "cell_type": "code",
   "execution_count": 20,
   "metadata": {},
   "outputs": [
    {
     "name": "stdout",
     "output_type": "stream",
     "text": [
      "0\n",
      "1\n",
      "2\n",
      "3\n",
      "4\n"
     ]
    }
   ],
   "source": [
    "# Create an iterator for range(10 ** 100): googol\n",
    "googol = iter(range(10 ** 100))\n",
    "\n",
    "# Print the first 5 values from googol\n",
    "print(next(googol))\n",
    "print(next(googol))\n",
    "print(next(googol))\n",
    "print(next(googol))\n",
    "print(next(googol))\n"
   ]
  },
  {
   "cell_type": "markdown",
   "metadata": {},
   "source": [
    "<p id ='Iafa'><p>\n",
    "### Iterators as function arguments"
   ]
  },
  {
   "cell_type": "code",
   "execution_count": 24,
   "metadata": {},
   "outputs": [
    {
     "name": "stdout",
     "output_type": "stream",
     "text": [
      "range(10, 20)\n",
      "[10, 11, 12, 13, 14, 15, 16, 17, 18, 19]\n",
      "145\n"
     ]
    }
   ],
   "source": [
    "values = range(10, 20)\n",
    "print(values)\n",
    "print(list(values))\n",
    "print(sum(values))"
   ]
  },
  {
   "cell_type": "markdown",
   "metadata": {},
   "source": [
    "<p id ='Pwi'><p>\n",
    "### Playing with iterators"
   ]
  },
  {
   "cell_type": "markdown",
   "metadata": {},
   "source": [
    "<p id ='Ue'><p>\n",
    "### Using enumerate"
   ]
  },
  {
   "cell_type": "code",
   "execution_count": 32,
   "metadata": {},
   "outputs": [],
   "source": [
    "mutants = ['charles xavier', \n",
    "            'bobby drake', \n",
    "            'kurt wagner', \n",
    "            'max eisenhardt', \n",
    "            'kitty pryde']\n"
   ]
  },
  {
   "cell_type": "markdown",
   "metadata": {},
   "source": [
    "Generate the tuples using enumerate() and turn the result from it into a list using list()."
   ]
  },
  {
   "cell_type": "code",
   "execution_count": 33,
   "metadata": {},
   "outputs": [
    {
     "data": {
      "text/plain": [
       "<enumerate at 0x10bcddc60>"
      ]
     },
     "execution_count": 33,
     "metadata": {},
     "output_type": "execute_result"
    }
   ],
   "source": [
    "mutant_list = enumerate(mutants)\n",
    "mutant_list"
   ]
  },
  {
   "cell_type": "code",
   "execution_count": 34,
   "metadata": {},
   "outputs": [
    {
     "name": "stdout",
     "output_type": "stream",
     "text": [
      "0 charles xavier\n",
      "1 bobby drake\n",
      "2 kurt wagner\n",
      "3 max eisenhardt\n",
      "4 kitty pryde\n"
     ]
    }
   ],
   "source": [
    "for index1, value1 in mutant_list:\n",
    "    print(index1, value1)"
   ]
  },
  {
   "cell_type": "code",
   "execution_count": 35,
   "metadata": {},
   "outputs": [
    {
     "name": "stdout",
     "output_type": "stream",
     "text": [
      "1 charles xavier\n",
      "2 bobby drake\n",
      "3 kurt wagner\n",
      "4 max eisenhardt\n",
      "5 kitty pryde\n"
     ]
    }
   ],
   "source": [
    "for index1, value1 in enumerate(mutants, start = 1):\n",
    "    print(index1, value1)"
   ]
  },
  {
   "cell_type": "markdown",
   "metadata": {},
   "source": [
    "<p id ='Uz'><p>\n",
    "### Using zip"
   ]
  },
  {
   "cell_type": "code",
   "execution_count": 50,
   "metadata": {},
   "outputs": [
    {
     "data": {
      "text/plain": [
       "['charles xavier',\n",
       " 'bobby drake',\n",
       " 'kurt wagner',\n",
       " 'max eisenhardt',\n",
       " 'kitty pryde']"
      ]
     },
     "execution_count": 50,
     "metadata": {},
     "output_type": "execute_result"
    }
   ],
   "source": [
    "mutants"
   ]
  },
  {
   "cell_type": "code",
   "execution_count": 51,
   "metadata": {},
   "outputs": [],
   "source": [
    "aliases = ['prof x', 'iceman', 'nightcrawler', 'magneto', 'shadowcat']\n",
    "powers = ['telepathy', 'thermokinesis', 'teleportation', 'magnetokinesis', 'intangibility']"
   ]
  },
  {
   "cell_type": "code",
   "execution_count": 59,
   "metadata": {},
   "outputs": [
    {
     "name": "stdout",
     "output_type": "stream",
     "text": [
      "charles xavier prof x telepathy\n",
      "bobby drake iceman thermokinesis\n",
      "kurt wagner nightcrawler teleportation\n",
      "max eisenhardt magneto magnetokinesis\n",
      "kitty pryde shadowcat intangibility\n"
     ]
    }
   ],
   "source": [
    "for value1, value2, value3 in zip(mutants, aliases, powers):\n",
    "    print(value1, value2, value3)"
   ]
  },
  {
   "cell_type": "code",
   "execution_count": 58,
   "metadata": {},
   "outputs": [
    {
     "data": {
      "text/plain": [
       "[('charles xavier', 'prof x', 'telepathy'),\n",
       " ('bobby drake', 'iceman', 'thermokinesis'),\n",
       " ('kurt wagner', 'nightcrawler', 'teleportation'),\n",
       " ('max eisenhardt', 'magneto', 'magnetokinesis'),\n",
       " ('kitty pryde', 'shadowcat', 'intangibility')]"
      ]
     },
     "execution_count": 58,
     "metadata": {},
     "output_type": "execute_result"
    }
   ],
   "source": [
    "list(zip(mutants, aliases, powers))"
   ]
  },
  {
   "cell_type": "markdown",
   "metadata": {},
   "source": [
    "<p id ='U*azt'><p>\n",
    "### Using * and zip to unzip\n",
    "* unpacks an iterable such as a list or a tuple into positional arguments in a function call."
   ]
  },
  {
   "cell_type": "code",
   "execution_count": 66,
   "metadata": {},
   "outputs": [],
   "source": [
    "z1 = zip(mutants, powers)"
   ]
  },
  {
   "cell_type": "code",
   "execution_count": null,
   "metadata": {},
   "outputs": [],
   "source": []
  },
  {
   "cell_type": "code",
   "execution_count": 67,
   "metadata": {},
   "outputs": [
    {
     "name": "stdout",
     "output_type": "stream",
     "text": [
      "('charles xavier', 'telepathy') ('bobby drake', 'thermokinesis') ('kurt wagner', 'teleportation') ('max eisenhardt', 'magnetokinesis') ('kitty pryde', 'intangibility')\n"
     ]
    }
   ],
   "source": [
    "print(*z1)"
   ]
  },
  {
   "cell_type": "code",
   "execution_count": 71,
   "metadata": {},
   "outputs": [],
   "source": [
    "# Re-create a zip object from mutants and powers: z1\n",
    "z1 = zip(mutants, powers)"
   ]
  },
  {
   "cell_type": "code",
   "execution_count": 72,
   "metadata": {},
   "outputs": [],
   "source": [
    "# 'Unzip' the tuples in z1 by unpacking with * and zip(): result1, result2\n",
    "result1, result2 = zip(*z1)"
   ]
  },
  {
   "cell_type": "code",
   "execution_count": 74,
   "metadata": {},
   "outputs": [
    {
     "data": {
      "text/plain": [
       "('charles xavier',\n",
       " 'bobby drake',\n",
       " 'kurt wagner',\n",
       " 'max eisenhardt',\n",
       " 'kitty pryde')"
      ]
     },
     "execution_count": 74,
     "metadata": {},
     "output_type": "execute_result"
    }
   ],
   "source": [
    "result1"
   ]
  },
  {
   "cell_type": "code",
   "execution_count": 75,
   "metadata": {},
   "outputs": [
    {
     "data": {
      "text/plain": [
       "('telepathy',\n",
       " 'thermokinesis',\n",
       " 'teleportation',\n",
       " 'magnetokinesis',\n",
       " 'intangibility')"
      ]
     },
     "execution_count": 75,
     "metadata": {},
     "output_type": "execute_result"
    }
   ],
   "source": [
    "result2"
   ]
  },
  {
   "cell_type": "markdown",
   "metadata": {},
   "source": [
    "<p id ='Uitllfim'><p>\n",
    "### Using iterators to load large files into memory\n",
    "\n",
    "Sometimes, the data we have to process reaches a size that is too much for a computer's memory to handle. This is a common problem faced by data scientists. A solution to this is to process an entire data source chunk by chunk, instead of a single go all at once.\n",
    "\n"
   ]
  },
  {
   "cell_type": "markdown",
   "metadata": {},
   "source": [
    "<p id ='PlaoTd'><p>\n",
    "### Processing large amounts of Twitter data- Reading part of DataFrame\n",
    "* BTW this example does not use large amount of data !"
   ]
  },
  {
   "cell_type": "code",
   "execution_count": 77,
   "metadata": {},
   "outputs": [],
   "source": [
    "import pandas as pd"
   ]
  },
  {
   "cell_type": "code",
   "execution_count": 82,
   "metadata": {},
   "outputs": [],
   "source": [
    "count_dict = {}"
   ]
  },
  {
   "cell_type": "code",
   "execution_count": 83,
   "metadata": {},
   "outputs": [],
   "source": [
    "more ./data/tweets.csv"
   ]
  },
  {
   "cell_type": "code",
   "execution_count": 86,
   "metadata": {},
   "outputs": [],
   "source": [
    "# Iterate over the file chunk by chunk\n",
    "\n",
    "for chunk in pd.read_csv('./data/tweets.csv', chunksize= 10):\n",
    "    # Iterate over the column in DataFrame\n",
    "    for entry in chunk['lang']:\n",
    "        if entry in count_dict.keys():\n",
    "            count_dict[entry] += 1\n",
    "        else:\n",
    "            count_dict[entry] = 1\n"
   ]
  },
  {
   "cell_type": "code",
   "execution_count": 88,
   "metadata": {},
   "outputs": [
    {
     "data": {
      "text/plain": [
       "{'en': 97, 'et': 1, 'und': 2}"
      ]
     },
     "execution_count": 88,
     "metadata": {},
     "output_type": "execute_result"
    }
   ],
   "source": [
    "count_dict"
   ]
  },
  {
   "cell_type": "code",
   "execution_count": 91,
   "metadata": {},
   "outputs": [],
   "source": [
    "# Iterate over the file chunk by chunk\n",
    "\n",
    "df = pd.read_csv('./data/tweets.csv')\n",
    "for entry in df['lang']:\n",
    "        if entry in count_dict.keys():\n",
    "            count_dict[entry] += 1\n",
    "        else:\n",
    "            count_dict[entry] = 1\n",
    "\n",
    "\n"
   ]
  },
  {
   "cell_type": "code",
   "execution_count": 93,
   "metadata": {},
   "outputs": [
    {
     "data": {
      "text/plain": [
       "(100, 31)"
      ]
     },
     "execution_count": 93,
     "metadata": {},
     "output_type": "execute_result"
    }
   ],
   "source": [
    "df.shape"
   ]
  },
  {
   "cell_type": "code",
   "execution_count": 95,
   "metadata": {},
   "outputs": [
    {
     "data": {
      "text/plain": [
       "[[0, 1, 2, 3, 4],\n",
       " [0, 1, 2, 3, 4],\n",
       " [0, 1, 2, 3, 4],\n",
       " [0, 1, 2, 3, 4],\n",
       " [0, 1, 2, 3, 4]]"
      ]
     },
     "execution_count": 95,
     "metadata": {},
     "output_type": "execute_result"
    }
   ],
   "source": [
    "matrix = [[col for col in range(5)] for i in range(5)]\n",
    "matrix"
   ]
  },
  {
   "cell_type": "markdown",
   "metadata": {},
   "source": [
    "<p id ='Ac'><p>\n",
    "### Advanced comprehensions"
   ]
  },
  {
   "cell_type": "code",
   "execution_count": 96,
   "metadata": {},
   "outputs": [],
   "source": [
    "# Create a list of strings: fellowship\n",
    "fellowship = ['frodo', 'samwise', 'merry', 'aragorn', 'legolas', 'boromir', 'gimli']\n"
   ]
  },
  {
   "cell_type": "markdown",
   "metadata": {},
   "source": [
    "<p id ='Ucic('><p>\n",
    "### Using conditionals in comprehensions (1)"
   ]
  },
  {
   "cell_type": "code",
   "execution_count": 99,
   "metadata": {},
   "outputs": [
    {
     "name": "stdout",
     "output_type": "stream",
     "text": [
      "['samwise', 'aragorn', 'legolas', 'boromir']\n"
     ]
    }
   ],
   "source": [
    "# Create list comprehension: new_fellowship\n",
    "new_fellowship = [member for member in fellowship if len(member)>=7]\n",
    "\n",
    "# Print the new list\n",
    "print(new_fellowship)\n"
   ]
  },
  {
   "cell_type": "markdown",
   "metadata": {},
   "source": [
    "<p id ='Ucic('><p>\n",
    "### Using conditionals in comprehensions (2)"
   ]
  },
  {
   "cell_type": "code",
   "execution_count": 100,
   "metadata": {},
   "outputs": [
    {
     "data": {
      "text/plain": [
       "['', 'samwise', '', 'aragorn', 'legolas', 'boromir', '']"
      ]
     },
     "execution_count": 100,
     "metadata": {},
     "output_type": "execute_result"
    }
   ],
   "source": [
    "new_fellowship = [member if len(member)>=7 else '' for member in fellowship]\n",
    "new_fellowship"
   ]
  },
  {
   "cell_type": "markdown",
   "metadata": {},
   "source": [
    "<p id ='Dc'><p>\n",
    "### Dict comprehensions\n",
    "Comprehensions aren't relegated merely to the world of lists. There are many other objects you can build using comprehensions, such as dictionaries, pervasive objects in Data Science. You will create a dictionary using the comprehension syntax for this exercise. In this case, the comprehension is called a dict comprehension.\n",
    "\n",
    "`<key> : <value>`"
   ]
  },
  {
   "cell_type": "code",
   "execution_count": 102,
   "metadata": {},
   "outputs": [
    {
     "data": {
      "text/plain": [
       "['frodo', 'samwise', 'merry', 'aragorn', 'legolas', 'boromir', 'gimli']"
      ]
     },
     "execution_count": 102,
     "metadata": {},
     "output_type": "execute_result"
    }
   ],
   "source": [
    "fellowship"
   ]
  },
  {
   "cell_type": "code",
   "execution_count": 104,
   "metadata": {},
   "outputs": [
    {
     "data": {
      "text/plain": [
       "{'frodo': 5,\n",
       " 'samwise': 7,\n",
       " 'merry': 5,\n",
       " 'aragorn': 7,\n",
       " 'legolas': 7,\n",
       " 'boromir': 7,\n",
       " 'gimli': 5}"
      ]
     },
     "execution_count": 104,
     "metadata": {},
     "output_type": "execute_result"
    }
   ],
   "source": [
    "new_fellowship = {member: len(member) for member in fellowship}\n",
    "new_fellowship"
   ]
  },
  {
   "cell_type": "code",
   "execution_count": null,
   "metadata": {},
   "outputs": [],
   "source": []
  },
  {
   "cell_type": "markdown",
   "metadata": {},
   "source": [
    "<p id ='Itge'><p>\n",
    "### Introduction to generator expressions"
   ]
  },
  {
   "attachments": {
    "Screenshot%202019-03-30%20at%201.23.40%20PM.png": {
     "image/png": "[encoded data removed]"
    },
    "Screenshot%202019-03-30%20at%201.23.47%20PM.png": {
     "image/png": "[encoded data removed]"
    }
   },
   "cell_type": "markdown",
   "metadata": {},
   "source": [
    "<p id ='Lcvg'><p>\n",
    "### List comprehensions vs generators\n",
    "    \n",
    "** List Comprehension **\n",
    "![Screenshot%202019-03-30%20at%201.23.40%20PM.png](attachment:Screenshot%202019-03-30%20at%201.23.40%20PM.png)\n",
    "**   Generators ** \n",
    "![Screenshot%202019-03-30%20at%201.23.47%20PM.png](attachment:Screenshot%202019-03-30%20at%201.23.47%20PM.png)"
   ]
  },
  {
   "cell_type": "markdown",
   "metadata": {},
   "source": [
    "<p id ='Wyoge'><p>\n",
    "### Write your own generator expressions"
   ]
  },
  {
   "cell_type": "code",
   "execution_count": 12,
   "metadata": {},
   "outputs": [],
   "source": [
    "result = (num for num in range(31))"
   ]
  },
  {
   "cell_type": "code",
   "execution_count": 13,
   "metadata": {},
   "outputs": [
    {
     "data": {
      "text/plain": [
       "generator"
      ]
     },
     "execution_count": 13,
     "metadata": {},
     "output_type": "execute_result"
    }
   ],
   "source": [
    "type(result)"
   ]
  },
  {
   "cell_type": "code",
   "execution_count": 22,
   "metadata": {},
   "outputs": [
    {
     "data": {
      "text/plain": [
       "8"
      ]
     },
     "execution_count": 22,
     "metadata": {},
     "output_type": "execute_result"
    }
   ],
   "source": [
    "next(result)"
   ]
  },
  {
   "cell_type": "code",
   "execution_count": 24,
   "metadata": {},
   "outputs": [
    {
     "data": {
      "text/plain": [
       "10"
      ]
     },
     "execution_count": 24,
     "metadata": {},
     "output_type": "execute_result"
    }
   ],
   "source": [
    "next(result)"
   ]
  },
  {
   "cell_type": "code",
   "execution_count": 25,
   "metadata": {},
   "outputs": [
    {
     "name": "stdout",
     "output_type": "stream",
     "text": [
      "11\n",
      "12\n",
      "13\n",
      "14\n",
      "15\n",
      "16\n",
      "17\n",
      "18\n",
      "19\n",
      "20\n",
      "21\n",
      "22\n",
      "23\n",
      "24\n",
      "25\n",
      "26\n",
      "27\n",
      "28\n",
      "29\n",
      "30\n"
     ]
    }
   ],
   "source": [
    "for value in result:\n",
    "    print(value)"
   ]
  },
  {
   "cell_type": "markdown",
   "metadata": {},
   "source": [
    "<p id ='Ctoige'><p>\n",
    "### Changing the output in generator expressions\n",
    "    \n",
    "  You are given a list of strings lannister and, using a generator expression, create a generator object that you will iterate over to print its values.\n",
    "\n"
   ]
  },
  {
   "cell_type": "code",
   "execution_count": 26,
   "metadata": {},
   "outputs": [],
   "source": [
    "lannister =  ['cersei', 'jaime', 'tywin', 'tyrion', 'joffrey']"
   ]
  },
  {
   "cell_type": "code",
   "execution_count": 27,
   "metadata": {},
   "outputs": [],
   "source": [
    "lengths = (len(i) for i in lannister)"
   ]
  },
  {
   "cell_type": "code",
   "execution_count": 29,
   "metadata": {},
   "outputs": [
    {
     "data": {
      "text/plain": [
       "<generator object <genexpr> at 0x104f8a9e8>"
      ]
     },
     "execution_count": 29,
     "metadata": {},
     "output_type": "execute_result"
    }
   ],
   "source": [
    "lengths"
   ]
  },
  {
   "cell_type": "code",
   "execution_count": 31,
   "metadata": {},
   "outputs": [],
   "source": [
    "for value in lengths:\n",
    "    print(value)"
   ]
  },
  {
   "cell_type": "markdown",
   "metadata": {},
   "source": [
    "<p id ='Bag'><p>\n",
    "### Build a generator\n",
    "Generator functions are functions that, like generator expressions, yield a series of values, instead of returning a single value. A generator function is defined as you do a regular function, but whenever it generates a value, it uses the keyword yield instead of return.\n",
    "    \n",
    "In this exercise, you will create a generator function with a similar mechanism as the generator expression you defined in the previous exercise:\n",
    "\n",
    "\n",
    "\n"
   ]
  },
  {
   "cell_type": "code",
   "execution_count": 33,
   "metadata": {},
   "outputs": [
    {
     "data": {
      "text/plain": [
       "['cersei', 'jaime', 'tywin', 'tyrion', 'joffrey']"
      ]
     },
     "execution_count": 33,
     "metadata": {},
     "output_type": "execute_result"
    }
   ],
   "source": [
    "lannister"
   ]
  },
  {
   "cell_type": "code",
   "execution_count": 34,
   "metadata": {},
   "outputs": [],
   "source": [
    "def get_lengths(input_list):\n",
    "    \"\"\"Generator function that yields the\n",
    "    length of the strings in input_list.\"\"\"\n",
    "    for person in input_list:\n",
    "        yield len(person)"
   ]
  },
  {
   "cell_type": "code",
   "execution_count": 43,
   "metadata": {},
   "outputs": [
    {
     "name": "stdout",
     "output_type": "stream",
     "text": [
      "6\n",
      "5\n",
      "5\n",
      "6\n",
      "7\n"
     ]
    }
   ],
   "source": [
    "for value in get_lengths(lannister):\n",
    "    print(value)"
   ]
  },
  {
   "cell_type": "code",
   "execution_count": 45,
   "metadata": {},
   "outputs": [],
   "source": [
    "def num_sequence(n):\n",
    "    i = 0\n",
    "    while i<n:\n",
    "        yield i\n",
    "        i+=1"
   ]
  },
  {
   "cell_type": "code",
   "execution_count": 50,
   "metadata": {},
   "outputs": [],
   "source": [
    "result = num_sequence(10)"
   ]
  },
  {
   "cell_type": "markdown",
   "metadata": {},
   "source": [
    "<p id ='Wucag'><p>\n",
    "### Wrapping up comprehensions and generators."
   ]
  },
  {
   "cell_type": "markdown",
   "metadata": {},
   "source": [
    "<p id ='Lcftd'><p>\n",
    "### List comprehensions for time-stamped data"
   ]
  },
  {
   "cell_type": "code",
   "execution_count": 58,
   "metadata": {},
   "outputs": [
    {
     "data": {
      "text/html": [
       "<div>\n",
       "<style scoped>\n",
       "    .dataframe tbody tr th:only-of-type {\n",
       "        vertical-align: middle;\n",
       "    }\n",
       "\n",
       "    .dataframe tbody tr th {\n",
       "        vertical-align: top;\n",
       "    }\n",
       "\n",
       "    .dataframe thead th {\n",
       "        text-align: right;\n",
       "    }\n",
       "</style>\n",
       "<table border=\"1\" class=\"dataframe\">\n",
       "  <thead>\n",
       "    <tr style=\"text-align: right;\">\n",
       "      <th></th>\n",
       "      <th>contributors</th>\n",
       "      <th>coordinates</th>\n",
       "      <th>created_at</th>\n",
       "      <th>entities</th>\n",
       "      <th>extended_entities</th>\n",
       "      <th>favorite_count</th>\n",
       "      <th>favorited</th>\n",
       "      <th>filter_level</th>\n",
       "      <th>geo</th>\n",
       "      <th>id</th>\n",
       "      <th>...</th>\n",
       "      <th>quoted_status_id</th>\n",
       "      <th>quoted_status_id_str</th>\n",
       "      <th>retweet_count</th>\n",
       "      <th>retweeted</th>\n",
       "      <th>retweeted_status</th>\n",
       "      <th>source</th>\n",
       "      <th>text</th>\n",
       "      <th>timestamp_ms</th>\n",
       "      <th>truncated</th>\n",
       "      <th>user</th>\n",
       "    </tr>\n",
       "  </thead>\n",
       "  <tbody>\n",
       "    <tr>\n",
       "      <th>0</th>\n",
       "      <td>NaN</td>\n",
       "      <td>NaN</td>\n",
       "      <td>Tue Mar 29 23:40:17 +0000 2016</td>\n",
       "      <td>{'hashtags': [], 'user_mentions': [{'screen_na...</td>\n",
       "      <td>{'media': [{'sizes': {'large': {'w': 1024, 'h'...</td>\n",
       "      <td>0</td>\n",
       "      <td>False</td>\n",
       "      <td>low</td>\n",
       "      <td>NaN</td>\n",
       "      <td>714960401759387648</td>\n",
       "      <td>...</td>\n",
       "      <td>NaN</td>\n",
       "      <td>NaN</td>\n",
       "      <td>0</td>\n",
       "      <td>False</td>\n",
       "      <td>{'retweeted': False, 'text': \".@krollbondratin...</td>\n",
       "      <td>&lt;a href=\"http://twitter.com\" rel=\"nofollow\"&gt;Tw...</td>\n",
       "      <td>RT @bpolitics: .@krollbondrating's Christopher...</td>\n",
       "      <td>1459294817758</td>\n",
       "      <td>False</td>\n",
       "      <td>{'utc_offset': 3600, 'profile_image_url_https'...</td>\n",
       "    </tr>\n",
       "    <tr>\n",
       "      <th>1</th>\n",
       "      <td>NaN</td>\n",
       "      <td>NaN</td>\n",
       "      <td>Tue Mar 29 23:40:17 +0000 2016</td>\n",
       "      <td>{'hashtags': [{'text': 'cruzsexscandal', 'indi...</td>\n",
       "      <td>{'media': [{'sizes': {'large': {'w': 500, 'h':...</td>\n",
       "      <td>0</td>\n",
       "      <td>False</td>\n",
       "      <td>low</td>\n",
       "      <td>NaN</td>\n",
       "      <td>714960401977319424</td>\n",
       "      <td>...</td>\n",
       "      <td>NaN</td>\n",
       "      <td>NaN</td>\n",
       "      <td>0</td>\n",
       "      <td>False</td>\n",
       "      <td>{'retweeted': False, 'text': '@dmartosko Cruz ...</td>\n",
       "      <td>&lt;a href=\"http://twitter.com\" rel=\"nofollow\"&gt;Tw...</td>\n",
       "      <td>RT @HeidiAlpine: @dmartosko Cruz video found.....</td>\n",
       "      <td>1459294817810</td>\n",
       "      <td>False</td>\n",
       "      <td>{'utc_offset': None, 'profile_image_url_https'...</td>\n",
       "    </tr>\n",
       "    <tr>\n",
       "      <th>2</th>\n",
       "      <td>NaN</td>\n",
       "      <td>NaN</td>\n",
       "      <td>Tue Mar 29 23:40:17 +0000 2016</td>\n",
       "      <td>{'hashtags': [], 'user_mentions': [], 'symbols...</td>\n",
       "      <td>NaN</td>\n",
       "      <td>0</td>\n",
       "      <td>False</td>\n",
       "      <td>low</td>\n",
       "      <td>NaN</td>\n",
       "      <td>714960402426236928</td>\n",
       "      <td>...</td>\n",
       "      <td>NaN</td>\n",
       "      <td>NaN</td>\n",
       "      <td>0</td>\n",
       "      <td>False</td>\n",
       "      <td>NaN</td>\n",
       "      <td>&lt;a href=\"http://www.facebook.com/twitter\" rel=...</td>\n",
       "      <td>Njihuni me Zonjën Trump !!! | Ekskluzive https...</td>\n",
       "      <td>1459294817917</td>\n",
       "      <td>False</td>\n",
       "      <td>{'utc_offset': 7200, 'profile_image_url_https'...</td>\n",
       "    </tr>\n",
       "    <tr>\n",
       "      <th>3</th>\n",
       "      <td>NaN</td>\n",
       "      <td>NaN</td>\n",
       "      <td>Tue Mar 29 23:40:17 +0000 2016</td>\n",
       "      <td>{'hashtags': [], 'user_mentions': [], 'symbols...</td>\n",
       "      <td>NaN</td>\n",
       "      <td>0</td>\n",
       "      <td>False</td>\n",
       "      <td>low</td>\n",
       "      <td>NaN</td>\n",
       "      <td>714960402367561730</td>\n",
       "      <td>...</td>\n",
       "      <td>7.149239e+17</td>\n",
       "      <td>7.149239e+17</td>\n",
       "      <td>0</td>\n",
       "      <td>False</td>\n",
       "      <td>NaN</td>\n",
       "      <td>&lt;a href=\"http://twitter.com/download/android\" ...</td>\n",
       "      <td>Your an idiot she shouldn't have tried to grab...</td>\n",
       "      <td>1459294817903</td>\n",
       "      <td>False</td>\n",
       "      <td>{'utc_offset': None, 'profile_image_url_https'...</td>\n",
       "    </tr>\n",
       "    <tr>\n",
       "      <th>4</th>\n",
       "      <td>NaN</td>\n",
       "      <td>NaN</td>\n",
       "      <td>Tue Mar 29 23:40:17 +0000 2016</td>\n",
       "      <td>{'hashtags': [], 'user_mentions': [{'screen_na...</td>\n",
       "      <td>NaN</td>\n",
       "      <td>0</td>\n",
       "      <td>False</td>\n",
       "      <td>low</td>\n",
       "      <td>NaN</td>\n",
       "      <td>714960402149416960</td>\n",
       "      <td>...</td>\n",
       "      <td>NaN</td>\n",
       "      <td>NaN</td>\n",
       "      <td>0</td>\n",
       "      <td>False</td>\n",
       "      <td>{'retweeted': False, 'text': 'The anti-America...</td>\n",
       "      <td>&lt;a href=\"http://twitter.com/download/iphone\" r...</td>\n",
       "      <td>RT @AlanLohner: The anti-American D.C. elites ...</td>\n",
       "      <td>1459294817851</td>\n",
       "      <td>False</td>\n",
       "      <td>{'utc_offset': -18000, 'profile_image_url_http...</td>\n",
       "    </tr>\n",
       "  </tbody>\n",
       "</table>\n",
       "<p>5 rows × 31 columns</p>\n",
       "</div>"
      ],
      "text/plain": [
       "   contributors  coordinates                      created_at  \\\n",
       "0           NaN          NaN  Tue Mar 29 23:40:17 +0000 2016   \n",
       "1           NaN          NaN  Tue Mar 29 23:40:17 +0000 2016   \n",
       "2           NaN          NaN  Tue Mar 29 23:40:17 +0000 2016   \n",
       "3           NaN          NaN  Tue Mar 29 23:40:17 +0000 2016   \n",
       "4           NaN          NaN  Tue Mar 29 23:40:17 +0000 2016   \n",
       "\n",
       "                                            entities  \\\n",
       "0  {'hashtags': [], 'user_mentions': [{'screen_na...   \n",
       "1  {'hashtags': [{'text': 'cruzsexscandal', 'indi...   \n",
       "2  {'hashtags': [], 'user_mentions': [], 'symbols...   \n",
       "3  {'hashtags': [], 'user_mentions': [], 'symbols...   \n",
       "4  {'hashtags': [], 'user_mentions': [{'screen_na...   \n",
       "\n",
       "                                   extended_entities  favorite_count  \\\n",
       "0  {'media': [{'sizes': {'large': {'w': 1024, 'h'...               0   \n",
       "1  {'media': [{'sizes': {'large': {'w': 500, 'h':...               0   \n",
       "2                                                NaN               0   \n",
       "3                                                NaN               0   \n",
       "4                                                NaN               0   \n",
       "\n",
       "   favorited filter_level  geo                  id  \\\n",
       "0      False          low  NaN  714960401759387648   \n",
       "1      False          low  NaN  714960401977319424   \n",
       "2      False          low  NaN  714960402426236928   \n",
       "3      False          low  NaN  714960402367561730   \n",
       "4      False          low  NaN  714960402149416960   \n",
       "\n",
       "                         ...                          quoted_status_id  \\\n",
       "0                        ...                                       NaN   \n",
       "1                        ...                                       NaN   \n",
       "2                        ...                                       NaN   \n",
       "3                        ...                              7.149239e+17   \n",
       "4                        ...                                       NaN   \n",
       "\n",
       "  quoted_status_id_str  retweet_count  retweeted  \\\n",
       "0                  NaN              0      False   \n",
       "1                  NaN              0      False   \n",
       "2                  NaN              0      False   \n",
       "3         7.149239e+17              0      False   \n",
       "4                  NaN              0      False   \n",
       "\n",
       "                                    retweeted_status  \\\n",
       "0  {'retweeted': False, 'text': \".@krollbondratin...   \n",
       "1  {'retweeted': False, 'text': '@dmartosko Cruz ...   \n",
       "2                                                NaN   \n",
       "3                                                NaN   \n",
       "4  {'retweeted': False, 'text': 'The anti-America...   \n",
       "\n",
       "                                              source  \\\n",
       "0  <a href=\"http://twitter.com\" rel=\"nofollow\">Tw...   \n",
       "1  <a href=\"http://twitter.com\" rel=\"nofollow\">Tw...   \n",
       "2  <a href=\"http://www.facebook.com/twitter\" rel=...   \n",
       "3  <a href=\"http://twitter.com/download/android\" ...   \n",
       "4  <a href=\"http://twitter.com/download/iphone\" r...   \n",
       "\n",
       "                                                text   timestamp_ms truncated  \\\n",
       "0  RT @bpolitics: .@krollbondrating's Christopher...  1459294817758     False   \n",
       "1  RT @HeidiAlpine: @dmartosko Cruz video found.....  1459294817810     False   \n",
       "2  Njihuni me Zonjën Trump !!! | Ekskluzive https...  1459294817917     False   \n",
       "3  Your an idiot she shouldn't have tried to grab...  1459294817903     False   \n",
       "4  RT @AlanLohner: The anti-American D.C. elites ...  1459294817851     False   \n",
       "\n",
       "                                                user  \n",
       "0  {'utc_offset': 3600, 'profile_image_url_https'...  \n",
       "1  {'utc_offset': None, 'profile_image_url_https'...  \n",
       "2  {'utc_offset': 7200, 'profile_image_url_https'...  \n",
       "3  {'utc_offset': None, 'profile_image_url_https'...  \n",
       "4  {'utc_offset': -18000, 'profile_image_url_http...  \n",
       "\n",
       "[5 rows x 31 columns]"
      ]
     },
     "execution_count": 58,
     "metadata": {},
     "output_type": "execute_result"
    }
   ],
   "source": [
    "import pandas as pd\n",
    "df = pd.read_csv('./data/tweets.csv')\n",
    "df.head()"
   ]
  },
  {
   "cell_type": "code",
   "execution_count": 60,
   "metadata": {},
   "outputs": [
    {
     "data": {
      "text/plain": [
       "0    Tue Mar 29 23:40:17 +0000 2016\n",
       "1    Tue Mar 29 23:40:17 +0000 2016\n",
       "2    Tue Mar 29 23:40:17 +0000 2016\n",
       "3    Tue Mar 29 23:40:17 +0000 2016\n",
       "4    Tue Mar 29 23:40:17 +0000 2016\n",
       "Name: created_at, dtype: object"
      ]
     },
     "execution_count": 60,
     "metadata": {},
     "output_type": "execute_result"
    }
   ],
   "source": [
    "created_at = df['created_at']\n",
    "created_at.head()"
   ]
  },
  {
   "cell_type": "code",
   "execution_count": 64,
   "metadata": {},
   "outputs": [
    {
     "data": {
      "text/plain": [
       "['23:40:17', '23:40:17', '23:40:17', '23:40:17', '23:40:17']"
      ]
     },
     "execution_count": 64,
     "metadata": {},
     "output_type": "execute_result"
    }
   ],
   "source": [
    "tweet_time = [entry[11:19] for entry in created_at]\n",
    "tweet_time[:5]"
   ]
  },
  {
   "cell_type": "markdown",
   "metadata": {},
   "source": [
    "<p id ='Clcftd'><p>\n",
    "### Conditional list comprehensions for time-stamped data"
   ]
  },
  {
   "cell_type": "code",
   "execution_count": 69,
   "metadata": {},
   "outputs": [
    {
     "data": {
      "text/plain": [
       "['23:40:19', '23:40:19', '23:40:19', '23:40:19', '23:40:19']"
      ]
     },
     "execution_count": 69,
     "metadata": {},
     "output_type": "execute_result"
    }
   ],
   "source": [
    "# Extract the clock time: tweet_clock_time\n",
    "tweet_clock_time = [entry[11:19] for entry in created_at if entry[17:19] == '19']\n",
    "tweet_clock_time[:5]"
   ]
  },
  {
   "cell_type": "markdown",
   "metadata": {},
   "source": [
    "<p id ='Wttcs'><p>\n",
    "### Welcome to the case study!"
   ]
  },
  {
   "cell_type": "markdown",
   "metadata": {},
   "source": [
    "<p id ='Dfds'><p>\n",
    "### Dictionaries for data science"
   ]
  },
  {
   "cell_type": "code",
   "execution_count": 70,
   "metadata": {},
   "outputs": [],
   "source": [
    "feature_names = ['CountryName',\n",
    " 'CountryCode',\n",
    " 'IndicatorName',\n",
    " 'IndicatorCode',\n",
    " 'Year',\n",
    " 'Value']"
   ]
  },
  {
   "cell_type": "code",
   "execution_count": 71,
   "metadata": {},
   "outputs": [],
   "source": [
    "row_vals =['Arab World',\n",
    " 'ARB',\n",
    " 'Adolescent fertility rate (births per 1,000 women ages 15-19)',\n",
    " 'SP.ADO.TFRT',\n",
    " '1960',\n",
    " '133.56090740552298']"
   ]
  },
  {
   "cell_type": "code",
   "execution_count": 72,
   "metadata": {},
   "outputs": [],
   "source": [
    "# Zip lists: zipped_lists\n",
    "zipped_lists = zip(feature_names, row_vals)"
   ]
  },
  {
   "cell_type": "code",
   "execution_count": 73,
   "metadata": {},
   "outputs": [
    {
     "data": {
      "text/plain": [
       "zip"
      ]
     },
     "execution_count": 73,
     "metadata": {},
     "output_type": "execute_result"
    }
   ],
   "source": [
    "type(zipped_lists)"
   ]
  },
  {
   "cell_type": "code",
   "execution_count": 74,
   "metadata": {},
   "outputs": [
    {
     "data": {
      "text/plain": [
       "{'CountryName': 'Arab World',\n",
       " 'CountryCode': 'ARB',\n",
       " 'IndicatorName': 'Adolescent fertility rate (births per 1,000 women ages 15-19)',\n",
       " 'IndicatorCode': 'SP.ADO.TFRT',\n",
       " 'Year': '1960',\n",
       " 'Value': '133.56090740552298'}"
      ]
     },
     "execution_count": 74,
     "metadata": {},
     "output_type": "execute_result"
    }
   ],
   "source": [
    "rs_dict = dict(zipped_lists)\n",
    "rs_dict"
   ]
  },
  {
   "cell_type": "markdown",
   "metadata": {},
   "source": [
    "<p id ='Wafthy'><p>\n",
    "### Writing a function to help you"
   ]
  },
  {
   "cell_type": "code",
   "execution_count": 75,
   "metadata": {},
   "outputs": [],
   "source": [
    "def list2dict(list1, list2):\n",
    "   return dict(zip(list1, list2)) "
   ]
  },
  {
   "cell_type": "code",
   "execution_count": 77,
   "metadata": {},
   "outputs": [
    {
     "data": {
      "text/plain": [
       "{'CountryName': 'Arab World',\n",
       " 'CountryCode': 'ARB',\n",
       " 'IndicatorName': 'Adolescent fertility rate (births per 1,000 women ages 15-19)',\n",
       " 'IndicatorCode': 'SP.ADO.TFRT',\n",
       " 'Year': '1960',\n",
       " 'Value': '133.56090740552298'}"
      ]
     },
     "execution_count": 77,
     "metadata": {},
     "output_type": "execute_result"
    }
   ],
   "source": [
    "list2dict(feature_names, row_vals)"
   ]
  },
  {
   "cell_type": "code",
   "execution_count": null,
   "metadata": {},
   "outputs": [],
   "source": []
  },
  {
   "cell_type": "markdown",
   "metadata": {},
   "source": [
    "<p id ='Ualc'><p>\n",
    "### Using a list comprehension\n",
    "Turn a bunch of lists into a list of dictionaries with the help of a list comprehension."
   ]
  },
  {
   "cell_type": "code",
   "execution_count": 81,
   "metadata": {},
   "outputs": [],
   "source": [
    "from data.rowlist import row_list"
   ]
  },
  {
   "cell_type": "code",
   "execution_count": 83,
   "metadata": {},
   "outputs": [
    {
     "data": {
      "text/plain": [
       "[['Arab World',\n",
       "  'ARB',\n",
       "  'Adolescent fertility rate (births per 1,000 women ages 15-19)',\n",
       "  'SP.ADO.TFRT',\n",
       "  '1960',\n",
       "  '133.56090740552298'],\n",
       " ['Arab World',\n",
       "  'ARB',\n",
       "  'Age dependency ratio (% of working-age population)',\n",
       "  'SP.POP.DPND',\n",
       "  '1960',\n",
       "  '87.7976011532547'],\n",
       " ['Arab World',\n",
       "  'ARB',\n",
       "  'Age dependency ratio, old (% of working-age population)',\n",
       "  'SP.POP.DPND.OL',\n",
       "  '1960',\n",
       "  '6.634579191565161'],\n",
       " ['Arab World',\n",
       "  'ARB',\n",
       "  'Age dependency ratio, young (% of working-age population)',\n",
       "  'SP.POP.DPND.YG',\n",
       "  '1960',\n",
       "  '81.02332950839141'],\n",
       " ['Arab World',\n",
       "  'ARB',\n",
       "  'Arms exports (SIPRI trend indicator values)',\n",
       "  'MS.MIL.XPRT.KD',\n",
       "  '1960',\n",
       "  '3000000.0'],\n",
       " ['Arab World',\n",
       "  'ARB',\n",
       "  'Arms imports (SIPRI trend indicator values)',\n",
       "  'MS.MIL.MPRT.KD',\n",
       "  '1960',\n",
       "  '538000000.0'],\n",
       " ['Arab World',\n",
       "  'ARB',\n",
       "  'Birth rate, crude (per 1,000 people)',\n",
       "  'SP.DYN.CBRT.IN',\n",
       "  '1960',\n",
       "  '47.697888095096395'],\n",
       " ['Arab World',\n",
       "  'ARB',\n",
       "  'CO2 emissions (kt)',\n",
       "  'EN.ATM.CO2E.KT',\n",
       "  '1960',\n",
       "  '59563.9892169935'],\n",
       " ['Arab World',\n",
       "  'ARB',\n",
       "  'CO2 emissions (metric tons per capita)',\n",
       "  'EN.ATM.CO2E.PC',\n",
       "  '1960',\n",
       "  '0.6439635478877049'],\n",
       " ['Arab World',\n",
       "  'ARB',\n",
       "  'CO2 emissions from gaseous fuel consumption (% of total)',\n",
       "  'EN.ATM.CO2E.GF.ZS',\n",
       "  '1960',\n",
       "  '5.041291753975099'],\n",
       " ['Arab World',\n",
       "  'ARB',\n",
       "  'CO2 emissions from liquid fuel consumption (% of total)',\n",
       "  'EN.ATM.CO2E.LF.ZS',\n",
       "  '1960',\n",
       "  '84.8514729446567'],\n",
       " ['Arab World',\n",
       "  'ARB',\n",
       "  'CO2 emissions from liquid fuel consumption (kt)',\n",
       "  'EN.ATM.CO2E.LF.KT',\n",
       "  '1960',\n",
       "  '49541.707291032304'],\n",
       " ['Arab World',\n",
       "  'ARB',\n",
       "  'CO2 emissions from solid fuel consumption (% of total)',\n",
       "  'EN.ATM.CO2E.SF.ZS',\n",
       "  '1960',\n",
       "  '4.72698138789597'],\n",
       " ['Arab World',\n",
       "  'ARB',\n",
       "  'Death rate, crude (per 1,000 people)',\n",
       "  'SP.DYN.CDRT.IN',\n",
       "  '1960',\n",
       "  '19.7544519237187'],\n",
       " ['Arab World',\n",
       "  'ARB',\n",
       "  'Fertility rate, total (births per woman)',\n",
       "  'SP.DYN.TFRT.IN',\n",
       "  '1960',\n",
       "  '6.92402738655897'],\n",
       " ['Arab World',\n",
       "  'ARB',\n",
       "  'Fixed telephone subscriptions',\n",
       "  'IT.MLT.MAIN',\n",
       "  '1960',\n",
       "  '406833.0'],\n",
       " ['Arab World',\n",
       "  'ARB',\n",
       "  'Fixed telephone subscriptions (per 100 people)',\n",
       "  'IT.MLT.MAIN.P2',\n",
       "  '1960',\n",
       "  '0.6167005703199'],\n",
       " ['Arab World',\n",
       "  'ARB',\n",
       "  'Hospital beds (per 1,000 people)',\n",
       "  'SH.MED.BEDS.ZS',\n",
       "  '1960',\n",
       "  '1.9296220724398703'],\n",
       " ['Arab World',\n",
       "  'ARB',\n",
       "  'International migrant stock (% of population)',\n",
       "  'SM.POP.TOTL.ZS',\n",
       "  '1960',\n",
       "  '2.9906371279862403'],\n",
       " ['Arab World',\n",
       "  'ARB',\n",
       "  'International migrant stock, total',\n",
       "  'SM.POP.TOTL',\n",
       "  '1960',\n",
       "  '3324685.0']]"
      ]
     },
     "execution_count": 83,
     "metadata": {},
     "output_type": "execute_result"
    }
   ],
   "source": [
    "row_list"
   ]
  },
  {
   "cell_type": "code",
   "execution_count": 84,
   "metadata": {},
   "outputs": [
    {
     "data": {
      "text/plain": [
       "['Arab World',\n",
       " 'ARB',\n",
       " 'Adolescent fertility rate (births per 1,000 women ages 15-19)',\n",
       " 'SP.ADO.TFRT',\n",
       " '1960',\n",
       " '133.56090740552298']"
      ]
     },
     "execution_count": 84,
     "metadata": {},
     "output_type": "execute_result"
    }
   ],
   "source": [
    "row_list[0]"
   ]
  },
  {
   "cell_type": "code",
   "execution_count": 86,
   "metadata": {},
   "outputs": [
    {
     "data": {
      "text/plain": [
       "['Arab World',\n",
       " 'ARB',\n",
       " 'Age dependency ratio (% of working-age population)',\n",
       " 'SP.POP.DPND',\n",
       " '1960',\n",
       " '87.7976011532547']"
      ]
     },
     "execution_count": 86,
     "metadata": {},
     "output_type": "execute_result"
    }
   ],
   "source": [
    "row_list[1]"
   ]
  },
  {
   "cell_type": "code",
   "execution_count": 87,
   "metadata": {},
   "outputs": [],
   "source": [
    "list_of_dict = [list2dict(feature_names, sub_list) for sub_list in row_list]"
   ]
  },
  {
   "cell_type": "code",
   "execution_count": 90,
   "metadata": {},
   "outputs": [
    {
     "data": {
      "text/plain": [
       "{'CountryName': 'Arab World',\n",
       " 'CountryCode': 'ARB',\n",
       " 'IndicatorName': 'Adolescent fertility rate (births per 1,000 women ages 15-19)',\n",
       " 'IndicatorCode': 'SP.ADO.TFRT',\n",
       " 'Year': '1960',\n",
       " 'Value': '133.56090740552298'}"
      ]
     },
     "execution_count": 90,
     "metadata": {},
     "output_type": "execute_result"
    }
   ],
   "source": [
    "list_of_dict[0]"
   ]
  },
  {
   "cell_type": "code",
   "execution_count": 91,
   "metadata": {},
   "outputs": [
    {
     "data": {
      "text/plain": [
       "{'CountryName': 'Arab World',\n",
       " 'CountryCode': 'ARB',\n",
       " 'IndicatorName': 'Age dependency ratio (% of working-age population)',\n",
       " 'IndicatorCode': 'SP.POP.DPND',\n",
       " 'Year': '1960',\n",
       " 'Value': '87.7976011532547'}"
      ]
     },
     "execution_count": 91,
     "metadata": {},
     "output_type": "execute_result"
    }
   ],
   "source": [
    "list_of_dict[1]"
   ]
  },
  {
   "cell_type": "markdown",
   "metadata": {},
   "source": [
    "<p id ='TtaiaD'><p>\n",
    "### Turning this all into a DataFrame"
   ]
  },
  {
   "cell_type": "code",
   "execution_count": 95,
   "metadata": {},
   "outputs": [
    {
     "data": {
      "text/plain": [
       "[{'CountryName': 'Arab World',\n",
       "  'CountryCode': 'ARB',\n",
       "  'IndicatorName': 'Adolescent fertility rate (births per 1,000 women ages 15-19)',\n",
       "  'IndicatorCode': 'SP.ADO.TFRT',\n",
       "  'Year': '1960',\n",
       "  'Value': '133.56090740552298'},\n",
       " {'CountryName': 'Arab World',\n",
       "  'CountryCode': 'ARB',\n",
       "  'IndicatorName': 'Age dependency ratio (% of working-age population)',\n",
       "  'IndicatorCode': 'SP.POP.DPND',\n",
       "  'Year': '1960',\n",
       "  'Value': '87.7976011532547'},\n",
       " {'CountryName': 'Arab World',\n",
       "  'CountryCode': 'ARB',\n",
       "  'IndicatorName': 'Age dependency ratio, old (% of working-age population)',\n",
       "  'IndicatorCode': 'SP.POP.DPND.OL',\n",
       "  'Year': '1960',\n",
       "  'Value': '6.634579191565161'},\n",
       " {'CountryName': 'Arab World',\n",
       "  'CountryCode': 'ARB',\n",
       "  'IndicatorName': 'Age dependency ratio, young (% of working-age population)',\n",
       "  'IndicatorCode': 'SP.POP.DPND.YG',\n",
       "  'Year': '1960',\n",
       "  'Value': '81.02332950839141'},\n",
       " {'CountryName': 'Arab World',\n",
       "  'CountryCode': 'ARB',\n",
       "  'IndicatorName': 'Arms exports (SIPRI trend indicator values)',\n",
       "  'IndicatorCode': 'MS.MIL.XPRT.KD',\n",
       "  'Year': '1960',\n",
       "  'Value': '3000000.0'},\n",
       " {'CountryName': 'Arab World',\n",
       "  'CountryCode': 'ARB',\n",
       "  'IndicatorName': 'Arms imports (SIPRI trend indicator values)',\n",
       "  'IndicatorCode': 'MS.MIL.MPRT.KD',\n",
       "  'Year': '1960',\n",
       "  'Value': '538000000.0'},\n",
       " {'CountryName': 'Arab World',\n",
       "  'CountryCode': 'ARB',\n",
       "  'IndicatorName': 'Birth rate, crude (per 1,000 people)',\n",
       "  'IndicatorCode': 'SP.DYN.CBRT.IN',\n",
       "  'Year': '1960',\n",
       "  'Value': '47.697888095096395'},\n",
       " {'CountryName': 'Arab World',\n",
       "  'CountryCode': 'ARB',\n",
       "  'IndicatorName': 'CO2 emissions (kt)',\n",
       "  'IndicatorCode': 'EN.ATM.CO2E.KT',\n",
       "  'Year': '1960',\n",
       "  'Value': '59563.9892169935'},\n",
       " {'CountryName': 'Arab World',\n",
       "  'CountryCode': 'ARB',\n",
       "  'IndicatorName': 'CO2 emissions (metric tons per capita)',\n",
       "  'IndicatorCode': 'EN.ATM.CO2E.PC',\n",
       "  'Year': '1960',\n",
       "  'Value': '0.6439635478877049'},\n",
       " {'CountryName': 'Arab World',\n",
       "  'CountryCode': 'ARB',\n",
       "  'IndicatorName': 'CO2 emissions from gaseous fuel consumption (% of total)',\n",
       "  'IndicatorCode': 'EN.ATM.CO2E.GF.ZS',\n",
       "  'Year': '1960',\n",
       "  'Value': '5.041291753975099'},\n",
       " {'CountryName': 'Arab World',\n",
       "  'CountryCode': 'ARB',\n",
       "  'IndicatorName': 'CO2 emissions from liquid fuel consumption (% of total)',\n",
       "  'IndicatorCode': 'EN.ATM.CO2E.LF.ZS',\n",
       "  'Year': '1960',\n",
       "  'Value': '84.8514729446567'},\n",
       " {'CountryName': 'Arab World',\n",
       "  'CountryCode': 'ARB',\n",
       "  'IndicatorName': 'CO2 emissions from liquid fuel consumption (kt)',\n",
       "  'IndicatorCode': 'EN.ATM.CO2E.LF.KT',\n",
       "  'Year': '1960',\n",
       "  'Value': '49541.707291032304'},\n",
       " {'CountryName': 'Arab World',\n",
       "  'CountryCode': 'ARB',\n",
       "  'IndicatorName': 'CO2 emissions from solid fuel consumption (% of total)',\n",
       "  'IndicatorCode': 'EN.ATM.CO2E.SF.ZS',\n",
       "  'Year': '1960',\n",
       "  'Value': '4.72698138789597'},\n",
       " {'CountryName': 'Arab World',\n",
       "  'CountryCode': 'ARB',\n",
       "  'IndicatorName': 'Death rate, crude (per 1,000 people)',\n",
       "  'IndicatorCode': 'SP.DYN.CDRT.IN',\n",
       "  'Year': '1960',\n",
       "  'Value': '19.7544519237187'},\n",
       " {'CountryName': 'Arab World',\n",
       "  'CountryCode': 'ARB',\n",
       "  'IndicatorName': 'Fertility rate, total (births per woman)',\n",
       "  'IndicatorCode': 'SP.DYN.TFRT.IN',\n",
       "  'Year': '1960',\n",
       "  'Value': '6.92402738655897'},\n",
       " {'CountryName': 'Arab World',\n",
       "  'CountryCode': 'ARB',\n",
       "  'IndicatorName': 'Fixed telephone subscriptions',\n",
       "  'IndicatorCode': 'IT.MLT.MAIN',\n",
       "  'Year': '1960',\n",
       "  'Value': '406833.0'},\n",
       " {'CountryName': 'Arab World',\n",
       "  'CountryCode': 'ARB',\n",
       "  'IndicatorName': 'Fixed telephone subscriptions (per 100 people)',\n",
       "  'IndicatorCode': 'IT.MLT.MAIN.P2',\n",
       "  'Year': '1960',\n",
       "  'Value': '0.6167005703199'},\n",
       " {'CountryName': 'Arab World',\n",
       "  'CountryCode': 'ARB',\n",
       "  'IndicatorName': 'Hospital beds (per 1,000 people)',\n",
       "  'IndicatorCode': 'SH.MED.BEDS.ZS',\n",
       "  'Year': '1960',\n",
       "  'Value': '1.9296220724398703'},\n",
       " {'CountryName': 'Arab World',\n",
       "  'CountryCode': 'ARB',\n",
       "  'IndicatorName': 'International migrant stock (% of population)',\n",
       "  'IndicatorCode': 'SM.POP.TOTL.ZS',\n",
       "  'Year': '1960',\n",
       "  'Value': '2.9906371279862403'},\n",
       " {'CountryName': 'Arab World',\n",
       "  'CountryCode': 'ARB',\n",
       "  'IndicatorName': 'International migrant stock, total',\n",
       "  'IndicatorCode': 'SM.POP.TOTL',\n",
       "  'Year': '1960',\n",
       "  'Value': '3324685.0'}]"
      ]
     },
     "execution_count": 95,
     "metadata": {},
     "output_type": "execute_result"
    }
   ],
   "source": [
    "list_of_dict"
   ]
  },
  {
   "cell_type": "code",
   "execution_count": 93,
   "metadata": {},
   "outputs": [],
   "source": [
    "df = pd.DataFrame(list_of_dict)"
   ]
  },
  {
   "cell_type": "code",
   "execution_count": 94,
   "metadata": {},
   "outputs": [
    {
     "data": {
      "text/html": [
       "<div>\n",
       "<style scoped>\n",
       "    .dataframe tbody tr th:only-of-type {\n",
       "        vertical-align: middle;\n",
       "    }\n",
       "\n",
       "    .dataframe tbody tr th {\n",
       "        vertical-align: top;\n",
       "    }\n",
       "\n",
       "    .dataframe thead th {\n",
       "        text-align: right;\n",
       "    }\n",
       "</style>\n",
       "<table border=\"1\" class=\"dataframe\">\n",
       "  <thead>\n",
       "    <tr style=\"text-align: right;\">\n",
       "      <th></th>\n",
       "      <th>CountryCode</th>\n",
       "      <th>CountryName</th>\n",
       "      <th>IndicatorCode</th>\n",
       "      <th>IndicatorName</th>\n",
       "      <th>Value</th>\n",
       "      <th>Year</th>\n",
       "    </tr>\n",
       "  </thead>\n",
       "  <tbody>\n",
       "    <tr>\n",
       "      <th>0</th>\n",
       "      <td>ARB</td>\n",
       "      <td>Arab World</td>\n",
       "      <td>SP.ADO.TFRT</td>\n",
       "      <td>Adolescent fertility rate (births per 1,000 wo...</td>\n",
       "      <td>133.56090740552298</td>\n",
       "      <td>1960</td>\n",
       "    </tr>\n",
       "    <tr>\n",
       "      <th>1</th>\n",
       "      <td>ARB</td>\n",
       "      <td>Arab World</td>\n",
       "      <td>SP.POP.DPND</td>\n",
       "      <td>Age dependency ratio (% of working-age populat...</td>\n",
       "      <td>87.7976011532547</td>\n",
       "      <td>1960</td>\n",
       "    </tr>\n",
       "    <tr>\n",
       "      <th>2</th>\n",
       "      <td>ARB</td>\n",
       "      <td>Arab World</td>\n",
       "      <td>SP.POP.DPND.OL</td>\n",
       "      <td>Age dependency ratio, old (% of working-age po...</td>\n",
       "      <td>6.634579191565161</td>\n",
       "      <td>1960</td>\n",
       "    </tr>\n",
       "    <tr>\n",
       "      <th>3</th>\n",
       "      <td>ARB</td>\n",
       "      <td>Arab World</td>\n",
       "      <td>SP.POP.DPND.YG</td>\n",
       "      <td>Age dependency ratio, young (% of working-age ...</td>\n",
       "      <td>81.02332950839141</td>\n",
       "      <td>1960</td>\n",
       "    </tr>\n",
       "    <tr>\n",
       "      <th>4</th>\n",
       "      <td>ARB</td>\n",
       "      <td>Arab World</td>\n",
       "      <td>MS.MIL.XPRT.KD</td>\n",
       "      <td>Arms exports (SIPRI trend indicator values)</td>\n",
       "      <td>3000000.0</td>\n",
       "      <td>1960</td>\n",
       "    </tr>\n",
       "  </tbody>\n",
       "</table>\n",
       "</div>"
      ],
      "text/plain": [
       "  CountryCode CountryName   IndicatorCode  \\\n",
       "0         ARB  Arab World     SP.ADO.TFRT   \n",
       "1         ARB  Arab World     SP.POP.DPND   \n",
       "2         ARB  Arab World  SP.POP.DPND.OL   \n",
       "3         ARB  Arab World  SP.POP.DPND.YG   \n",
       "4         ARB  Arab World  MS.MIL.XPRT.KD   \n",
       "\n",
       "                                       IndicatorName               Value  Year  \n",
       "0  Adolescent fertility rate (births per 1,000 wo...  133.56090740552298  1960  \n",
       "1  Age dependency ratio (% of working-age populat...    87.7976011532547  1960  \n",
       "2  Age dependency ratio, old (% of working-age po...   6.634579191565161  1960  \n",
       "3  Age dependency ratio, young (% of working-age ...   81.02332950839141  1960  \n",
       "4        Arms exports (SIPRI trend indicator values)           3000000.0  1960  "
      ]
     },
     "execution_count": 94,
     "metadata": {},
     "output_type": "execute_result"
    }
   ],
   "source": [
    "df.head()"
   ]
  },
  {
   "cell_type": "markdown",
   "metadata": {},
   "source": [
    "<p id ='UPgfsd'><p>\n",
    "### Using Python generators for streaming data"
   ]
  },
  {
   "cell_type": "markdown",
   "metadata": {},
   "source": [
    "<p id ='Pdic('><p>\n",
    "### Processing data in chunks (1)"
   ]
  },
  {
   "cell_type": "code",
   "execution_count": 97,
   "metadata": {},
   "outputs": [
    {
     "data": {
      "text/html": [
       "<div>\n",
       "<style scoped>\n",
       "    .dataframe tbody tr th:only-of-type {\n",
       "        vertical-align: middle;\n",
       "    }\n",
       "\n",
       "    .dataframe tbody tr th {\n",
       "        vertical-align: top;\n",
       "    }\n",
       "\n",
       "    .dataframe thead th {\n",
       "        text-align: right;\n",
       "    }\n",
       "</style>\n",
       "<table border=\"1\" class=\"dataframe\">\n",
       "  <thead>\n",
       "    <tr style=\"text-align: right;\">\n",
       "      <th></th>\n",
       "      <th>CountryName</th>\n",
       "      <th>CountryCode</th>\n",
       "      <th>Year</th>\n",
       "      <th>Total Population</th>\n",
       "      <th>Urban population (% of total)</th>\n",
       "    </tr>\n",
       "  </thead>\n",
       "  <tbody>\n",
       "    <tr>\n",
       "      <th>0</th>\n",
       "      <td>Arab World</td>\n",
       "      <td>ARB</td>\n",
       "      <td>1960</td>\n",
       "      <td>9.249590e+07</td>\n",
       "      <td>31.285384</td>\n",
       "    </tr>\n",
       "    <tr>\n",
       "      <th>1</th>\n",
       "      <td>Caribbean small states</td>\n",
       "      <td>CSS</td>\n",
       "      <td>1960</td>\n",
       "      <td>4.190810e+06</td>\n",
       "      <td>31.597490</td>\n",
       "    </tr>\n",
       "    <tr>\n",
       "      <th>2</th>\n",
       "      <td>Central Europe and the Baltics</td>\n",
       "      <td>CEB</td>\n",
       "      <td>1960</td>\n",
       "      <td>9.140158e+07</td>\n",
       "      <td>44.507921</td>\n",
       "    </tr>\n",
       "    <tr>\n",
       "      <th>3</th>\n",
       "      <td>East Asia &amp; Pacific (all income levels)</td>\n",
       "      <td>EAS</td>\n",
       "      <td>1960</td>\n",
       "      <td>1.042475e+09</td>\n",
       "      <td>22.471132</td>\n",
       "    </tr>\n",
       "    <tr>\n",
       "      <th>4</th>\n",
       "      <td>East Asia &amp; Pacific (developing only)</td>\n",
       "      <td>EAP</td>\n",
       "      <td>1960</td>\n",
       "      <td>8.964930e+08</td>\n",
       "      <td>16.917679</td>\n",
       "    </tr>\n",
       "  </tbody>\n",
       "</table>\n",
       "</div>"
      ],
      "text/plain": [
       "                               CountryName CountryCode  Year  \\\n",
       "0                               Arab World         ARB  1960   \n",
       "1                   Caribbean small states         CSS  1960   \n",
       "2           Central Europe and the Baltics         CEB  1960   \n",
       "3  East Asia & Pacific (all income levels)         EAS  1960   \n",
       "4    East Asia & Pacific (developing only)         EAP  1960   \n",
       "\n",
       "   Total Population  Urban population (% of total)  \n",
       "0      9.249590e+07                      31.285384  \n",
       "1      4.190810e+06                      31.597490  \n",
       "2      9.140158e+07                      44.507921  \n",
       "3      1.042475e+09                      22.471132  \n",
       "4      8.964930e+08                      16.917679  "
      ]
     },
     "execution_count": 97,
     "metadata": {},
     "output_type": "execute_result"
    }
   ],
   "source": [
    "world = pd.read_csv('./data/world_ind_pop_data2.csv')\n",
    "world.head()"
   ]
  },
  {
   "cell_type": "code",
   "execution_count": 99,
   "metadata": {},
   "outputs": [
    {
     "name": "stdout",
     "output_type": "stream",
     "text": [
      "<class 'pandas.core.frame.DataFrame'>\n",
      "RangeIndex: 13374 entries, 0 to 13373\n",
      "Data columns (total 5 columns):\n",
      "CountryName                      13374 non-null object\n",
      "CountryCode                      13374 non-null object\n",
      "Year                             13374 non-null int64\n",
      "Total Population                 13374 non-null float64\n",
      "Urban population (% of total)    13374 non-null float64\n",
      "dtypes: float64(2), int64(1), object(2)\n",
      "memory usage: 522.5+ KB\n"
     ]
    }
   ],
   "source": [
    "world.info()"
   ]
  },
  {
   "cell_type": "code",
   "execution_count": 142,
   "metadata": {},
   "outputs": [],
   "source": [
    "with open('./data/world_ind_pop_data2.csv') as file:\n",
    "    file.readline()\n",
    "    counts_dict = {}\n",
    "    \n",
    "    for j in range(0, 1000):\n",
    "        # Split the current line into a list: line\n",
    "        line = file.readline().split(',')\n",
    "        first_col = line[0]\n",
    "         # If the column value is in the dict, increment its value\n",
    "        if first_col in counts_dict.keys():\n",
    "            counts_dict[first_col] += 1\n",
    "\n",
    "        # Else, add to the dict and set value to 1\n",
    "        else:\n",
    "            counts_dict[first_col] = 1\n",
    "\n"
   ]
  },
  {
   "cell_type": "code",
   "execution_count": 143,
   "metadata": {},
   "outputs": [
    {
     "data": {
      "text/plain": [
       "{'Arab World': 5,\n",
       " 'Caribbean small states': 5,\n",
       " 'Central Europe and the Baltics': 5,\n",
       " 'East Asia & Pacific (all income levels)': 5,\n",
       " 'East Asia & Pacific (developing only)': 5,\n",
       " 'Euro area': 5,\n",
       " 'Europe & Central Asia (all income levels)': 5,\n",
       " 'Europe & Central Asia (developing only)': 5,\n",
       " 'European Union': 5,\n",
       " 'Fragile and conflict affected situations': 5,\n",
       " 'Heavily indebted poor countries (HIPC)': 5,\n",
       " 'High income': 5,\n",
       " 'High income: nonOECD': 5,\n",
       " 'High income: OECD': 5,\n",
       " 'Latin America & Caribbean (all income levels)': 5,\n",
       " 'Latin America & Caribbean (developing only)': 5,\n",
       " 'Least developed countries: UN classification': 5,\n",
       " 'Low & middle income': 5,\n",
       " 'Low income': 5,\n",
       " 'Lower middle income': 5,\n",
       " 'Middle East & North Africa (all income levels)': 5,\n",
       " 'Middle East & North Africa (developing only)': 5,\n",
       " 'Middle income': 5,\n",
       " 'North America': 5,\n",
       " 'OECD members': 5,\n",
       " 'Other small states': 5,\n",
       " 'Pacific island small states': 5,\n",
       " 'Small states': 5,\n",
       " 'South Asia': 5,\n",
       " 'Sub-Saharan Africa (all income levels)': 5,\n",
       " 'Sub-Saharan Africa (developing only)': 5,\n",
       " 'Upper middle income': 5,\n",
       " 'World': 4,\n",
       " 'Afghanistan': 4,\n",
       " 'Albania': 4,\n",
       " 'Algeria': 4,\n",
       " 'American Samoa': 4,\n",
       " 'Andorra': 4,\n",
       " 'Angola': 4,\n",
       " 'Antigua and Barbuda': 4,\n",
       " 'Argentina': 4,\n",
       " 'Armenia': 4,\n",
       " 'Aruba': 4,\n",
       " 'Australia': 4,\n",
       " 'Austria': 4,\n",
       " 'Azerbaijan': 4,\n",
       " '\"Bahamas': 4,\n",
       " 'Bahrain': 4,\n",
       " 'Bangladesh': 4,\n",
       " 'Barbados': 4,\n",
       " 'Belarus': 4,\n",
       " 'Belgium': 4,\n",
       " 'Belize': 4,\n",
       " 'Benin': 4,\n",
       " 'Bermuda': 4,\n",
       " 'Bhutan': 4,\n",
       " 'Bolivia': 4,\n",
       " 'Bosnia and Herzegovina': 4,\n",
       " 'Botswana': 4,\n",
       " 'Brazil': 4,\n",
       " 'Brunei Darussalam': 4,\n",
       " 'Bulgaria': 4,\n",
       " 'Burkina Faso': 4,\n",
       " 'Burundi': 4,\n",
       " 'Cabo Verde': 4,\n",
       " 'Cambodia': 4,\n",
       " 'Cameroon': 4,\n",
       " 'Canada': 4,\n",
       " 'Cayman Islands': 4,\n",
       " 'Central African Republic': 4,\n",
       " 'Chad': 4,\n",
       " 'Channel Islands': 4,\n",
       " 'Chile': 4,\n",
       " 'China': 4,\n",
       " 'Colombia': 4,\n",
       " 'Comoros': 4,\n",
       " '\"Congo': 8,\n",
       " 'Costa Rica': 4,\n",
       " \"Cote d'Ivoire\": 4,\n",
       " 'Croatia': 4,\n",
       " 'Cuba': 4,\n",
       " 'Curacao': 4,\n",
       " 'Cyprus': 4,\n",
       " 'Czech Republic': 4,\n",
       " 'Denmark': 4,\n",
       " 'Djibouti': 4,\n",
       " 'Dominica': 4,\n",
       " 'Dominican Republic': 4,\n",
       " 'Ecuador': 4,\n",
       " '\"Egypt': 4,\n",
       " 'El Salvador': 4,\n",
       " 'Equatorial Guinea': 4,\n",
       " 'Eritrea': 4,\n",
       " 'Estonia': 4,\n",
       " 'Ethiopia': 4,\n",
       " 'Faeroe Islands': 4,\n",
       " 'Fiji': 4,\n",
       " 'Finland': 4,\n",
       " 'France': 4,\n",
       " 'French Polynesia': 4,\n",
       " 'Gabon': 4,\n",
       " '\"Gambia': 4,\n",
       " 'Georgia': 4,\n",
       " 'Germany': 4,\n",
       " 'Ghana': 4,\n",
       " 'Greece': 4,\n",
       " 'Greenland': 4,\n",
       " 'Grenada': 4,\n",
       " 'Guam': 4,\n",
       " 'Guatemala': 4,\n",
       " 'Guinea': 4,\n",
       " 'Guinea-Bissau': 4,\n",
       " 'Guyana': 4,\n",
       " 'Haiti': 4,\n",
       " 'Honduras': 4,\n",
       " '\"Hong Kong SAR': 4,\n",
       " 'Hungary': 4,\n",
       " 'Iceland': 4,\n",
       " 'India': 4,\n",
       " 'Indonesia': 4,\n",
       " '\"Iran': 4,\n",
       " 'Iraq': 4,\n",
       " 'Ireland': 4,\n",
       " 'Isle of Man': 4,\n",
       " 'Israel': 4,\n",
       " 'Italy': 4,\n",
       " 'Jamaica': 4,\n",
       " 'Japan': 4,\n",
       " 'Jordan': 4,\n",
       " 'Kazakhstan': 4,\n",
       " 'Kenya': 4,\n",
       " 'Kiribati': 4,\n",
       " '\"Korea': 8,\n",
       " 'Kuwait': 4,\n",
       " 'Kyrgyz Republic': 4,\n",
       " 'Lao PDR': 4,\n",
       " 'Latvia': 4,\n",
       " 'Lebanon': 4,\n",
       " 'Lesotho': 4,\n",
       " 'Liberia': 4,\n",
       " 'Libya': 4,\n",
       " 'Liechtenstein': 4,\n",
       " 'Lithuania': 4,\n",
       " 'Luxembourg': 4,\n",
       " '\"Macao SAR': 4,\n",
       " '\"Macedonia': 4,\n",
       " 'Madagascar': 4,\n",
       " 'Malawi': 4,\n",
       " 'Malaysia': 4,\n",
       " 'Maldives': 4,\n",
       " 'Mali': 4,\n",
       " 'Malta': 4,\n",
       " 'Marshall Islands': 4,\n",
       " 'Mauritania': 4,\n",
       " 'Mauritius': 4,\n",
       " 'Mexico': 4,\n",
       " '\"Micronesia': 4,\n",
       " 'Moldova': 4,\n",
       " 'Monaco': 4,\n",
       " 'Mongolia': 4,\n",
       " 'Montenegro': 4,\n",
       " 'Morocco': 4,\n",
       " 'Mozambique': 4,\n",
       " 'Myanmar': 4,\n",
       " 'Namibia': 4,\n",
       " 'Nepal': 4,\n",
       " 'Netherlands': 4,\n",
       " 'New Caledonia': 4,\n",
       " 'New Zealand': 4,\n",
       " 'Nicaragua': 4,\n",
       " 'Niger': 4,\n",
       " 'Nigeria': 4,\n",
       " 'Northern Mariana Islands': 4,\n",
       " 'Norway': 4,\n",
       " 'Oman': 4,\n",
       " 'Pakistan': 4,\n",
       " 'Palau': 4,\n",
       " 'Panama': 4,\n",
       " 'Papua New Guinea': 4,\n",
       " 'Paraguay': 4,\n",
       " 'Peru': 4,\n",
       " 'Philippines': 4,\n",
       " 'Poland': 4,\n",
       " 'Portugal': 4,\n",
       " 'Puerto Rico': 4,\n",
       " 'Qatar': 4,\n",
       " 'Romania': 4,\n",
       " 'Russian Federation': 4,\n",
       " 'Rwanda': 4,\n",
       " 'Samoa': 4,\n",
       " 'San Marino': 4,\n",
       " 'Sao Tome and Principe': 4,\n",
       " 'Saudi Arabia': 4,\n",
       " 'Senegal': 4,\n",
       " 'Seychelles': 4,\n",
       " 'Sierra Leone': 4,\n",
       " 'Singapore': 4,\n",
       " 'Slovak Republic': 4,\n",
       " 'Slovenia': 4,\n",
       " 'Solomon Islands': 4,\n",
       " 'Somalia': 4,\n",
       " 'South Africa': 4,\n",
       " 'South Sudan': 4,\n",
       " 'Spain': 4,\n",
       " 'Sri Lanka': 4,\n",
       " 'St. Kitts and Nevis': 4,\n",
       " 'St. Lucia': 4,\n",
       " 'St. Vincent and the Grenadines': 4,\n",
       " 'Sudan': 4,\n",
       " 'Suriname': 4,\n",
       " 'Swaziland': 4,\n",
       " 'Sweden': 4,\n",
       " 'Switzerland': 4,\n",
       " 'Syrian Arab Republic': 4,\n",
       " 'Tajikistan': 4,\n",
       " 'Tanzania': 4,\n",
       " 'Thailand': 4,\n",
       " 'Timor-Leste': 4,\n",
       " 'Togo': 4,\n",
       " 'Tonga': 4,\n",
       " 'Trinidad and Tobago': 4,\n",
       " 'Tunisia': 4,\n",
       " 'Turkey': 4,\n",
       " 'Turkmenistan': 4,\n",
       " 'Turks and Caicos Islands': 4,\n",
       " 'Tuvalu': 4,\n",
       " 'Uganda': 4,\n",
       " 'Ukraine': 4,\n",
       " 'United Arab Emirates': 4,\n",
       " 'United Kingdom': 4,\n",
       " 'United States': 4,\n",
       " 'Uruguay': 4,\n",
       " 'Uzbekistan': 4,\n",
       " 'Vanuatu': 4,\n",
       " '\"Venezuela': 4,\n",
       " 'Vietnam': 4,\n",
       " 'Virgin Islands (U.S.)': 4,\n",
       " '\"Yemen': 4,\n",
       " 'Zambia': 4,\n",
       " 'Zimbabwe': 4}"
      ]
     },
     "execution_count": 143,
     "metadata": {},
     "output_type": "execute_result"
    }
   ],
   "source": [
    "counts_dict"
   ]
  },
  {
   "cell_type": "markdown",
   "metadata": {},
   "source": [
    "<p id ='Wagtldic('><p>\n",
    "### Writing a generator to load data in chunks (2)\n",
    "Generators allows users to lazily evaluate the data.\n",
    "The concept of lazily evaluation is very useful when we have to deal with very  large datasets because it lets us to deal with very large datasets because it lets us to generate value in efficient manner by yielding only chunks of data \n",
    "instead of whole thing at once."
   ]
  },
  {
   "cell_type": "markdown",
   "metadata": {},
   "source": [
    "Define a generator function `read_large_file()` that produces a generator object which yields a single line from a file each time `next()` is called on it"
   ]
  },
  {
   "cell_type": "code",
   "execution_count": 106,
   "metadata": {},
   "outputs": [],
   "source": [
    "def read_large_file(file_object):\n",
    "    \"\"\"A generator to read file lazily.\"\"\"\n",
    "    while True:\n",
    "        data = file_object.readline()\n",
    "        # Break if this is EOF\n",
    "        if not data:\n",
    "            break\n",
    "        yield data"
   ]
  },
  {
   "cell_type": "code",
   "execution_count": 121,
   "metadata": {},
   "outputs": [
    {
     "name": "stdout",
     "output_type": "stream",
     "text": [
      "CountryName,CountryCode,Year,Total Population,Urban population (% of total)\n",
      "\n"
     ]
    }
   ],
   "source": [
    "file =  open('./data/world_ind_pop_data2.csv')\n",
    "gen_obj = read_large_file(file)\n",
    "print(next(gen_obj))"
   ]
  },
  {
   "cell_type": "code",
   "execution_count": 122,
   "metadata": {},
   "outputs": [
    {
     "name": "stdout",
     "output_type": "stream",
     "text": [
      "Arab World,ARB,1960,92495902.0,31.285384211605397\n",
      "\n"
     ]
    }
   ],
   "source": [
    "print(next(gen_obj))"
   ]
  },
  {
   "cell_type": "code",
   "execution_count": 123,
   "metadata": {},
   "outputs": [],
   "source": [
    "file.close()"
   ]
  },
  {
   "cell_type": "code",
   "execution_count": null,
   "metadata": {},
   "outputs": [],
   "source": []
  },
  {
   "cell_type": "markdown",
   "metadata": {},
   "source": [
    "<p id ='Wagtldic('><p>\n",
    "### Writing a generator to load data in chunks (3)\n",
    "Now let's use your generator function to process the World Bank dataset like you did previously. You will process the file line by line, to create a dictionary of the counts of how many times each country appears in a column in the dataset. For this exercise, however, you won't process just 1000 rows of data, you'll process the entire dataset!"
   ]
  },
  {
   "cell_type": "code",
   "execution_count": 136,
   "metadata": {},
   "outputs": [],
   "source": [
    "counts_dict= {}"
   ]
  },
  {
   "cell_type": "code",
   "execution_count": 137,
   "metadata": {},
   "outputs": [
    {
     "data": {
      "text/plain": [
       "<generator object read_large_file at 0x10e4b4a98>"
      ]
     },
     "execution_count": 137,
     "metadata": {},
     "output_type": "execute_result"
    }
   ],
   "source": [
    "read_large_file(file)"
   ]
  },
  {
   "cell_type": "code",
   "execution_count": 138,
   "metadata": {},
   "outputs": [],
   "source": [
    "with open('./data/world_ind_pop_data2.csv') as file:\n",
    "    for line in read_large_file(file):\n",
    "        row = line.split(',')\n",
    "        first_col = row[0]\n",
    "        if first_col in counts_dict.keys():\n",
    "            counts_dict[first_col] += 1\n",
    "        else:\n",
    "            counts_dict[first_col] = 1"
   ]
  },
  {
   "cell_type": "code",
   "execution_count": 141,
   "metadata": {},
   "outputs": [
    {
     "data": {
      "text/plain": [
       "{'CountryName': 1,\n",
       " 'Arab World': 55,\n",
       " 'Caribbean small states': 55,\n",
       " 'Central Europe and the Baltics': 55,\n",
       " 'East Asia & Pacific (all income levels)': 55,\n",
       " 'East Asia & Pacific (developing only)': 55,\n",
       " 'Euro area': 55,\n",
       " 'Europe & Central Asia (all income levels)': 55,\n",
       " 'Europe & Central Asia (developing only)': 55,\n",
       " 'European Union': 55,\n",
       " 'Fragile and conflict affected situations': 55,\n",
       " 'Heavily indebted poor countries (HIPC)': 55,\n",
       " 'High income': 55,\n",
       " 'High income: nonOECD': 55,\n",
       " 'High income: OECD': 55,\n",
       " 'Latin America & Caribbean (all income levels)': 55,\n",
       " 'Latin America & Caribbean (developing only)': 55,\n",
       " 'Least developed countries: UN classification': 55,\n",
       " 'Low & middle income': 55,\n",
       " 'Low income': 55,\n",
       " 'Lower middle income': 55,\n",
       " 'Middle East & North Africa (all income levels)': 55,\n",
       " 'Middle East & North Africa (developing only)': 55,\n",
       " 'Middle income': 55,\n",
       " 'North America': 55,\n",
       " 'OECD members': 55,\n",
       " 'Other small states': 55,\n",
       " 'Pacific island small states': 55,\n",
       " 'Small states': 55,\n",
       " 'South Asia': 55,\n",
       " 'Sub-Saharan Africa (all income levels)': 55,\n",
       " 'Sub-Saharan Africa (developing only)': 55,\n",
       " 'Upper middle income': 55,\n",
       " 'World': 55,\n",
       " 'Afghanistan': 55,\n",
       " 'Albania': 55,\n",
       " 'Algeria': 55,\n",
       " 'American Samoa': 55,\n",
       " 'Andorra': 55,\n",
       " 'Angola': 55,\n",
       " 'Antigua and Barbuda': 55,\n",
       " 'Argentina': 55,\n",
       " 'Armenia': 55,\n",
       " 'Aruba': 55,\n",
       " 'Australia': 55,\n",
       " 'Austria': 55,\n",
       " 'Azerbaijan': 55,\n",
       " '\"Bahamas': 55,\n",
       " 'Bahrain': 55,\n",
       " 'Bangladesh': 55,\n",
       " 'Barbados': 55,\n",
       " 'Belarus': 55,\n",
       " 'Belgium': 55,\n",
       " 'Belize': 55,\n",
       " 'Benin': 55,\n",
       " 'Bermuda': 55,\n",
       " 'Bhutan': 55,\n",
       " 'Bolivia': 55,\n",
       " 'Bosnia and Herzegovina': 55,\n",
       " 'Botswana': 55,\n",
       " 'Brazil': 55,\n",
       " 'Brunei Darussalam': 55,\n",
       " 'Bulgaria': 55,\n",
       " 'Burkina Faso': 55,\n",
       " 'Burundi': 55,\n",
       " 'Cabo Verde': 55,\n",
       " 'Cambodia': 55,\n",
       " 'Cameroon': 55,\n",
       " 'Canada': 55,\n",
       " 'Cayman Islands': 55,\n",
       " 'Central African Republic': 55,\n",
       " 'Chad': 55,\n",
       " 'Channel Islands': 55,\n",
       " 'Chile': 55,\n",
       " 'China': 55,\n",
       " 'Colombia': 55,\n",
       " 'Comoros': 55,\n",
       " '\"Congo': 110,\n",
       " 'Costa Rica': 55,\n",
       " \"Cote d'Ivoire\": 55,\n",
       " 'Croatia': 55,\n",
       " 'Cuba': 55,\n",
       " 'Curacao': 55,\n",
       " 'Cyprus': 55,\n",
       " 'Czech Republic': 55,\n",
       " 'Denmark': 55,\n",
       " 'Djibouti': 55,\n",
       " 'Dominica': 55,\n",
       " 'Dominican Republic': 55,\n",
       " 'Ecuador': 55,\n",
       " '\"Egypt': 55,\n",
       " 'El Salvador': 55,\n",
       " 'Equatorial Guinea': 55,\n",
       " 'Eritrea': 55,\n",
       " 'Estonia': 55,\n",
       " 'Ethiopia': 55,\n",
       " 'Faeroe Islands': 55,\n",
       " 'Fiji': 55,\n",
       " 'Finland': 55,\n",
       " 'France': 55,\n",
       " 'French Polynesia': 55,\n",
       " 'Gabon': 55,\n",
       " '\"Gambia': 55,\n",
       " 'Georgia': 55,\n",
       " 'Germany': 55,\n",
       " 'Ghana': 55,\n",
       " 'Greece': 55,\n",
       " 'Greenland': 55,\n",
       " 'Grenada': 55,\n",
       " 'Guam': 55,\n",
       " 'Guatemala': 55,\n",
       " 'Guinea': 55,\n",
       " 'Guinea-Bissau': 55,\n",
       " 'Guyana': 55,\n",
       " 'Haiti': 55,\n",
       " 'Honduras': 55,\n",
       " '\"Hong Kong SAR': 55,\n",
       " 'Hungary': 55,\n",
       " 'Iceland': 55,\n",
       " 'India': 55,\n",
       " 'Indonesia': 55,\n",
       " '\"Iran': 55,\n",
       " 'Iraq': 55,\n",
       " 'Ireland': 55,\n",
       " 'Isle of Man': 55,\n",
       " 'Israel': 55,\n",
       " 'Italy': 55,\n",
       " 'Jamaica': 55,\n",
       " 'Japan': 55,\n",
       " 'Jordan': 55,\n",
       " 'Kazakhstan': 55,\n",
       " 'Kenya': 55,\n",
       " 'Kiribati': 55,\n",
       " '\"Korea': 110,\n",
       " 'Kuwait': 52,\n",
       " 'Kyrgyz Republic': 55,\n",
       " 'Lao PDR': 55,\n",
       " 'Latvia': 55,\n",
       " 'Lebanon': 55,\n",
       " 'Lesotho': 55,\n",
       " 'Liberia': 55,\n",
       " 'Libya': 55,\n",
       " 'Liechtenstein': 55,\n",
       " 'Lithuania': 55,\n",
       " 'Luxembourg': 55,\n",
       " '\"Macao SAR': 55,\n",
       " '\"Macedonia': 55,\n",
       " 'Madagascar': 55,\n",
       " 'Malawi': 55,\n",
       " 'Malaysia': 55,\n",
       " 'Maldives': 55,\n",
       " 'Mali': 55,\n",
       " 'Malta': 55,\n",
       " 'Marshall Islands': 55,\n",
       " 'Mauritania': 55,\n",
       " 'Mauritius': 55,\n",
       " 'Mexico': 55,\n",
       " '\"Micronesia': 55,\n",
       " 'Moldova': 55,\n",
       " 'Monaco': 55,\n",
       " 'Mongolia': 55,\n",
       " 'Montenegro': 55,\n",
       " 'Morocco': 55,\n",
       " 'Mozambique': 55,\n",
       " 'Myanmar': 55,\n",
       " 'Namibia': 55,\n",
       " 'Nepal': 55,\n",
       " 'Netherlands': 55,\n",
       " 'New Caledonia': 55,\n",
       " 'New Zealand': 55,\n",
       " 'Nicaragua': 55,\n",
       " 'Niger': 55,\n",
       " 'Nigeria': 55,\n",
       " 'Northern Mariana Islands': 55,\n",
       " 'Norway': 55,\n",
       " 'Oman': 55,\n",
       " 'Pakistan': 55,\n",
       " 'Palau': 55,\n",
       " 'Panama': 55,\n",
       " 'Papua New Guinea': 55,\n",
       " 'Paraguay': 55,\n",
       " 'Peru': 55,\n",
       " 'Philippines': 55,\n",
       " 'Poland': 55,\n",
       " 'Portugal': 55,\n",
       " 'Puerto Rico': 55,\n",
       " 'Qatar': 55,\n",
       " 'Romania': 55,\n",
       " 'Russian Federation': 55,\n",
       " 'Rwanda': 55,\n",
       " 'Samoa': 55,\n",
       " 'San Marino': 55,\n",
       " 'Sao Tome and Principe': 55,\n",
       " 'Saudi Arabia': 55,\n",
       " 'Senegal': 55,\n",
       " 'Seychelles': 55,\n",
       " 'Sierra Leone': 55,\n",
       " 'Singapore': 55,\n",
       " 'Slovak Republic': 55,\n",
       " 'Slovenia': 55,\n",
       " 'Solomon Islands': 55,\n",
       " 'Somalia': 55,\n",
       " 'South Africa': 55,\n",
       " 'South Sudan': 55,\n",
       " 'Spain': 55,\n",
       " 'Sri Lanka': 55,\n",
       " 'St. Kitts and Nevis': 55,\n",
       " 'St. Lucia': 55,\n",
       " 'St. Vincent and the Grenadines': 55,\n",
       " 'Sudan': 55,\n",
       " 'Suriname': 55,\n",
       " 'Swaziland': 55,\n",
       " 'Sweden': 55,\n",
       " 'Switzerland': 55,\n",
       " 'Syrian Arab Republic': 55,\n",
       " 'Tajikistan': 55,\n",
       " 'Tanzania': 55,\n",
       " 'Thailand': 55,\n",
       " 'Timor-Leste': 55,\n",
       " 'Togo': 55,\n",
       " 'Tonga': 55,\n",
       " 'Trinidad and Tobago': 55,\n",
       " 'Tunisia': 55,\n",
       " 'Turkey': 55,\n",
       " 'Turkmenistan': 55,\n",
       " 'Turks and Caicos Islands': 55,\n",
       " 'Tuvalu': 55,\n",
       " 'Uganda': 55,\n",
       " 'Ukraine': 55,\n",
       " 'United Arab Emirates': 55,\n",
       " 'United Kingdom': 55,\n",
       " 'United States': 55,\n",
       " 'Uruguay': 55,\n",
       " 'Uzbekistan': 55,\n",
       " 'Vanuatu': 55,\n",
       " '\"Venezuela': 55,\n",
       " 'Vietnam': 55,\n",
       " 'Virgin Islands (U.S.)': 55,\n",
       " '\"Yemen': 55,\n",
       " 'Zambia': 55,\n",
       " 'Zimbabwe': 55,\n",
       " 'Serbia': 25,\n",
       " 'West Bank and Gaza': 25,\n",
       " 'Sint Maarten (Dutch part)': 17}"
      ]
     },
     "execution_count": 141,
     "metadata": {},
     "output_type": "execute_result"
    }
   ],
   "source": [
    "counts_dict"
   ]
  },
  {
   "cell_type": "markdown",
   "metadata": {},
   "source": [
    "<p id ='Uprifsd'><p>\n",
    "### Using pandas `read_csv` iterator for streaming data"
   ]
  },
  {
   "cell_type": "code",
   "execution_count": 153,
   "metadata": {},
   "outputs": [],
   "source": [
    "df_reader = pd.read_csv('./data/world_ind_pop_data2.csv', chunksize=10)\n"
   ]
  },
  {
   "cell_type": "code",
   "execution_count": 154,
   "metadata": {},
   "outputs": [
    {
     "data": {
      "text/plain": [
       "pandas.io.parsers.TextFileReader"
      ]
     },
     "execution_count": 154,
     "metadata": {},
     "output_type": "execute_result"
    }
   ],
   "source": [
    "type(df_reader)"
   ]
  },
  {
   "cell_type": "code",
   "execution_count": 155,
   "metadata": {},
   "outputs": [
    {
     "data": {
      "text/html": [
       "<div>\n",
       "<style scoped>\n",
       "    .dataframe tbody tr th:only-of-type {\n",
       "        vertical-align: middle;\n",
       "    }\n",
       "\n",
       "    .dataframe tbody tr th {\n",
       "        vertical-align: top;\n",
       "    }\n",
       "\n",
       "    .dataframe thead th {\n",
       "        text-align: right;\n",
       "    }\n",
       "</style>\n",
       "<table border=\"1\" class=\"dataframe\">\n",
       "  <thead>\n",
       "    <tr style=\"text-align: right;\">\n",
       "      <th></th>\n",
       "      <th>CountryName</th>\n",
       "      <th>CountryCode</th>\n",
       "      <th>Year</th>\n",
       "      <th>Total Population</th>\n",
       "      <th>Urban population (% of total)</th>\n",
       "    </tr>\n",
       "  </thead>\n",
       "  <tbody>\n",
       "    <tr>\n",
       "      <th>0</th>\n",
       "      <td>Arab World</td>\n",
       "      <td>ARB</td>\n",
       "      <td>1960</td>\n",
       "      <td>9.249590e+07</td>\n",
       "      <td>31.285384</td>\n",
       "    </tr>\n",
       "    <tr>\n",
       "      <th>1</th>\n",
       "      <td>Caribbean small states</td>\n",
       "      <td>CSS</td>\n",
       "      <td>1960</td>\n",
       "      <td>4.190810e+06</td>\n",
       "      <td>31.597490</td>\n",
       "    </tr>\n",
       "    <tr>\n",
       "      <th>2</th>\n",
       "      <td>Central Europe and the Baltics</td>\n",
       "      <td>CEB</td>\n",
       "      <td>1960</td>\n",
       "      <td>9.140158e+07</td>\n",
       "      <td>44.507921</td>\n",
       "    </tr>\n",
       "    <tr>\n",
       "      <th>3</th>\n",
       "      <td>East Asia &amp; Pacific (all income levels)</td>\n",
       "      <td>EAS</td>\n",
       "      <td>1960</td>\n",
       "      <td>1.042475e+09</td>\n",
       "      <td>22.471132</td>\n",
       "    </tr>\n",
       "    <tr>\n",
       "      <th>4</th>\n",
       "      <td>East Asia &amp; Pacific (developing only)</td>\n",
       "      <td>EAP</td>\n",
       "      <td>1960</td>\n",
       "      <td>8.964930e+08</td>\n",
       "      <td>16.917679</td>\n",
       "    </tr>\n",
       "    <tr>\n",
       "      <th>5</th>\n",
       "      <td>Euro area</td>\n",
       "      <td>EMU</td>\n",
       "      <td>1960</td>\n",
       "      <td>2.653965e+08</td>\n",
       "      <td>62.096947</td>\n",
       "    </tr>\n",
       "    <tr>\n",
       "      <th>6</th>\n",
       "      <td>Europe &amp; Central Asia (all income levels)</td>\n",
       "      <td>ECS</td>\n",
       "      <td>1960</td>\n",
       "      <td>6.674890e+08</td>\n",
       "      <td>55.378977</td>\n",
       "    </tr>\n",
       "    <tr>\n",
       "      <th>7</th>\n",
       "      <td>Europe &amp; Central Asia (developing only)</td>\n",
       "      <td>ECA</td>\n",
       "      <td>1960</td>\n",
       "      <td>1.553174e+08</td>\n",
       "      <td>38.066129</td>\n",
       "    </tr>\n",
       "    <tr>\n",
       "      <th>8</th>\n",
       "      <td>European Union</td>\n",
       "      <td>EUU</td>\n",
       "      <td>1960</td>\n",
       "      <td>4.094985e+08</td>\n",
       "      <td>61.212898</td>\n",
       "    </tr>\n",
       "    <tr>\n",
       "      <th>9</th>\n",
       "      <td>Fragile and conflict affected situations</td>\n",
       "      <td>FCS</td>\n",
       "      <td>1960</td>\n",
       "      <td>1.203546e+08</td>\n",
       "      <td>17.891972</td>\n",
       "    </tr>\n",
       "  </tbody>\n",
       "</table>\n",
       "</div>"
      ],
      "text/plain": [
       "                                 CountryName CountryCode  Year  \\\n",
       "0                                 Arab World         ARB  1960   \n",
       "1                     Caribbean small states         CSS  1960   \n",
       "2             Central Europe and the Baltics         CEB  1960   \n",
       "3    East Asia & Pacific (all income levels)         EAS  1960   \n",
       "4      East Asia & Pacific (developing only)         EAP  1960   \n",
       "5                                  Euro area         EMU  1960   \n",
       "6  Europe & Central Asia (all income levels)         ECS  1960   \n",
       "7    Europe & Central Asia (developing only)         ECA  1960   \n",
       "8                             European Union         EUU  1960   \n",
       "9   Fragile and conflict affected situations         FCS  1960   \n",
       "\n",
       "   Total Population  Urban population (% of total)  \n",
       "0      9.249590e+07                      31.285384  \n",
       "1      4.190810e+06                      31.597490  \n",
       "2      9.140158e+07                      44.507921  \n",
       "3      1.042475e+09                      22.471132  \n",
       "4      8.964930e+08                      16.917679  \n",
       "5      2.653965e+08                      62.096947  \n",
       "6      6.674890e+08                      55.378977  \n",
       "7      1.553174e+08                      38.066129  \n",
       "8      4.094985e+08                      61.212898  \n",
       "9      1.203546e+08                      17.891972  "
      ]
     },
     "execution_count": 155,
     "metadata": {},
     "output_type": "execute_result"
    }
   ],
   "source": [
    "next(df_reader)"
   ]
  },
  {
   "cell_type": "code",
   "execution_count": 156,
   "metadata": {},
   "outputs": [
    {
     "data": {
      "text/html": [
       "<div>\n",
       "<style scoped>\n",
       "    .dataframe tbody tr th:only-of-type {\n",
       "        vertical-align: middle;\n",
       "    }\n",
       "\n",
       "    .dataframe tbody tr th {\n",
       "        vertical-align: top;\n",
       "    }\n",
       "\n",
       "    .dataframe thead th {\n",
       "        text-align: right;\n",
       "    }\n",
       "</style>\n",
       "<table border=\"1\" class=\"dataframe\">\n",
       "  <thead>\n",
       "    <tr style=\"text-align: right;\">\n",
       "      <th></th>\n",
       "      <th>CountryName</th>\n",
       "      <th>CountryCode</th>\n",
       "      <th>Year</th>\n",
       "      <th>Total Population</th>\n",
       "      <th>Urban population (% of total)</th>\n",
       "    </tr>\n",
       "  </thead>\n",
       "  <tbody>\n",
       "    <tr>\n",
       "      <th>10</th>\n",
       "      <td>Heavily indebted poor countries (HIPC)</td>\n",
       "      <td>HPC</td>\n",
       "      <td>1960</td>\n",
       "      <td>1.624912e+08</td>\n",
       "      <td>12.236046</td>\n",
       "    </tr>\n",
       "    <tr>\n",
       "      <th>11</th>\n",
       "      <td>High income</td>\n",
       "      <td>HIC</td>\n",
       "      <td>1960</td>\n",
       "      <td>9.075975e+08</td>\n",
       "      <td>62.680332</td>\n",
       "    </tr>\n",
       "    <tr>\n",
       "      <th>12</th>\n",
       "      <td>High income: nonOECD</td>\n",
       "      <td>NOC</td>\n",
       "      <td>1960</td>\n",
       "      <td>1.866767e+08</td>\n",
       "      <td>56.107863</td>\n",
       "    </tr>\n",
       "    <tr>\n",
       "      <th>13</th>\n",
       "      <td>High income: OECD</td>\n",
       "      <td>OEC</td>\n",
       "      <td>1960</td>\n",
       "      <td>7.209208e+08</td>\n",
       "      <td>64.285435</td>\n",
       "    </tr>\n",
       "    <tr>\n",
       "      <th>14</th>\n",
       "      <td>Latin America &amp; Caribbean (all income levels)</td>\n",
       "      <td>LCN</td>\n",
       "      <td>1960</td>\n",
       "      <td>2.205642e+08</td>\n",
       "      <td>49.284688</td>\n",
       "    </tr>\n",
       "    <tr>\n",
       "      <th>15</th>\n",
       "      <td>Latin America &amp; Caribbean (developing only)</td>\n",
       "      <td>LAC</td>\n",
       "      <td>1960</td>\n",
       "      <td>1.776822e+08</td>\n",
       "      <td>44.863308</td>\n",
       "    </tr>\n",
       "    <tr>\n",
       "      <th>16</th>\n",
       "      <td>Least developed countries: UN classification</td>\n",
       "      <td>LDC</td>\n",
       "      <td>1960</td>\n",
       "      <td>2.410728e+08</td>\n",
       "      <td>9.616261</td>\n",
       "    </tr>\n",
       "    <tr>\n",
       "      <th>17</th>\n",
       "      <td>Low &amp; middle income</td>\n",
       "      <td>LMY</td>\n",
       "      <td>1960</td>\n",
       "      <td>2.127373e+09</td>\n",
       "      <td>21.272894</td>\n",
       "    </tr>\n",
       "    <tr>\n",
       "      <th>18</th>\n",
       "      <td>Low income</td>\n",
       "      <td>LIC</td>\n",
       "      <td>1960</td>\n",
       "      <td>1.571884e+08</td>\n",
       "      <td>11.498396</td>\n",
       "    </tr>\n",
       "    <tr>\n",
       "      <th>19</th>\n",
       "      <td>Lower middle income</td>\n",
       "      <td>LMC</td>\n",
       "      <td>1960</td>\n",
       "      <td>9.429116e+08</td>\n",
       "      <td>19.810513</td>\n",
       "    </tr>\n",
       "  </tbody>\n",
       "</table>\n",
       "</div>"
      ],
      "text/plain": [
       "                                      CountryName CountryCode  Year  \\\n",
       "10         Heavily indebted poor countries (HIPC)         HPC  1960   \n",
       "11                                    High income         HIC  1960   \n",
       "12                           High income: nonOECD         NOC  1960   \n",
       "13                              High income: OECD         OEC  1960   \n",
       "14  Latin America & Caribbean (all income levels)         LCN  1960   \n",
       "15    Latin America & Caribbean (developing only)         LAC  1960   \n",
       "16   Least developed countries: UN classification         LDC  1960   \n",
       "17                            Low & middle income         LMY  1960   \n",
       "18                                     Low income         LIC  1960   \n",
       "19                            Lower middle income         LMC  1960   \n",
       "\n",
       "    Total Population  Urban population (% of total)  \n",
       "10      1.624912e+08                      12.236046  \n",
       "11      9.075975e+08                      62.680332  \n",
       "12      1.866767e+08                      56.107863  \n",
       "13      7.209208e+08                      64.285435  \n",
       "14      2.205642e+08                      49.284688  \n",
       "15      1.776822e+08                      44.863308  \n",
       "16      2.410728e+08                       9.616261  \n",
       "17      2.127373e+09                      21.272894  \n",
       "18      1.571884e+08                      11.498396  \n",
       "19      9.429116e+08                      19.810513  "
      ]
     },
     "execution_count": 156,
     "metadata": {},
     "output_type": "execute_result"
    }
   ],
   "source": [
    "next(df_reader)"
   ]
  },
  {
   "cell_type": "code",
   "execution_count": 157,
   "metadata": {},
   "outputs": [
    {
     "data": {
      "text/html": [
       "<div>\n",
       "<style scoped>\n",
       "    .dataframe tbody tr th:only-of-type {\n",
       "        vertical-align: middle;\n",
       "    }\n",
       "\n",
       "    .dataframe tbody tr th {\n",
       "        vertical-align: top;\n",
       "    }\n",
       "\n",
       "    .dataframe thead th {\n",
       "        text-align: right;\n",
       "    }\n",
       "</style>\n",
       "<table border=\"1\" class=\"dataframe\">\n",
       "  <thead>\n",
       "    <tr style=\"text-align: right;\">\n",
       "      <th></th>\n",
       "      <th>CountryName</th>\n",
       "      <th>CountryCode</th>\n",
       "      <th>Year</th>\n",
       "      <th>Total Population</th>\n",
       "      <th>Urban population (% of total)</th>\n",
       "    </tr>\n",
       "  </thead>\n",
       "  <tbody>\n",
       "    <tr>\n",
       "      <th>20</th>\n",
       "      <td>Middle East &amp; North Africa (all income levels)</td>\n",
       "      <td>MEA</td>\n",
       "      <td>1960</td>\n",
       "      <td>1.055126e+08</td>\n",
       "      <td>34.951334</td>\n",
       "    </tr>\n",
       "    <tr>\n",
       "      <th>21</th>\n",
       "      <td>Middle East &amp; North Africa (developing only)</td>\n",
       "      <td>MNA</td>\n",
       "      <td>1960</td>\n",
       "      <td>9.786942e+07</td>\n",
       "      <td>33.875012</td>\n",
       "    </tr>\n",
       "    <tr>\n",
       "      <th>22</th>\n",
       "      <td>Middle income</td>\n",
       "      <td>MIC</td>\n",
       "      <td>1960</td>\n",
       "      <td>1.970185e+09</td>\n",
       "      <td>22.053114</td>\n",
       "    </tr>\n",
       "    <tr>\n",
       "      <th>23</th>\n",
       "      <td>North America</td>\n",
       "      <td>NAC</td>\n",
       "      <td>1960</td>\n",
       "      <td>1.986244e+08</td>\n",
       "      <td>69.918403</td>\n",
       "    </tr>\n",
       "    <tr>\n",
       "      <th>24</th>\n",
       "      <td>OECD members</td>\n",
       "      <td>OED</td>\n",
       "      <td>1960</td>\n",
       "      <td>7.866482e+08</td>\n",
       "      <td>62.480915</td>\n",
       "    </tr>\n",
       "    <tr>\n",
       "      <th>25</th>\n",
       "      <td>Other small states</td>\n",
       "      <td>OSS</td>\n",
       "      <td>1960</td>\n",
       "      <td>6.590560e+06</td>\n",
       "      <td>14.337844</td>\n",
       "    </tr>\n",
       "    <tr>\n",
       "      <th>26</th>\n",
       "      <td>Pacific island small states</td>\n",
       "      <td>PSS</td>\n",
       "      <td>1960</td>\n",
       "      <td>8.613780e+05</td>\n",
       "      <td>22.043762</td>\n",
       "    </tr>\n",
       "    <tr>\n",
       "      <th>27</th>\n",
       "      <td>Small states</td>\n",
       "      <td>SST</td>\n",
       "      <td>1960</td>\n",
       "      <td>1.164275e+07</td>\n",
       "      <td>21.120573</td>\n",
       "    </tr>\n",
       "    <tr>\n",
       "      <th>28</th>\n",
       "      <td>South Asia</td>\n",
       "      <td>SAS</td>\n",
       "      <td>1960</td>\n",
       "      <td>5.720361e+08</td>\n",
       "      <td>16.735545</td>\n",
       "    </tr>\n",
       "    <tr>\n",
       "      <th>29</th>\n",
       "      <td>Sub-Saharan Africa (all income levels)</td>\n",
       "      <td>SSF</td>\n",
       "      <td>1960</td>\n",
       "      <td>2.282688e+08</td>\n",
       "      <td>14.631387</td>\n",
       "    </tr>\n",
       "  </tbody>\n",
       "</table>\n",
       "</div>"
      ],
      "text/plain": [
       "                                       CountryName CountryCode  Year  \\\n",
       "20  Middle East & North Africa (all income levels)         MEA  1960   \n",
       "21    Middle East & North Africa (developing only)         MNA  1960   \n",
       "22                                   Middle income         MIC  1960   \n",
       "23                                   North America         NAC  1960   \n",
       "24                                    OECD members         OED  1960   \n",
       "25                              Other small states         OSS  1960   \n",
       "26                     Pacific island small states         PSS  1960   \n",
       "27                                    Small states         SST  1960   \n",
       "28                                      South Asia         SAS  1960   \n",
       "29          Sub-Saharan Africa (all income levels)         SSF  1960   \n",
       "\n",
       "    Total Population  Urban population (% of total)  \n",
       "20      1.055126e+08                      34.951334  \n",
       "21      9.786942e+07                      33.875012  \n",
       "22      1.970185e+09                      22.053114  \n",
       "23      1.986244e+08                      69.918403  \n",
       "24      7.866482e+08                      62.480915  \n",
       "25      6.590560e+06                      14.337844  \n",
       "26      8.613780e+05                      22.043762  \n",
       "27      1.164275e+07                      21.120573  \n",
       "28      5.720361e+08                      16.735545  \n",
       "29      2.282688e+08                      14.631387  "
      ]
     },
     "execution_count": 157,
     "metadata": {},
     "output_type": "execute_result"
    }
   ],
   "source": [
    "next(df_reader)"
   ]
  },
  {
   "cell_type": "markdown",
   "metadata": {},
   "source": [
    "<p id ='Waitldic('><p>\n",
    "### Writing an iterator to load data in chunks (1)\n",
    "In this exercise, you will read in a file using a bigger DataFrame chunk size and then process the data from the first chunk."
   ]
  },
  {
   "cell_type": "code",
   "execution_count": 168,
   "metadata": {},
   "outputs": [],
   "source": [
    "urb_pop_reader = pd.read_csv('./data/world_ind_pop_data2.csv', chunksize= 1000, index_col='CountryCode')"
   ]
  },
  {
   "cell_type": "code",
   "execution_count": 169,
   "metadata": {},
   "outputs": [
    {
     "data": {
      "text/plain": [
       "<pandas.io.parsers.TextFileReader at 0x10f9fe080>"
      ]
     },
     "execution_count": 169,
     "metadata": {},
     "output_type": "execute_result"
    }
   ],
   "source": [
    "urb_pop_reader"
   ]
  },
  {
   "cell_type": "code",
   "execution_count": 170,
   "metadata": {},
   "outputs": [],
   "source": [
    "df_urb_pop = next(urb_pop_reader)"
   ]
  },
  {
   "cell_type": "code",
   "execution_count": 171,
   "metadata": {},
   "outputs": [
    {
     "data": {
      "text/html": [
       "<div>\n",
       "<style scoped>\n",
       "    .dataframe tbody tr th:only-of-type {\n",
       "        vertical-align: middle;\n",
       "    }\n",
       "\n",
       "    .dataframe tbody tr th {\n",
       "        vertical-align: top;\n",
       "    }\n",
       "\n",
       "    .dataframe thead th {\n",
       "        text-align: right;\n",
       "    }\n",
       "</style>\n",
       "<table border=\"1\" class=\"dataframe\">\n",
       "  <thead>\n",
       "    <tr style=\"text-align: right;\">\n",
       "      <th></th>\n",
       "      <th>CountryName</th>\n",
       "      <th>Year</th>\n",
       "      <th>Total Population</th>\n",
       "      <th>Urban population (% of total)</th>\n",
       "    </tr>\n",
       "    <tr>\n",
       "      <th>CountryCode</th>\n",
       "      <th></th>\n",
       "      <th></th>\n",
       "      <th></th>\n",
       "      <th></th>\n",
       "    </tr>\n",
       "  </thead>\n",
       "  <tbody>\n",
       "    <tr>\n",
       "      <th>ARB</th>\n",
       "      <td>Arab World</td>\n",
       "      <td>1960</td>\n",
       "      <td>9.249590e+07</td>\n",
       "      <td>31.285384</td>\n",
       "    </tr>\n",
       "    <tr>\n",
       "      <th>CSS</th>\n",
       "      <td>Caribbean small states</td>\n",
       "      <td>1960</td>\n",
       "      <td>4.190810e+06</td>\n",
       "      <td>31.597490</td>\n",
       "    </tr>\n",
       "    <tr>\n",
       "      <th>CEB</th>\n",
       "      <td>Central Europe and the Baltics</td>\n",
       "      <td>1960</td>\n",
       "      <td>9.140158e+07</td>\n",
       "      <td>44.507921</td>\n",
       "    </tr>\n",
       "    <tr>\n",
       "      <th>EAS</th>\n",
       "      <td>East Asia &amp; Pacific (all income levels)</td>\n",
       "      <td>1960</td>\n",
       "      <td>1.042475e+09</td>\n",
       "      <td>22.471132</td>\n",
       "    </tr>\n",
       "    <tr>\n",
       "      <th>EAP</th>\n",
       "      <td>East Asia &amp; Pacific (developing only)</td>\n",
       "      <td>1960</td>\n",
       "      <td>8.964930e+08</td>\n",
       "      <td>16.917679</td>\n",
       "    </tr>\n",
       "  </tbody>\n",
       "</table>\n",
       "</div>"
      ],
      "text/plain": [
       "                                         CountryName  Year  Total Population  \\\n",
       "CountryCode                                                                    \n",
       "ARB                                       Arab World  1960      9.249590e+07   \n",
       "CSS                           Caribbean small states  1960      4.190810e+06   \n",
       "CEB                   Central Europe and the Baltics  1960      9.140158e+07   \n",
       "EAS          East Asia & Pacific (all income levels)  1960      1.042475e+09   \n",
       "EAP            East Asia & Pacific (developing only)  1960      8.964930e+08   \n",
       "\n",
       "             Urban population (% of total)  \n",
       "CountryCode                                 \n",
       "ARB                              31.285384  \n",
       "CSS                              31.597490  \n",
       "CEB                              44.507921  \n",
       "EAS                              22.471132  \n",
       "EAP                              16.917679  "
      ]
     },
     "execution_count": 171,
     "metadata": {},
     "output_type": "execute_result"
    }
   ],
   "source": [
    "df_urb_pop.head()"
   ]
  },
  {
   "cell_type": "code",
   "execution_count": 172,
   "metadata": {},
   "outputs": [
    {
     "name": "stdout",
     "output_type": "stream",
     "text": [
      "<class 'pandas.core.frame.DataFrame'>\n",
      "Index: 1000 entries, ARB to UMC\n",
      "Data columns (total 4 columns):\n",
      "CountryName                      1000 non-null object\n",
      "Year                             1000 non-null int64\n",
      "Total Population                 1000 non-null float64\n",
      "Urban population (% of total)    1000 non-null float64\n",
      "dtypes: float64(2), int64(1), object(1)\n",
      "memory usage: 39.1+ KB\n"
     ]
    }
   ],
   "source": [
    "df_urb_pop.info()"
   ]
  },
  {
   "cell_type": "code",
   "execution_count": 176,
   "metadata": {},
   "outputs": [
    {
     "data": {
      "text/html": [
       "<div>\n",
       "<style scoped>\n",
       "    .dataframe tbody tr th:only-of-type {\n",
       "        vertical-align: middle;\n",
       "    }\n",
       "\n",
       "    .dataframe tbody tr th {\n",
       "        vertical-align: top;\n",
       "    }\n",
       "\n",
       "    .dataframe thead th {\n",
       "        text-align: right;\n",
       "    }\n",
       "</style>\n",
       "<table border=\"1\" class=\"dataframe\">\n",
       "  <thead>\n",
       "    <tr style=\"text-align: right;\">\n",
       "      <th></th>\n",
       "      <th>CountryName</th>\n",
       "      <th>Year</th>\n",
       "      <th>Total Population</th>\n",
       "      <th>Urban population (% of total)</th>\n",
       "    </tr>\n",
       "    <tr>\n",
       "      <th>CountryCode</th>\n",
       "      <th></th>\n",
       "      <th></th>\n",
       "      <th></th>\n",
       "      <th></th>\n",
       "    </tr>\n",
       "  </thead>\n",
       "  <tbody>\n",
       "    <tr>\n",
       "      <th>CEB</th>\n",
       "      <td>Central Europe and the Baltics</td>\n",
       "      <td>1960</td>\n",
       "      <td>91401583.0</td>\n",
       "      <td>44.507921</td>\n",
       "    </tr>\n",
       "    <tr>\n",
       "      <th>CEB</th>\n",
       "      <td>Central Europe and the Baltics</td>\n",
       "      <td>1961</td>\n",
       "      <td>92237118.0</td>\n",
       "      <td>45.206665</td>\n",
       "    </tr>\n",
       "    <tr>\n",
       "      <th>CEB</th>\n",
       "      <td>Central Europe and the Baltics</td>\n",
       "      <td>1962</td>\n",
       "      <td>93014890.0</td>\n",
       "      <td>45.866565</td>\n",
       "    </tr>\n",
       "    <tr>\n",
       "      <th>CEB</th>\n",
       "      <td>Central Europe and the Baltics</td>\n",
       "      <td>1963</td>\n",
       "      <td>93845749.0</td>\n",
       "      <td>46.534093</td>\n",
       "    </tr>\n",
       "    <tr>\n",
       "      <th>CEB</th>\n",
       "      <td>Central Europe and the Baltics</td>\n",
       "      <td>1964</td>\n",
       "      <td>94722599.0</td>\n",
       "      <td>47.208743</td>\n",
       "    </tr>\n",
       "  </tbody>\n",
       "</table>\n",
       "</div>"
      ],
      "text/plain": [
       "                                CountryName  Year  Total Population  \\\n",
       "CountryCode                                                           \n",
       "CEB          Central Europe and the Baltics  1960        91401583.0   \n",
       "CEB          Central Europe and the Baltics  1961        92237118.0   \n",
       "CEB          Central Europe and the Baltics  1962        93014890.0   \n",
       "CEB          Central Europe and the Baltics  1963        93845749.0   \n",
       "CEB          Central Europe and the Baltics  1964        94722599.0   \n",
       "\n",
       "             Urban population (% of total)  \n",
       "CountryCode                                 \n",
       "CEB                              44.507921  \n",
       "CEB                              45.206665  \n",
       "CEB                              45.866565  \n",
       "CEB                              46.534093  \n",
       "CEB                              47.208743  "
      ]
     },
     "execution_count": 176,
     "metadata": {},
     "output_type": "execute_result"
    }
   ],
   "source": [
    "# Check out specific country: df_pop_ceb\n",
    "df_pop_ceb = df_urb_pop.loc['CEB']\n",
    "df_pop_ceb.head()"
   ]
  },
  {
   "cell_type": "code",
   "execution_count": 177,
   "metadata": {},
   "outputs": [
    {
     "name": "stdout",
     "output_type": "stream",
     "text": [
      "[(91401583.0, 44.5079211390026), (92237118.0, 45.206665319194), (93014890.0, 45.866564696018), (93845749.0, 46.5340927663649), (94722599.0, 47.2087429803526)]\n"
     ]
    }
   ],
   "source": [
    "# Zip DataFrame columns of interest: pops\n",
    "pops = zip(df_pop_ceb['Total Population'], \n",
    "           df_pop_ceb['Urban population (% of total)'])\n",
    "\n",
    "# Turn zip object into list: pops_list\n",
    "pops_list = list(pops)\n",
    "\n",
    "# Print pops_list\n",
    "print(pops_list)"
   ]
  },
  {
   "cell_type": "code",
   "execution_count": null,
   "metadata": {},
   "outputs": [],
   "source": []
  }
 ],
 "metadata": {
  "kernelspec": {
   "display_name": "Python 3",
   "language": "python",
   "name": "python3"
  },
  "language_info": {
   "codemirror_mode": {
    "name": "ipython",
    "version": 3
   },
   "file_extension": ".py",
   "mimetype": "text/x-python",
   "name": "python",
   "nbconvert_exporter": "python",
   "pygments_lexer": "ipython3",
   "version": "3.6.5"
  }
 },
 "nbformat": 4,
 "nbformat_minor": 2
}
